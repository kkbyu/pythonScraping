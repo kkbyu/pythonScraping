{
 "cells": [
  {
   "cell_type": "markdown",
   "metadata": {},
   "source": [
    "# データの保存\n",
    "\n"
   ]
  },
  {
   "cell_type": "code",
   "execution_count": 2,
   "metadata": {
    "collapsed": false
   },
   "outputs": [
    {
     "name": "stdout",
     "output_type": "stream",
     "text": [
      "rank,city,population\n",
      "1,上海,24150000\n",
      "2,カラチ,23500000\n",
      "3,北京,21516000\n",
      "4,天津,14722100\n",
      "5,イスタンブル,14160467\n"
     ]
    }
   ],
   "source": [
    "print('rank,city,population')  # 1行目のヘッダーを書き出す。\n",
    "\n",
    "# 2行目以降を書き出す。join()メソッドの引数に渡すlistの要素はstrでなければならないことに注意。\n",
    "print(','.join(['1', '上海', '24150000']))\n",
    "print(','.join(['2', 'カラチ', '23500000']))\n",
    "print(','.join(['3', '北京', '21516000']))\n",
    "print(','.join(['4', '天津', '14722100']))\n",
    "print(','.join(['5', 'イスタンブル', '14160467']))"
   ]
  },
  {
   "cell_type": "code",
   "execution_count": 4,
   "metadata": {
    "collapsed": true
   },
   "outputs": [],
   "source": [
    "# CSV\n",
    "import csv\n",
    "\n",
    "# ファイルを書き込み用に開く。newline=''として改行コードの自動変換を抑制する。\n",
    "with open('top_cities.csv', 'w', newline='') as f:\n",
    "    writer = csv.writer(f)  # csv.writerはファイルオブジェクトを引数に指定する。\n",
    "    writer.writerow(['rank', 'city', 'population'])  # 1行目のヘッダーを出力する。\n",
    "    # writerows()で複数の行を一度に出力する。引数はリストのリスト。\n",
    "    writer.writerows([\n",
    "        [1, '上海', 24150000],\n",
    "        [2, 'カラチ', 23500000],\n",
    "        [3, '北京', 21516000],\n",
    "        [4, '天津', 14722100],\n",
    "        [5, 'イスタンブル', 14160467],\n",
    "    ])\n"
   ]
  },
  {
   "cell_type": "code",
   "execution_count": 6,
   "metadata": {
    "collapsed": false
   },
   "outputs": [
    {
     "name": "stdout",
     "output_type": "stream",
     "text": [
      "ch1_2.ipynb              ch2_5.ipynb              index.html.1\r\n",
      "ch1_3.ipynb              dp                       rss2.xml\r\n",
      "ch1_4.ipynb              dp.1                     \u001b[34msample.scraping-book.com\u001b[m\u001b[m\r\n",
      "ch2-6.ipynb              dp.html                  top_cities.csv\r\n",
      "ch2_4.ipynb              index.html               \u001b[31myakei_kobe.csv\u001b[m\u001b[m\r\n"
     ]
    }
   ],
   "source": [
    "!ls"
   ]
  },
  {
   "cell_type": "code",
   "execution_count": 7,
   "metadata": {
    "collapsed": false
   },
   "outputs": [
    {
     "name": "stdout",
     "output_type": "stream",
     "text": [
      "rank,city,population\r",
      "\r\n",
      "1,上海,24150000\r",
      "\r\n",
      "2,カラチ,23500000\r",
      "\r\n",
      "3,北京,21516000\r",
      "\r\n",
      "4,天津,14722100\r",
      "\r\n",
      "5,イスタンブル,14160467\r",
      "\r\n"
     ]
    }
   ],
   "source": [
    "!cat top_cities.csv"
   ]
  },
  {
   "cell_type": "code",
   "execution_count": 10,
   "metadata": {
    "collapsed": true
   },
   "outputs": [],
   "source": [
    "import csv\n",
    "\n",
    "with open('top_cities2.csv', 'w', newline='') as f:\n",
    "    # 第1引数にファイルオブジェクトを、第2引数にフィールド名のリストを指定する。\n",
    "    writer = csv.DictWriter(f, ['rank', 'city', 'population'])\n",
    "    writer.writeheader()  # 1行目のヘッダーを出力する。\n",
    "    # writerows()で複数の行を一度に出力する。引数は辞書のリスト。\n",
    "    writer.writerows([\n",
    "        {'rank': 1, 'city': '上海', 'population': 24150000},\n",
    "        {'rank': 2, 'city': 'カラチ', 'population': 23500000},\n",
    "        {'rank': 3, 'city': '北京', 'population': 21516000},\n",
    "        {'rank': 4, 'city': '天津', 'population': 14722100},\n",
    "        {'rank': 5, 'city': 'イスタンブル', 'population': 14160467},\n",
    "    ])"
   ]
  },
  {
   "cell_type": "code",
   "execution_count": 11,
   "metadata": {
    "collapsed": false
   },
   "outputs": [
    {
     "name": "stdout",
     "output_type": "stream",
     "text": [
      "rank,city,population\r",
      "\r\n",
      "1,上海,24150000\r",
      "\r\n",
      "2,カラチ,23500000\r",
      "\r\n",
      "3,北京,21516000\r",
      "\r\n",
      "4,天津,14722100\r",
      "\r\n",
      "5,イスタンブル,14160467\r",
      "\r\n"
     ]
    }
   ],
   "source": [
    "!cat top_cities2.csv"
   ]
  },
  {
   "cell_type": "code",
   "execution_count": 15,
   "metadata": {
    "collapsed": false
   },
   "outputs": [
    {
     "data": {
      "text/plain": [
       "'[{\"rank\": 1, \"city\": \"\\\\u4e0a\\\\u6d77\", \"population\": 24150000}, {\"rank\": 2, \"city\": \"\\\\u30ab\\\\u30e9\\\\u30c1\", \"population\": 23500000}, {\"rank\": 3, \"city\": \"\\\\u5317\\\\u4eac\", \"population\": 21516000}, {\"rank\": 4, \"city\": \"\\\\u5929\\\\u6d25\", \"population\": 14722100}, {\"rank\": 5, \"city\": \"\\\\u30a4\\\\u30b9\\\\u30bf\\\\u30f3\\\\u30d6\\\\u30eb\", \"population\": 14160467}]'"
      ]
     },
     "execution_count": 15,
     "metadata": {},
     "output_type": "execute_result"
    }
   ],
   "source": [
    "import json\n",
    "\n",
    "cities = [\n",
    "    {'rank': 1, 'city': '上海', 'population': 24150000},\n",
    "    {'rank': 2, 'city': 'カラチ', 'population': 23500000},\n",
    "    {'rank': 3, 'city': '北京', 'population': 21516000},\n",
    "    {'rank': 4, 'city': '天津', 'population': 14722100},\n",
    "    {'rank': 5, 'city': 'イスタンブル', 'population': 14160467},\n",
    "]\n",
    "\n",
    "json.dumps(cities)\n"
   ]
  },
  {
   "cell_type": "code",
   "execution_count": 17,
   "metadata": {
    "collapsed": false,
    "scrolled": true
   },
   "outputs": [
    {
     "data": {
      "text/plain": [
       "'[{\"rank\": 1, \"city\": \"上海\", \"population\": 24150000}, {\"rank\": 2, \"city\": \"カラチ\", \"population\": 23500000}, {\"rank\": 3, \"city\": \"北京\", \"population\": 21516000}, {\"rank\": 4, \"city\": \"天津\", \"population\": 14722100}, {\"rank\": 5, \"city\": \"イスタンブル\", \"population\": 14160467}]'"
      ]
     },
     "execution_count": 17,
     "metadata": {},
     "output_type": "execute_result"
    }
   ],
   "source": [
    "json.dumps(cities, ensure_ascii=False)"
   ]
  },
  {
   "cell_type": "code",
   "execution_count": 19,
   "metadata": {
    "collapsed": false,
    "scrolled": true
   },
   "outputs": [
    {
     "name": "stdout",
     "output_type": "stream",
     "text": [
      "[\n",
      "  {\n",
      "    \"rank\": 1,\n",
      "    \"city\": \"上海\",\n",
      "    \"population\": 24150000\n",
      "  },\n",
      "  {\n",
      "    \"rank\": 2,\n",
      "    \"city\": \"カラチ\",\n",
      "    \"population\": 23500000\n",
      "  },\n",
      "  {\n",
      "    \"rank\": 3,\n",
      "    \"city\": \"北京\",\n",
      "    \"population\": 21516000\n",
      "  },\n",
      "  {\n",
      "    \"rank\": 4,\n",
      "    \"city\": \"天津\",\n",
      "    \"population\": 14722100\n",
      "  },\n",
      "  {\n",
      "    \"rank\": 5,\n",
      "    \"city\": \"イスタンブル\",\n",
      "    \"population\": 14160467\n",
      "  }\n",
      "]\n"
     ]
    }
   ],
   "source": [
    "print(json.dumps(cities, ensure_ascii=False, indent=2))"
   ]
  },
  {
   "cell_type": "code",
   "execution_count": 21,
   "metadata": {
    "collapsed": true
   },
   "outputs": [],
   "source": [
    "with open('top_cities.json', 'w') as f:\n",
    "    json.dump(cities, f)"
   ]
  },
  {
   "cell_type": "code",
   "execution_count": 22,
   "metadata": {
    "collapsed": false
   },
   "outputs": [
    {
     "name": "stdout",
     "output_type": "stream",
     "text": [
      "[{\"rank\": 1, \"city\": \"\\u4e0a\\u6d77\", \"population\": 24150000}, {\"rank\": 2, \"city\": \"\\u30ab\\u30e9\\u30c1\", \"population\": 23500000}, {\"rank\": 3, \"city\": \"\\u5317\\u4eac\", \"population\": 21516000}, {\"rank\": 4, \"city\": \"\\u5929\\u6d25\", \"population\": 14722100}, {\"rank\": 5, \"city\": \"\\u30a4\\u30b9\\u30bf\\u30f3\\u30d6\\u30eb\", \"population\": 14160467}]"
     ]
    }
   ],
   "source": [
    "!cat top_cities.json"
   ]
  },
  {
   "cell_type": "code",
   "execution_count": 14,
   "metadata": {
    "collapsed": false
   },
   "outputs": [
    {
     "name": "stdout",
     "output_type": "stream",
     "text": [
      "(1, '上海', 24150000)\n",
      "(2, 'カラチ', 23500000)\n",
      "(3, '北京', 21516000)\n",
      "(4, '天津', 14722100)\n",
      "(5, 'イスタンブル', 14160467)\n"
     ]
    }
   ],
   "source": [
    "import sqlite3\n",
    "\n",
    "conn = sqlite3.connect('top_cities.db')  # top_cities.dbファイルを開き、コネクションを取得する。\n",
    "\n",
    "c = conn.cursor()  # カーソルを取得する。\n",
    "# execute()メソッドでSQL文を実行する。\n",
    "# このスクリプトを何回実行しても同じ結果になるようにするため、citiesテーブルが存在する場合は削除する。\n",
    "c.execute('DROP TABLE IF EXISTS cities')\n",
    "# citiesテーブルを作成する。\n",
    "c.execute('''\n",
    "    CREATE TABLE cities (\n",
    "        rank integer,\n",
    "        city text,\n",
    "        population integer\n",
    "    )\n",
    "''')\n",
    "\n",
    "# execute()メソッドの第2引数にはSQL文のパラメーターのリストを指定できる。\n",
    "# パラメーターで置き換える場所（プレースホルダー）は?で指定する。\n",
    "c.execute('INSERT INTO cities VALUES (?, ?, ?)', (1, '上海', 24150000))\n",
    "\n",
    "# パラメーターが辞書の場合、プレースホルダーは :キー名 で指定する。\n",
    "c.execute('INSERT INTO cities VALUES (:rank, :city, :population)',\n",
    "          {'rank': 2, 'city': 'カラチ', 'population': 23500000})\n",
    "\n",
    "# executemany()メソッドでは、複数のパラメーターをリストで指定できる。\n",
    "# パラメーターの数（ここでは3つ）のSQLを順に実行できる。\n",
    "c.executemany('INSERT INTO cities VALUES (:rank, :city, :population)', [\n",
    "    {'rank': 3, 'city': '北京', 'population': 21516000},\n",
    "    {'rank': 4, 'city': '天津', 'population': 14722100},\n",
    "    {'rank': 5, 'city': 'イスタンブル', 'population': 14160467},\n",
    "])\n",
    "\n",
    "conn.commit()  # 変更をコミット（保存）する。\n",
    "\n",
    "c.execute('SELECT * FROM cities')  # 保存したデータを取得するSELECT文を実行する。\n",
    "for row in c.fetchall():  # クエリの結果はfetchall()メソッドで取得できる。\n",
    "    print(row)  # 保存したデータを表示する。\n",
    "\n",
    "conn.close()  # コネクションを閉じる。\n"
   ]
  }
 ],
 "metadata": {
  "kernelspec": {
   "display_name": "Python 3",
   "language": "python",
   "name": "python3"
  },
  "language_info": {
   "codemirror_mode": {
    "name": "ipython",
    "version": 3
   },
   "file_extension": ".py",
   "mimetype": "text/x-python",
   "name": "python",
   "nbconvert_exporter": "python",
   "pygments_lexer": "ipython3",
   "version": "3.6.0"
  }
 },
 "nbformat": 4,
 "nbformat_minor": 2
}

{
 "cells": [
  {
   "cell_type": "code",
   "execution_count": 1,
   "metadata": {
    "collapsed": true
   },
   "outputs": [],
   "source": [
    "import time\n",
    "import requests"
   ]
  },
  {
   "cell_type": "code",
   "execution_count": 2,
   "metadata": {
    "collapsed": true
   },
   "outputs": [],
   "source": [
    "def fetch(url):\n",
    "    \"\"\"\n",
    "    指定したURLを取得してResponseオブジェクトを返す。一時的なエラーが起きた場合は最大3回リトライする。\n",
    "    \"\"\"\n",
    "    max_retries = 3  # 最大で3回リトライする。\n",
    "    retries = 0  # 現在のリトライ回数を示す変数。\n",
    "    while True:\n",
    "        try:\n",
    "            print('Retrieving {0}...'.format(url))\n",
    "            response = requests.get(url)\n",
    "            print('Status: {0}'.format(response.status_code))\n",
    "            if response.status_code not in TEMPORARY_ERROR_CODES:\n",
    "                return response  # 一時的なエラーでなければresponseを返す。\n",
    "\n",
    "        except requests.exceptions.RequestException as ex:\n",
    "            # ネットワークレベルのエラー（RequestException）の場合はリトライする。\n",
    "            print('Exception occured: {0}'.format(ex))\n",
    "\n",
    "        retries += 1\n",
    "        if retries >= max_retries:\n",
    "            raise Exception('Too many retries.')  # リトライ回数の上限を超えた場合は例外を発生させる。\n",
    "\n",
    "        wait = 2**(retries - 1)  # 指数関数的なリトライ間隔を求める（**はべき乗を表す演算子）。\n",
    "        print('Waiting {0} seconds...'.format(wait))\n",
    "        time.sleep(wait)  # ウェイトを取る。"
   ]
  },
  {
   "cell_type": "code",
   "execution_count": 3,
   "metadata": {
    "collapsed": false
   },
   "outputs": [
    {
     "name": "stdout",
     "output_type": "stream",
     "text": [
      "Retrieving http://httpbin.org/status/200,404,503...\n",
      "Status: 200\n",
      "Success!\n"
     ]
    }
   ],
   "source": [
    "TEMPORARY_ERROR_CODES = (408, 500, 502, 503, 504)  # 一時的なエラーを表すステータスコード。\n",
    "\n",
    "response = fetch('http://httpbin.org/status/200,404,503')\n",
    "if 200 <= response.status_code < 300:\n",
    "  print('Success!')\n",
    "else:\n",
    "    print('Error!')"
   ]
  },
  {
   "cell_type": "code",
   "execution_count": 4,
   "metadata": {
    "collapsed": false
   },
   "outputs": [
    {
     "name": "stdout",
     "output_type": "stream",
     "text": [
      "Requirement already satisfied: retrying in /Users/kkb/.pyenv/versions/anaconda3-4.3.1/lib/python3.6/site-packages\r\n",
      "Requirement already satisfied: six>=1.7.0 in /Users/kkb/.pyenv/versions/anaconda3-4.3.1/lib/python3.6/site-packages (from retrying)\r\n"
     ]
    }
   ],
   "source": [
    "!pip install retrying"
   ]
  },
  {
   "cell_type": "code",
   "execution_count": 5,
   "metadata": {
    "collapsed": false
   },
   "outputs": [
    {
     "name": "stdout",
     "output_type": "stream",
     "text": [
      "Retrieving http://httpbin.org/status/200,404,503...\n",
      "Status: 503\n",
      "Retrieving http://httpbin.org/status/200,404,503...\n",
      "Status: 200\n",
      "Success!\n"
     ]
    }
   ],
   "source": [
    "import requests\n",
    "from retrying import retry  # pip install retrying\n",
    "\n",
    "TEMPORARY_ERROR_CODES = (408, 500, 502, 503, 504)  # 一時的なエラーを表すステータスコード。\n",
    "\n",
    "\n",
    "def main():\n",
    "    \"\"\"\n",
    "    メインとなる処理。\n",
    "    \"\"\"\n",
    "    response = fetch('http://httpbin.org/status/200,404,503')\n",
    "    if 200 <= response.status_code < 300:\n",
    "        print('Success!')\n",
    "    else:\n",
    "        print('Error!')\n",
    "\n",
    "# stop_max_attempt_numberは最大リトライ回数を指定する。\n",
    "# wait_exponential_multiplierは指数関数的なウェイトを取る場合の、初回のウェイトをミリ秒単位で指定する。\n",
    "@retry(stop_max_attempt_number=3, wait_exponential_multiplier=1000)\n",
    "def fetch(url):\n",
    "    \"\"\"\n",
    "    指定したURLを取得してResponseオブジェクトを返す。一時的なエラーが起きた場合は最大3回リトライする。\n",
    "    \"\"\"\n",
    "    print('Retrieving {0}...'.format(url))\n",
    "    response = requests.get(url)\n",
    "    print('Status: {0}'.format(response.status_code))\n",
    "    if response.status_code not in TEMPORARY_ERROR_CODES:\n",
    "        return response  # 一時的なエラーでなければresponseを返す。\n",
    "\n",
    "    # 一時的なエラーの場合は例外を発生させてリトライする。\n",
    "    raise Exception('Temporary Error: {0}'.format(response.status_code))\n",
    "\n",
    "if __name__ == '__main__':\n",
    "    main()"
   ]
  },
  {
   "cell_type": "code",
   "execution_count": 6,
   "metadata": {
    "collapsed": false
   },
   "outputs": [
    {
     "name": "stdout",
     "output_type": "stream",
     "text": [
      "Requirement already satisfied: CacheControl in /Users/kkb/.pyenv/versions/anaconda3-4.3.1/lib/python3.6/site-packages\r\n",
      "Requirement already satisfied: msgpack-python in /Users/kkb/.pyenv/versions/anaconda3-4.3.1/lib/python3.6/site-packages (from CacheControl)\r\n",
      "Requirement already satisfied: requests in /Users/kkb/.pyenv/versions/anaconda3-4.3.1/lib/python3.6/site-packages (from CacheControl)\r\n"
     ]
    }
   ],
   "source": [
    "!pip install CacheControl"
   ]
  },
  {
   "cell_type": "code",
   "execution_count": 7,
   "metadata": {
    "collapsed": false
   },
   "outputs": [
    {
     "name": "stdout",
     "output_type": "stream",
     "text": [
      "False\n",
      "True\n"
     ]
    }
   ],
   "source": [
    "import requests\n",
    "from cachecontrol import CacheControl  # pip install CacheControl\n",
    "\n",
    "\n",
    "session = requests.session()\n",
    "cached_session = CacheControl(session)  # sessionをラップしたcached_sessionを作る。\n",
    "\n",
    "# 1回目はキャッシュがないので、サーバーから取得しキャッシュする。\n",
    "response = cached_session.get('https://docs.python.org/3/')\n",
    "print(response.from_cache)  # False\n",
    "\n",
    "# 2回目はETagとLast-Modifiedの値を使って更新されているかを確認する。\n",
    "# 更新されていない場合のコンテンツはキャッシュから取得するので高速に処理できる。\n",
    "response = cached_session.get('https://docs.python.org/3/')\n",
    "print(response.from_cache)  # True"
   ]
  },
  {
   "cell_type": "code",
   "execution_count": 8,
   "metadata": {
    "collapsed": true
   },
   "outputs": [],
   "source": [
    "import re\n",
    "\n",
    "value = '3,000'\n",
    "if not re.search(r'^[0-9,]+$', value):  # 数字とカンマのみを含む正規表現にマッチするかチェックする。\n",
    "    raise ValueError('Invalid price')  # 正しい値でない場合は例外を発生させる。"
   ]
  },
  {
   "cell_type": "code",
   "execution_count": 9,
   "metadata": {
    "collapsed": false
   },
   "outputs": [
    {
     "name": "stdout",
     "output_type": "stream",
     "text": [
      "Requirement already satisfied: voluptuous in /Users/kkb/.pyenv/versions/anaconda3-4.3.1/lib/python3.6/site-packages\r\n"
     ]
    }
   ],
   "source": [
    "!pip install voluptuous"
   ]
  },
  {
   "cell_type": "code",
   "execution_count": 10,
   "metadata": {
    "collapsed": false
   },
   "outputs": [
    {
     "ename": "MultipleInvalid",
     "evalue": "expected str for dictionary value @ data['name']",
     "output_type": "error",
     "traceback": [
      "\u001b[0;31m---------------------------------------------------------------------------\u001b[0m",
      "\u001b[0;31mMultipleInvalid\u001b[0m                           Traceback (most recent call last)",
      "\u001b[0;32m<ipython-input-10-9b2d897ddda8>\u001b[0m in \u001b[0;36m<module>\u001b[0;34m()\u001b[0m\n\u001b[1;32m     14\u001b[0m schema({\n\u001b[1;32m     15\u001b[0m     \u001b[0;34m'name'\u001b[0m\u001b[0;34m:\u001b[0m \u001b[0;32mNone\u001b[0m\u001b[0;34m,\u001b[0m\u001b[0;34m\u001b[0m\u001b[0m\n\u001b[0;32m---> 16\u001b[0;31m     \u001b[0;34m'price'\u001b[0m\u001b[0;34m:\u001b[0m \u001b[0;34m'3,000'\u001b[0m\u001b[0;34m,\u001b[0m\u001b[0;34m\u001b[0m\u001b[0m\n\u001b[0m\u001b[1;32m     17\u001b[0m })  # スキーマに適合しないので、例外MultipleInvalidが発生する。\n",
      "\u001b[0;32m/Users/kkb/.pyenv/versions/anaconda3-4.3.1/lib/python3.6/site-packages/voluptuous/schema_builder.py\u001b[0m in \u001b[0;36m__call__\u001b[0;34m(self, data)\u001b[0m\n\u001b[1;32m    219\u001b[0m         \u001b[0;34m\"\"\"Validate data against this schema.\"\"\"\u001b[0m\u001b[0;34m\u001b[0m\u001b[0m\n\u001b[1;32m    220\u001b[0m         \u001b[0;32mtry\u001b[0m\u001b[0;34m:\u001b[0m\u001b[0;34m\u001b[0m\u001b[0m\n\u001b[0;32m--> 221\u001b[0;31m             \u001b[0;32mreturn\u001b[0m \u001b[0mself\u001b[0m\u001b[0;34m.\u001b[0m\u001b[0m_compiled\u001b[0m\u001b[0;34m(\u001b[0m\u001b[0;34m[\u001b[0m\u001b[0;34m]\u001b[0m\u001b[0;34m,\u001b[0m \u001b[0mdata\u001b[0m\u001b[0;34m)\u001b[0m\u001b[0;34m\u001b[0m\u001b[0m\n\u001b[0m\u001b[1;32m    222\u001b[0m         \u001b[0;32mexcept\u001b[0m \u001b[0mer\u001b[0m\u001b[0;34m.\u001b[0m\u001b[0mMultipleInvalid\u001b[0m\u001b[0;34m:\u001b[0m\u001b[0;34m\u001b[0m\u001b[0m\n\u001b[1;32m    223\u001b[0m             \u001b[0;32mraise\u001b[0m\u001b[0;34m\u001b[0m\u001b[0m\n",
      "\u001b[0;32m/Users/kkb/.pyenv/versions/anaconda3-4.3.1/lib/python3.6/site-packages/voluptuous/schema_builder.py\u001b[0m in \u001b[0;36mvalidate_dict\u001b[0;34m(path, data)\u001b[0m\n\u001b[1;32m    536\u001b[0m \u001b[0;34m\u001b[0m\u001b[0m\n\u001b[1;32m    537\u001b[0m             \u001b[0mout\u001b[0m \u001b[0;34m=\u001b[0m \u001b[0mdata\u001b[0m\u001b[0;34m.\u001b[0m\u001b[0m__class__\u001b[0m\u001b[0;34m(\u001b[0m\u001b[0;34m)\u001b[0m\u001b[0;34m\u001b[0m\u001b[0m\n\u001b[0;32m--> 538\u001b[0;31m             \u001b[0;32mreturn\u001b[0m \u001b[0mbase_validate\u001b[0m\u001b[0;34m(\u001b[0m\u001b[0mpath\u001b[0m\u001b[0;34m,\u001b[0m \u001b[0miteritems\u001b[0m\u001b[0;34m(\u001b[0m\u001b[0mdata\u001b[0m\u001b[0;34m)\u001b[0m\u001b[0;34m,\u001b[0m \u001b[0mout\u001b[0m\u001b[0;34m)\u001b[0m\u001b[0;34m\u001b[0m\u001b[0m\n\u001b[0m\u001b[1;32m    539\u001b[0m \u001b[0;34m\u001b[0m\u001b[0m\n\u001b[1;32m    540\u001b[0m         \u001b[0;32mreturn\u001b[0m \u001b[0mvalidate_dict\u001b[0m\u001b[0;34m\u001b[0m\u001b[0m\n",
      "\u001b[0;32m/Users/kkb/.pyenv/versions/anaconda3-4.3.1/lib/python3.6/site-packages/voluptuous/schema_builder.py\u001b[0m in \u001b[0;36mvalidate_mapping\u001b[0;34m(path, iterable, out)\u001b[0m\n\u001b[1;32m    368\u001b[0m                 \u001b[0merrors\u001b[0m\u001b[0;34m.\u001b[0m\u001b[0mappend\u001b[0m\u001b[0;34m(\u001b[0m\u001b[0mer\u001b[0m\u001b[0;34m.\u001b[0m\u001b[0mRequiredFieldInvalid\u001b[0m\u001b[0;34m(\u001b[0m\u001b[0mmsg\u001b[0m\u001b[0;34m,\u001b[0m \u001b[0mpath\u001b[0m \u001b[0;34m+\u001b[0m \u001b[0;34m[\u001b[0m\u001b[0mkey\u001b[0m\u001b[0;34m]\u001b[0m\u001b[0;34m)\u001b[0m\u001b[0;34m)\u001b[0m\u001b[0;34m\u001b[0m\u001b[0m\n\u001b[1;32m    369\u001b[0m             \u001b[0;32mif\u001b[0m \u001b[0merrors\u001b[0m\u001b[0;34m:\u001b[0m\u001b[0;34m\u001b[0m\u001b[0m\n\u001b[0;32m--> 370\u001b[0;31m                 \u001b[0;32mraise\u001b[0m \u001b[0mer\u001b[0m\u001b[0;34m.\u001b[0m\u001b[0mMultipleInvalid\u001b[0m\u001b[0;34m(\u001b[0m\u001b[0merrors\u001b[0m\u001b[0;34m)\u001b[0m\u001b[0;34m\u001b[0m\u001b[0m\n\u001b[0m\u001b[1;32m    371\u001b[0m \u001b[0;34m\u001b[0m\u001b[0m\n\u001b[1;32m    372\u001b[0m             \u001b[0;32mreturn\u001b[0m \u001b[0mout\u001b[0m\u001b[0;34m\u001b[0m\u001b[0m\n",
      "\u001b[0;31mMultipleInvalid\u001b[0m: expected str for dictionary value @ data['name']"
     ]
    }
   ],
   "source": [
    "from voluptuous import Schema, Match\n",
    "# 次の4つのルールを持つスキーマを定義する。\n",
    "schema = Schema({  # ルール1：オブジェクトはdictである。\n",
    "    'name': str,   # ルール2：nameの値は文字列である。\n",
    "    'price': Match(r'^[0-9,]+$'),  # ルール3：priceの値は正規表現にマッチする。\n",
    "}, required=True)  # ルール4：dictのキーは必須である。\n",
    "\n",
    "# Schemaオブジェクトを関数として呼び出すと、引数のオブジェクトを対象にバリデーションを行う。\n",
    "schema({\n",
    "    'name': 'ぶどう',\n",
    "    'price': '3,000',\n",
    "})  # スキーマに適合するので例外は発生しない。\n",
    "\n",
    "schema({\n",
    "    'name': None,\n",
    "    'price': '3,000',\n",
    "})  # スキーマに適合しないので、例外MultipleInvalidが発生する。"
   ]
  }
 ],
 "metadata": {
  "kernelspec": {
   "display_name": "Python 3",
   "language": "python",
   "name": "python3"
  },
  "language_info": {
   "codemirror_mode": {
    "name": "ipython",
    "version": 3
   },
   "file_extension": ".py",
   "mimetype": "text/x-python",
   "name": "python",
   "nbconvert_exporter": "python",
   "pygments_lexer": "ipython3",
   "version": "3.6.0"
  }
 },
 "nbformat": 4,
 "nbformat_minor": 2
}

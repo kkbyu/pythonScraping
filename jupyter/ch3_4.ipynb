{
 "cells": [
  {
   "cell_type": "markdown",
   "metadata": {},
   "source": [
    "# RSSのスクレイピング"
   ]
  },
  {
   "cell_type": "code",
   "execution_count": 1,
   "metadata": {
    "collapsed": false
   },
   "outputs": [
    {
     "name": "stdout",
     "output_type": "stream",
     "text": [
      "Requirement already satisfied: feedparser in /Users/kkb/.pyenv/versions/anaconda3-4.3.1/lib/python3.6/site-packages\r\n"
     ]
    }
   ],
   "source": [
    "!pip install feedparser"
   ]
  },
  {
   "cell_type": "code",
   "execution_count": 2,
   "metadata": {
    "collapsed": true
   },
   "outputs": [],
   "source": [
    "import feedparser"
   ]
  },
  {
   "cell_type": "code",
   "execution_count": 3,
   "metadata": {
    "collapsed": true
   },
   "outputs": [],
   "source": [
    "d = feedparser.parse('http://b.hatena.ne.jp/hotentry/it.rss')"
   ]
  },
  {
   "cell_type": "code",
   "execution_count": 4,
   "metadata": {
    "collapsed": false
   },
   "outputs": [
    {
     "data": {
      "text/plain": [
       "feedparser.FeedParserDict"
      ]
     },
     "execution_count": 4,
     "metadata": {},
     "output_type": "execute_result"
    }
   ],
   "source": [
    "type(d)"
   ]
  },
  {
   "cell_type": "code",
   "execution_count": 5,
   "metadata": {
    "collapsed": false
   },
   "outputs": [
    {
     "data": {
      "text/plain": [
       "'rss10'"
      ]
     },
     "execution_count": 5,
     "metadata": {},
     "output_type": "execute_result"
    }
   ],
   "source": [
    "d.version #この場合はRSS1.0"
   ]
  },
  {
   "cell_type": "code",
   "execution_count": 6,
   "metadata": {
    "collapsed": false
   },
   "outputs": [
    {
     "data": {
      "text/plain": [
       "'はてなブックマーク - 人気エントリー - テクノロジー'"
      ]
     },
     "execution_count": 6,
     "metadata": {},
     "output_type": "execute_result"
    }
   ],
   "source": [
    "d.feed.title"
   ]
  },
  {
   "cell_type": "code",
   "execution_count": 7,
   "metadata": {
    "collapsed": false
   },
   "outputs": [
    {
     "data": {
      "text/plain": [
       "'http://b.hatena.ne.jp/hotentry/it'"
      ]
     },
     "execution_count": 7,
     "metadata": {},
     "output_type": "execute_result"
    }
   ],
   "source": [
    "d.feed.link"
   ]
  },
  {
   "cell_type": "code",
   "execution_count": 8,
   "metadata": {
    "collapsed": false
   },
   "outputs": [
    {
     "data": {
      "text/plain": [
       "'最近の人気エントリー - テクノロジー'"
      ]
     },
     "execution_count": 8,
     "metadata": {},
     "output_type": "execute_result"
    }
   ],
   "source": [
    "d.feed.description"
   ]
  },
  {
   "cell_type": "code",
   "execution_count": 9,
   "metadata": {
    "collapsed": false
   },
   "outputs": [
    {
     "data": {
      "text/plain": [
       "30"
      ]
     },
     "execution_count": 9,
     "metadata": {},
     "output_type": "execute_result"
    }
   ],
   "source": [
    "len(d.entries)"
   ]
  },
  {
   "cell_type": "code",
   "execution_count": 10,
   "metadata": {
    "collapsed": false
   },
   "outputs": [
    {
     "data": {
      "text/plain": [
       "'速報：Google Pixel Buds発表。40か国語リアルタイム翻訳対応の左右分離じゃないワイヤレスイヤホン - Engadget 日本版'"
      ]
     },
     "execution_count": 10,
     "metadata": {},
     "output_type": "execute_result"
    }
   ],
   "source": [
    "d.entries[0].title"
   ]
  },
  {
   "cell_type": "code",
   "execution_count": 11,
   "metadata": {
    "collapsed": false
   },
   "outputs": [
    {
     "data": {
      "text/plain": [
       "'http://japanese.engadget.com/2017/10/04/google-pixel-buds-40/'"
      ]
     },
     "execution_count": 11,
     "metadata": {},
     "output_type": "execute_result"
    }
   ],
   "source": [
    "d.entries[0].link"
   ]
  },
  {
   "cell_type": "code",
   "execution_count": 12,
   "metadata": {
    "collapsed": false
   },
   "outputs": [
    {
     "data": {
      "text/plain": [
       "'GoogleのPixel 2発表スペシャルイベントより。Googleがうわさにあがっていたイヤホン製品Pixel Budsを発表しました。その形状は、やはり予想(希望的観測)されていた完全ワイヤレスではなく、左右ユニットがケーブルでつながっているタイプのBluetoothイヤホンでした。 大きな特徴は、日本語を含む40か国語に対応するリアルタイム翻訳機能「Google Translate on P...'"
      ]
     },
     "execution_count": 12,
     "metadata": {},
     "output_type": "execute_result"
    }
   ],
   "source": [
    "d.entries[0].description"
   ]
  },
  {
   "cell_type": "code",
   "execution_count": 13,
   "metadata": {
    "collapsed": false
   },
   "outputs": [
    {
     "data": {
      "text/plain": [
       "'2017-10-05T03:39:47+09:00'"
      ]
     },
     "execution_count": 13,
     "metadata": {},
     "output_type": "execute_result"
    }
   ],
   "source": [
    "d.entries[0].updated"
   ]
  },
  {
   "cell_type": "code",
   "execution_count": 14,
   "metadata": {
    "collapsed": false
   },
   "outputs": [
    {
     "data": {
      "text/plain": [
       "time.struct_time(tm_year=2017, tm_mon=10, tm_mday=4, tm_hour=18, tm_min=39, tm_sec=47, tm_wday=2, tm_yday=277, tm_isdst=0)"
      ]
     },
     "execution_count": 14,
     "metadata": {},
     "output_type": "execute_result"
    }
   ],
   "source": [
    "d.entries[0].updated_parsed # 要素の更新日時をパースして time.struct_timeを取得"
   ]
  },
  {
   "cell_type": "code",
   "execution_count": 15,
   "metadata": {
    "collapsed": false
   },
   "outputs": [
    {
     "name": "stdout",
     "output_type": "stream",
     "text": [
      "http://japanese.engadget.com/2017/10/04/google-pixel-buds-40/ 速報：Google Pixel Buds発表。40か国語リアルタイム翻訳対応の左右分離じゃないワイヤレスイヤホン - Engadget 日本版\n",
      "https://kindou.info/88457.html 【速報】Amazonプライム会員なら追加料金ナシでKindle読み放題『PrimeReading』が日本でスタート - きんどう\n",
      "http://tanaka.sakura.ad.jp/2017/10/internet-with-web-since-1993.html やっぱり世の中は1993年を起点に変わった気がする - さくらインターネット創業日記\n",
      "http://japanese.engadget.com/2017/10/04/google-clips/ 速報：Google、AIカメラ Clipsを発表。家族やペットを認識、自動で決定的瞬間を残す新しいカメラ - Engadget 日本版\n",
      "http://in.fablic.co.jp/entry/2017/10/05/090000 レビューしてもらいやすいPRの書き方 - inFablic | Fablic, inc. Developer's Blog.\n",
      "http://japanese.engadget.com/2017/10/04/google-pixel-2-pixel-2-xl/ 速報：Google Pixel 2、Pixel 2 XL発表。今回もスマホ史上最高評価のカメラを搭載 - Engadget 日本版\n",
      "http://www.itmedia.co.jp/news/articles/1710/04/news120.html Google、プログラミング不要で“機械学習”試せるサイト公開 - ITmedia NEWS\n",
      "http://internet.watch.impress.co.jp/docs/news/1084547.html Amazonプライム会員が電子書籍を無料で読み放題になる「Prime Reading」提供開始 -INTERNET Watch\n",
      "https://www.pixiv.net/howto [pixiv]イラストの描き方や絵の塗り方を上達したい方向け素材や講座\n",
      "http://www.m3tech.blog/entry/2017/10/05/103507 Railsでクレカ決済付きECサイトを作ってみよう！【勉強会イベント紹介】 - エムスリーテックブログ\n",
      "http://ryota-ka.hatenablog.com/entry/2017/10/05/110000 開発効率向上 tips vol.1 -ターミナル・シェル編- - ryota-ka's blog\n",
      "http://av.watch.impress.co.jp/docs/news/1084520.html Googleのワイヤレスイヤフォン「Pixel Buds」。日本語を含む40言語をリアルタイム翻訳 - AV Watch\n",
      "http://ledsun.hatenablog.com/entry/2017/10/04/120055 優秀なプログラマになるために - @ledsun blog\n",
      "http://itchyny.hatenablog.com/entry/2017/10/05/090000 Mackerelのプラグインを書く楽しみ ― Rustでプラグインを書くためのライブラリを作りました！ - プログラムモグモグ\n",
      "http://jp.wsj.com/articles/SB12094166559930614459204583431790207292264 ドローンに現れた天敵、「空の覇権」譲らず - WSJ\n",
      "http://www.lifehackit.work/entry/2017/10/04/C%E8%A8%80%E8%AA%9E%E3%81%AE%E3%83%9D%E3%82%A4%E3%83%B3%E3%82%BF%E3%81%8C%E3%82%8F%E3%81%8B%E3%82%89%E3%81%AA%E3%81%84%E3%81%A8%E3%81%8D%E3%81%AB%E5%8F%82%E8%80%83%E3%81%AB%E3%81%97%E3%81%9F%E3%81%84 C言語のポインタがわからないときに参考にしたい３つのサイト - ライフをハックしたい\n",
      "http://www.tamashii-yusaburuyo.work/entry/%E3%83%96%E3%83%AD%E3%82%B0%E3%81%AB%E3%83%AA%E3%82%B9%E3%83%88%E3%82%84%E8%A1%A8%E3%82%92%E4%BD%9C%E6%88%90%E3%81%99%E3%82%8B%E6%96%B9%E6%B3%95 【図解あり！】簡単なブログにリストや表を作成する方法【リストの表示方法】 - 魂を揺さぶるヨ！\n",
      "http://blog.fakestarbaby.com/entry/2017/10/05/085106 esa の記事内で喋ってる感を出そう (\\( ⁰⊖⁰)/) - FAKELOG\n",
      "http://jp.techcrunch.com/2017/10/05/20171004google-clips-is-a-new-249-smart-camera-that-you-can-wear/ Google Clipsはウェラブルなスマートカメラ――予想外の新製品に驚きの声 | TechCrunch Japan\n",
      "http://abouthiroppy.hatenablog.jp/entry/2017/10/05/150951 Pipeline Operatorがstage-1へ - 技術探し\n",
      "http://tocotocokumachan.hatenablog.com/entry/2017/10/05/070000 ブログの絵メイキング - くま吉のトコトコ絵日記\n",
      "https://prtimes.jp/main/html/rd/p/000000744.000004612.html Amazon、プライム会員向けの新サービス「Prime Reading」を日本で開始｜アマゾンジャパン合同会社のプレスリリース\n",
      "http://kabumatome.doorblog.jp/archives/65903378.html 突然かつ急激な産業革命的パラダイムシフト、翻訳屋のロゼッタが機械翻訳の飛躍的な向上に白旗宣言 : 市況かぶ全力２階建\n",
      "http://gigazine.net/news/20171005-superboss/ 従業員の才能を爆発させるには「会社に人を長く留める」戦略を捨てる必要がある - GIGAZINE\n",
      "https://www.gizmodo.jp/2017/10/overview-google-new-gadget.html 怒濤の新製品ラッシュ！ Googleイベントで発表されたモノまとめ | ギズモード・ジャパン\n",
      "https://japan.cnet.com/article/35108343/ アマゾン、プライム会員向けに“読み放題”の「Prime Reading」を開始 - CNET Japan\n",
      "http://jp.vice.com/tech/the-hidden-phenomenon-that-could-ruin-your-old-discs CDもDVDも半永久的だったはずなのに | VICE JAPAN\n",
      "https://www.webcreatorbox.com/inspiration/world-web-design 世界各国のWebデザインと日本のWebデザインの特徴 | Webクリエイターボックス\n",
      "http://www.itmedia.co.jp/news/articles/1710/05/news042.html 「Google Home」あす日本上陸　小型版「Mini」は23日発売 - ITmedia NEWS\n",
      "http://business.nikkeibp.co.jp/atcl/report/16/092700167/092800003/ 日本企業は下手にアマゾンに対抗しない方がいい：日経ビジネスオンライン\n"
     ]
    }
   ],
   "source": [
    "for entry in d.entries:\n",
    "    print(entry.link, entry.title)"
   ]
  }
 ],
 "metadata": {
  "kernelspec": {
   "display_name": "Python 3",
   "language": "python",
   "name": "python3"
  },
  "language_info": {
   "codemirror_mode": {
    "name": "ipython",
    "version": 3
   },
   "file_extension": ".py",
   "mimetype": "text/x-python",
   "name": "python",
   "nbconvert_exporter": "python",
   "pygments_lexer": "ipython3",
   "version": "3.6.0"
  }
 },
 "nbformat": 4,
 "nbformat_minor": 2
}

{
 "cells": [
  {
   "cell_type": "markdown",
   "metadata": {},
   "source": [
    "# APIによるデータの収集と活用"
   ]
  },
  {
   "cell_type": "markdown",
   "metadata": {},
   "source": [
    "## TwitterのAPI\n",
    "\n",
    "### REST API / Streaming API\n",
    "\n",
    "#### REST API\n",
    "１ユーザあたり15分につき15回しか呼び出せない"
   ]
  },
  {
   "cell_type": "markdown",
   "metadata": {},
   "source": [
    "#### Streaming API\n",
    "一度リクエストを送るとサーバとの間でコネクションが確立されたままになり、<br/>\n",
    "新しいデータが生まれるたびにサーバーからデータが送られてくるプッシュ型のフロー。\n",
    "\n",
    " Pubric streams : Twitterのユーザ全体の公開ストリーム<br/>\n",
    "    filter : 特定のキーワードやユーザで絞り込んだストリーム<br/>\n",
    "    sample: 公開された全ツイートのうち一部をランダムにサンプリングしたストリーム<br/>\n",
    "\n",
    " User Stream : ユーザのタイムラインなど、一人のユーザに関するストリーム<br/>"
   ]
  },
  {
   "cell_type": "markdown",
   "metadata": {},
   "source": [
    "## Twitter APIの認証\n",
    "OAuth 1.0a による認証が必要。(ConsumerKey/ConsumerSecret/AccessToken/AccessTokenSecret)\n",
    "\n",
    "https://apps.twitter.com\n",
    "\n",
    "(今は電話番号登録が必要？)"
   ]
  },
  {
   "cell_type": "code",
   "execution_count": 1,
   "metadata": {
    "collapsed": false
   },
   "outputs": [
    {
     "name": "stdout",
     "output_type": "stream",
     "text": [
      "Requirement already satisfied: requests-oauthlib in /Users/kkb/.pyenv/versions/anaconda3-4.3.1/lib/python3.6/site-packages\r\n",
      "Requirement already satisfied: requests>=2.0.0 in /Users/kkb/.pyenv/versions/anaconda3-4.3.1/lib/python3.6/site-packages (from requests-oauthlib)\r\n",
      "Requirement already satisfied: oauthlib>=0.6.2 in /Users/kkb/.pyenv/versions/anaconda3-4.3.1/lib/python3.6/site-packages (from requests-oauthlib)\r\n"
     ]
    }
   ],
   "source": [
    "!pip install requests-oauthlib"
   ]
  },
  {
   "cell_type": "markdown",
   "metadata": {},
   "source": [
    "### OAuth1Sessionクラス  \n",
    "RequestsのSessionを継承していて、コンストラクタにConsumerKeyなど4つを指定してインスタンスを作成\n",
    "インスタンス作成後は認証を意識することなくRequestsのSessionオブジェクトと同じように扱える\n"
   ]
  },
  {
   "cell_type": "code",
   "execution_count": 2,
   "metadata": {
    "collapsed": false
   },
   "outputs": [
    {
     "name": "stdout",
     "output_type": "stream",
     "text": [
      "import os\r\n",
      "\r\n",
      "from requests_oauthlib import OAuth1Session\r\n",
      "\r\n",
      "# 環境変数から認証情報を取得する。\r\n",
      "CONSUMER_KEY = os.environ['CONSUMER_KEY']\r\n",
      "CONSUMER_SECRET = os.environ['CONSUMER_SECRET']\r\n",
      "ACCESS_TOKEN = os.environ['ACCESS_TOKEN']\r\n",
      "ACCESS_TOKEN_SECRET = os.environ['ACCESS_TOKEN_SECRET']\r\n",
      "\r\n",
      "# 認証情報を使ってOAuth1Sessionオブジェクトを得る。\r\n",
      "twitter = OAuth1Session(CONSUMER_KEY,\r\n",
      "                        client_secret=CONSUMER_SECRET,\r\n",
      "                        resource_owner_key=ACCESS_TOKEN,\r\n",
      "                        resource_owner_secret=ACCESS_TOKEN_SECRET)\r\n",
      "\r\n",
      "# ユーザーのタイムラインを取得する。\r\n",
      "response = twitter.get('https://api.twitter.com/1.1/statuses/home_timeline.json')\r\n",
      "\r\n",
      "# APIのレスポンスはJSON形式の文字列なので、response.json()でパースしてlistを取得できる。\r\n",
      "# statusはツイート（Twitter APIではStatusと呼ばれる）を表すdict。\r\n",
      "for status in response.json():\r\n",
      "    print('@' + status['user']['screen_name'], status['text'])  # ユーザー名とツイートを表示する。\r\n"
     ]
    }
   ],
   "source": [
    "!cat ../sample_codes/5-2/rest_api_with_requests_oauthlib.py"
   ]
  },
  {
   "cell_type": "markdown",
   "metadata": {},
   "source": [
    "# Twitter API アプリケーションの権限\n",
    "- 読み取り専用(ReadOnly)\n",
    "- 読み書き可能(Read and write)\n",
    "- 読み書き可能+ダイレクトメッセージへのアクセス"
   ]
  },
  {
   "cell_type": "code",
   "execution_count": 3,
   "metadata": {
    "collapsed": false
   },
   "outputs": [
    {
     "data": {
      "text/plain": [
       "'/usr/local/src/scala'"
      ]
     },
     "execution_count": 3,
     "metadata": {},
     "output_type": "execute_result"
    }
   ],
   "source": [
    "# キー環境変数から読み込む\n",
    "import os\n",
    "os.environ['SCALA_HOME']"
   ]
  },
  {
   "cell_type": "code",
   "execution_count": 4,
   "metadata": {
    "collapsed": false
   },
   "outputs": [
    {
     "name": "stdout",
     "output_type": "stream",
     "text": [
      "Updating Homebrew...\n",
      "\u001b[34m==>\u001b[0m \u001b[1mAuto-updated Homebrew!\u001b[0m\n",
      "Updated 2 taps (caskroom/cask, homebrew/php).\n",
      "\u001b[34m==>\u001b[0m \u001b[1mUpdated Formulae\u001b[0m\n",
      "homebrew/php/phan@0.8                    homebrew/php/phan@0.9\n",
      "\n",
      "\u001b[33mWarning:\u001b[0m forego 20170327195458 is already installed\n"
     ]
    }
   ],
   "source": [
    "# forego スクリプトの実行時に環境変数を渡す\n",
    "!brew install forego"
   ]
  },
  {
   "cell_type": "code",
   "execution_count": 5,
   "metadata": {
    "collapsed": true
   },
   "outputs": [],
   "source": [
    "# !forego run python my_script.py\n",
    "# .envという名前のファイルから環境変数を読み取って渡してくれる。"
   ]
  },
  {
   "cell_type": "code",
   "execution_count": 6,
   "metadata": {
    "collapsed": true
   },
   "outputs": [],
   "source": [
    "#!forego run python rest_api_with_requests_oauthlib.py"
   ]
  },
  {
   "cell_type": "markdown",
   "metadata": {},
   "source": [
    "# TweepyによるTwitter REST APIの利用"
   ]
  },
  {
   "cell_type": "code",
   "execution_count": 7,
   "metadata": {
    "collapsed": false
   },
   "outputs": [
    {
     "name": "stdout",
     "output_type": "stream",
     "text": [
      "Requirement already satisfied: tweepy in /Users/kkb/.pyenv/versions/anaconda3-4.3.1/lib/python3.6/site-packages\n",
      "Requirement already satisfied: six>=1.7.3 in /Users/kkb/.pyenv/versions/anaconda3-4.3.1/lib/python3.6/site-packages (from tweepy)\n",
      "Requirement already satisfied: requests-oauthlib>=0.4.1 in /Users/kkb/.pyenv/versions/anaconda3-4.3.1/lib/python3.6/site-packages (from tweepy)\n",
      "Requirement already satisfied: requests>=2.4.3 in /Users/kkb/.pyenv/versions/anaconda3-4.3.1/lib/python3.6/site-packages (from tweepy)\n",
      "Requirement already satisfied: oauthlib>=0.6.2 in /Users/kkb/.pyenv/versions/anaconda3-4.3.1/lib/python3.6/site-packages (from requests-oauthlib>=0.4.1->tweepy)\n"
     ]
    }
   ],
   "source": [
    "!pip install tweepy"
   ]
  },
  {
   "cell_type": "code",
   "execution_count": 8,
   "metadata": {
    "collapsed": false
   },
   "outputs": [
    {
     "name": "stdout",
     "output_type": "stream",
     "text": [
      "import os\r\n",
      "\r\n",
      "import tweepy  # pip install tweepy\r\n",
      "\r\n",
      "# 環境変数から認証情報を取得する。\r\n",
      "CONSUMER_KEY = os.environ['CONSUMER_KEY']\r\n",
      "CONSUMER_SECRET = os.environ['CONSUMER_SECRET']\r\n",
      "ACCESS_TOKEN = os.environ['ACCESS_TOKEN']\r\n",
      "ACCESS_TOKEN_SECRET = os.environ['ACCESS_TOKEN_SECRET']\r\n",
      "\r\n",
      "# 認証情報を設定する。\r\n",
      "auth = tweepy.OAuthHandler(CONSUMER_KEY, CONSUMER_SECRET)\r\n",
      "auth.set_access_token(ACCESS_TOKEN, ACCESS_TOKEN_SECRET)\r\n",
      "\r\n",
      "api = tweepy.API(auth)  # APIクライアントを取得する。\r\n",
      "public_tweets = api.home_timeline()  # ユーザーのタイムラインを取得する。\r\n",
      "\r\n",
      "for status in public_tweets:\r\n",
      "    print('@' + status.user.screen_name, status.text)  # ユーザー名とツイートを表示する。\r\n"
     ]
    }
   ],
   "source": [
    "!cat ../sample_codes/5-2/rest_api_with_tweepy.py"
   ]
  },
  {
   "cell_type": "code",
   "execution_count": 9,
   "metadata": {
    "collapsed": false
   },
   "outputs": [],
   "source": [
    "#!forego run python ../sample_codes/5-2/rest_api_with_tweepy.py"
   ]
  },
  {
   "cell_type": "code",
   "execution_count": 10,
   "metadata": {
    "collapsed": false
   },
   "outputs": [
    {
     "name": "stdout",
     "output_type": "stream",
     "text": [
      "import os\r\n",
      "\r\n",
      "import tweepy\r\n",
      "\r\n",
      "# 環境変数から認証情報を取得する。\r\n",
      "CONSUMER_KEY = os.environ['CONSUMER_KEY']\r\n",
      "CONSUMER_SECRET = os.environ['CONSUMER_SECRET']\r\n",
      "ACCESS_TOKEN = os.environ['ACCESS_TOKEN']\r\n",
      "ACCESS_TOKEN_SECRET = os.environ['ACCESS_TOKEN_SECRET']\r\n",
      "\r\n",
      "# 認証情報を設定する。\r\n",
      "auth = tweepy.OAuthHandler(CONSUMER_KEY, CONSUMER_SECRET)\r\n",
      "auth.set_access_token(ACCESS_TOKEN, ACCESS_TOKEN_SECRET)\r\n",
      "\r\n",
      "\r\n",
      "class MyStreamListener(tweepy.StreamListener):\r\n",
      "    \"\"\"\r\n",
      "    Streaming APIで取得したツイートを処理するためのクラス。\r\n",
      "    \"\"\"\r\n",
      "\r\n",
      "    def on_status(self, status):\r\n",
      "        \"\"\"\r\n",
      "        ツイートを受信したときに呼び出されるメソッド。引数はツイートを表すStatusオブジェクト。\r\n",
      "        \"\"\"\r\n",
      "        print('@' + status.author.screen_name, status.text)\r\n",
      "\r\n",
      "# 認証情報とStreamListenerを指定してStreamオブジェクトを取得する。\r\n",
      "stream = tweepy.Stream(auth, MyStreamListener())\r\n",
      "# 公開されているツイートをサンプリングしたストリームを受信する。\r\n",
      "# キーワード引数languagesで、日本語のツイートのみに絞り込む。\r\n",
      "stream.sample(languages=['ja'])\r\n"
     ]
    }
   ],
   "source": [
    "!cat ../sample_codes/5-2/streaming_api_with_tweepy.py"
   ]
  }
 ],
 "metadata": {
  "kernelspec": {
   "display_name": "Python 3",
   "language": "python",
   "name": "python3"
  },
  "language_info": {
   "codemirror_mode": {
    "name": "ipython",
    "version": 3
   },
   "file_extension": ".py",
   "mimetype": "text/x-python",
   "name": "python",
   "nbconvert_exporter": "python",
   "pygments_lexer": "ipython3",
   "version": "3.6.0"
  }
 },
 "nbformat": 4,
 "nbformat_minor": 2
}

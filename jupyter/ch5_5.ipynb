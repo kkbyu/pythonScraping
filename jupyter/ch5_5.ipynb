{
 "cells": [
  {
   "cell_type": "code",
   "execution_count": 1,
   "metadata": {
    "collapsed": false
   },
   "outputs": [
    {
     "name": "stdout",
     "output_type": "stream",
     "text": [
      "Requirement already satisfied: robobrowser in /Users/kkb/.pyenv/versions/anaconda3-4.3.1/lib/python3.6/site-packages\r\n",
      "Requirement already satisfied: chardet in /Users/kkb/.pyenv/versions/anaconda3-4.3.1/lib/python3.6/site-packages\r\n",
      "Requirement already satisfied: Werkzeug>=0.10.4 in /Users/kkb/.pyenv/versions/anaconda3-4.3.1/lib/python3.6/site-packages (from robobrowser)\r\n",
      "Requirement already satisfied: six>=1.9.0 in /Users/kkb/.pyenv/versions/anaconda3-4.3.1/lib/python3.6/site-packages (from robobrowser)\r\n",
      "Requirement already satisfied: requests>=2.6.0 in /Users/kkb/.pyenv/versions/anaconda3-4.3.1/lib/python3.6/site-packages (from robobrowser)\r\n",
      "Requirement already satisfied: beautifulsoup4>=4.3.2 in /Users/kkb/.pyenv/versions/anaconda3-4.3.1/lib/python3.6/site-packages (from robobrowser)\r\n"
     ]
    }
   ],
   "source": [
    "!pip install robobrowser chardet"
   ]
  },
  {
   "cell_type": "markdown",
   "metadata": {},
   "source": [
    "「chardet」は、ファイルやページの文字コードを判定するためのライブラリ。「CHARacter DETection」の略"
   ]
  },
  {
   "cell_type": "markdown",
   "metadata": {},
   "source": [
    "自動操作\n",
    "1. Googleのトップページを開く\n",
    "2. 検索語を入力する\n",
    "3. Googleの検索ボタンを押す\n",
    "4. 検索結果がm表示される"
   ]
  },
  {
   "cell_type": "markdown",
   "metadata": {},
   "source": [
    "ステートレスなクローラーであれば、検索結果のURLが\n",
    "https://www.google.co.jp/search?q=Python \n",
    "になるというように、URLを組み立ててページを取得する\n",
    "    \n",
    "RoboBrowserではURLを意識せず通常のブラウザを操作するのと似た感覚でプログラムを書ける    "
   ]
  },
  {
   "cell_type": "code",
   "execution_count": 2,
   "metadata": {
    "collapsed": false
   },
   "outputs": [
    {
     "name": "stdout",
     "output_type": "stream",
     "text": [
      "Python - ウィキペディア\n",
      "/url?q=https://ja.wikipedia.org/wiki/Python&sa=U&ved=0ahUKEwi-mvqqwdbXAhXMu7wKHc6xDFIQFggUMAA&usg=AOvVaw1nTNqDrah-f21E_ZGVE4iP\n",
      "Pythonとは - python.jp\n",
      "/url?q=https://www.python.jp/about/&sa=U&ved=0ahUKEwi-mvqqwdbXAhXMu7wKHc6xDFIQFggfMAE&usg=AOvVaw3wOtylaAtTWC6pYGfoQclG\n",
      "専門知識いらず！Pythonとは？言語の特徴から網羅的に徹底解説 | 侍 ...\n",
      "/url?q=https://www.sejuku.net/blog/7720&sa=U&ved=0ahUKEwi-mvqqwdbXAhXMu7wKHc6xDFIQFgglMAI&usg=AOvVaw3PXNMs2wZvWcLj2zld_W4k\n",
      "Python基礎講座(1 Pythonとは) - Qiita\n",
      "/url?q=https://qiita.com/Usek/items/ff4d87745dfc5d9b85a4&sa=U&ved=0ahUKEwi-mvqqwdbXAhXMu7wKHc6xDFIQFggvMAM&usg=AOvVaw35Hsogh0B7zKrA-g8qostK\n",
      "Python 13299 posts - Qiita\n",
      "/url?q=https://qiita.com/tags/Python&sa=U&ved=0ahUKEwi-mvqqwdbXAhXMu7wKHc6xDFIQFgg2MAQ&usg=AOvVaw1yBDWlBfqJf56ETHHHavBN\n",
      "Python 3を使うべきでない場合（なんてない） | プログラミング | POSTD\n",
      "/url?q=http://postd.cc/case-python-3/&sa=U&ved=0ahUKEwi-mvqqwdbXAhXMu7wKHc6xDFIQFgg7MAU&usg=AOvVaw3E3uFbpj2aor2TiU9F7G_S\n",
      "Pythonとは？何に使えるの？Pythonの特徴や使い道を…｜Udemy ...\n",
      "/url?q=https://udemy.benesse.co.jp/development/python.html&sa=U&ved=0ahUKEwi-mvqqwdbXAhXMu7wKHc6xDFIQFghCMAY&usg=AOvVaw23VJNz8n0WFwMEgO_UIWPr\n",
      "Pythonは今のうちに習得すべき？『スラスラわかるPython』著者・岩崎 ...\n",
      "/url?q=https://codezine.jp/article/detail/10329&sa=U&ved=0ahUKEwi-mvqqwdbXAhXMu7wKHc6xDFIQFghIMAc&usg=AOvVaw0wZUd7ri9-zCT1fL-Ux82T\n",
      "Python入門\n",
      "/url?q=http://www.tohoho-web.com/python/&sa=U&ved=0ahUKEwi-mvqqwdbXAhXMu7wKHc6xDFIQFghOMAg&usg=AOvVaw39OUcxlE-YZp2Dtn3Sc-A7\n",
      "Download Python | Python.org\n",
      "/url?q=https://www.python.org/downloads/&sa=U&ved=0ahUKEwi-mvqqwdbXAhXMu7wKHc6xDFIQFghVMAk&usg=AOvVaw0eq-DevuiWLZhPrFvOT7th\n"
     ]
    }
   ],
   "source": [
    "from robobrowser import RoboBrowser\n",
    "\n",
    "# RoboBrowserオブジェクトを作成する。キーワード引数parserはBeautifulSoup()の第2引数として使われる。\n",
    "browser = RoboBrowser(parser='html.parser')\n",
    "\n",
    "browser.open('https://www.google.co.jp/')  # open()メソッドでGoogleのトップページを開く。\n",
    "\n",
    "# 検索語を入力して送信する。\n",
    "form = browser.get_form(action='/search')  # フォームを取得。\n",
    "form['q'] = 'Python'  # フォームのqという名前のフィールドに検索語を入力。\n",
    "browser.submit_form(form, list(form.submit_fields.values())[0])  # 一つ目のボタン（Google 検索）を押す。\n",
    "\n",
    "# 検索結果のタイトルとURLを抽出して表示する。\n",
    "# select()メソッドはBeautiful Soupのselect()メソッドと同じものであり、\n",
    "# 引数のCSSセレクターにマッチする要素に対応するTagオブジェクトのリストを取得できる。\n",
    "for a in browser.select('h3 > a'):\n",
    "    print(a.text)\n",
    "    print(a.get('href'))"
   ]
  },
  {
   "cell_type": "markdown",
   "metadata": {},
   "source": [
    "※上記のサンプルはRoboBrowserの使い方を示すためのもの。\n",
    "   Googleの検索結果を高頻度でクロールすると、CAPTCHAと呼ばれる画像が表示される。"
   ]
  },
  {
   "cell_type": "markdown",
   "metadata": {},
   "source": [
    "# ログインが必要なWebサイトからデータを収集"
   ]
  },
  {
   "cell_type": "markdown",
   "metadata": {},
   "source": [
    "事前にパスワードを入力した .envファイルを作成する\n",
    "\n",
    "AMAZON_EMAIL=\n",
    "\n",
    "AMAZON_PASSWORD="
   ]
  },
  {
   "cell_type": "code",
   "execution_count": null,
   "metadata": {
    "collapsed": false,
    "scrolled": false
   },
   "outputs": [],
   "source": [
    "import sys\n",
    "import os\n",
    "\n",
    "from robobrowser import RoboBrowser\n",
    "\n",
    "# 認証の情報は環境変数から取得する。\n",
    "AMAZON_EMAIL = os.environ['AMAZON_EMAIL']\n",
    "AMAZON_PASSWORD = os.environ['AMAZON_PASSWORD']\n",
    "\n",
    "# RoboBrowserオブジェクトを作成する。\n",
    "browser = RoboBrowser(\n",
    "    parser='html.parser',  # Beautiful Soupで使用するパーサーを指定する。\n",
    "    # Cookieが使用できないと表示されてログインできない問題を回避するため、\n",
    "    # 通常のブラウザーのUser-Agent（ここではFirefoxのもの）を使う。\n",
    "    user_agent='Mozilla/5.0 (Macintosh; Intel Mac OS X 10.10; rv:45.0) Gecko/20100101 Firefox/45.0')\n",
    "\n",
    "\n",
    "def main():\n",
    "    # 注文履歴のページを開く。\n",
    "    print('Navigating...', file=sys.stderr)\n",
    "    browser.open('https://www.amazon.co.jp/gp/css/order-history')\n",
    "\n",
    "    # サインインページにリダイレクトされていることを確認する。\n",
    "    assert 'Amazonサインイン' in browser.parsed.title.string\n",
    "\n",
    "    # name=\"signIn\" というサインインフォームを埋める。\n",
    "    # フォームのname属性の値はブラウザーの開発者ツールで確認できる。\n",
    "    form = browser.get_form(attrs={'name': 'signIn'})\n",
    "    form['email'] = AMAZON_EMAIL  # name=\"email\" という入力ボックスを埋める。\n",
    "    form['password'] = AMAZON_PASSWORD  # name=\"password\" という入力ボックスを埋める。\n",
    "\n",
    "    # フォームを送信する。正常にログインするにはRefererヘッダーとAccept-Languageヘッダーが必要。\n",
    "    print('Signing in...', file=sys.stderr)\n",
    "    browser.submit_form(form, headers={\n",
    "        'Referer': browser.url,\n",
    "        'Accept-Language': 'ja,en-US;q=0.7,en;q=0.3',\n",
    "    })\n",
    "\n",
    "    # ログインに失敗する場合は、次の行のコメントを外してHTMLのソースを確認すると良い。\n",
    "    # print(browser.parsed.prettify())\n",
    "\n",
    "    # ページャーをたどる。\n",
    "    while True:\n",
    "        assert '注文履歴' in browser.parsed.title.string  # 注文履歴画面が表示されていることを確認する。\n",
    "\n",
    "        print_order_history()  # 注文履歴を表示する。\n",
    "\n",
    "        link_to_next = browser.get_link('次へ')  # 「次へ」というテキストを持つリンクを取得する。\n",
    "        if not link_to_next:\n",
    "            break  # 「次へ」のリンクがない場合はループを抜けて終了する。\n",
    "\n",
    "        print('Following link to next page...', file=sys.stderr)\n",
    "        browser.follow_link(link_to_next)  # 「次へ」というリンクをたどる。\n",
    "\n",
    "\n",
    "def print_order_history():\n",
    "    \"\"\"\n",
    "    現在のページのすべての注文履歴を表示する。\n",
    "    \"\"\"\n",
    "    # ページ内のすべての注文履歴について反復する。ブラウザーの開発者ツールでclass属性の値を確認できる。\n",
    "    for line_item in browser.select('.order-info'):\n",
    "        order = {}  # 注文の情報を格納するためのdict。\n",
    "        # 注文の情報のすべての列について反復する。\n",
    "        for column in line_item.select('.a-column'):\n",
    "            label_element = column.select_one('.label')\n",
    "            value_element = column.select_one('.value')\n",
    "            # ラベルと値がない列は無視する。\n",
    "            if label_element and value_element:\n",
    "                label = label_element.get_text().strip()\n",
    "                value = value_element.get_text().strip()\n",
    "                order[label] = value  # 注文の情報を格納する。\n",
    "\n",
    "        print(order['注文日'], order['合計'])  # 注文の情報を表示する。\n",
    "\n",
    "if __name__ == '__main__':\n",
    "    main()"
   ]
  },
  {
   "cell_type": "code",
   "execution_count": 3,
   "metadata": {
    "collapsed": false
   },
   "outputs": [
    {
     "name": "stdout",
     "output_type": "stream",
     "text": [
      "Navigating...\n",
      "Signing in...\n",
      "2017年11月21日 ￥ 0\n",
      "2017年11月6日 ￥ 374\n",
      "2017年11月3日 ￥ 0\n",
      "2017年11月3日 ￥ 0\n",
      "2017年10月6日 ￥ 0\n",
      "2017年10月4日 ￥ 0\n",
      "2017年9月30日 ￥ 0\n",
      "2017年9月30日 ￥ 0\n",
      "2017年9月4日 ￥ 0\n",
      "2017年8月4日 ￥ 0\n",
      "Following link to next page...\n",
      "2017年8月1日 ￥ 0\n",
      "2017年7月27日 ￥ 0\n",
      "2017年7月19日 ￥ 0\n",
      "2017年7月11日 ￥ 0\n",
      "2017年7月11日 ￥ 0\n",
      "2017年7月10日 ￥ 0\n",
      "2017年7月9日 ￥ 0\n",
      "2017年7月8日 ￥ 0\n",
      "2017年6月25日 ￥ 0\n",
      "2017年6月24日 ￥ 0\n",
      "Following link to next page...\n",
      "2017年6月24日 ￥ 0\n",
      "2017年6月24日 ￥ 0\n",
      "2017年6月5日 ￥ 0\n",
      "2017年5月29日 ￥ 0\n"
     ]
    }
   ],
   "source": [
    "!forego run python amazon_order_history.py"
   ]
  }
 ],
 "metadata": {
  "kernelspec": {
   "display_name": "Python 3",
   "language": "python",
   "name": "python3"
  },
  "language_info": {
   "codemirror_mode": {
    "name": "ipython",
    "version": 3
   },
   "file_extension": ".py",
   "mimetype": "text/x-python",
   "name": "python",
   "nbconvert_exporter": "python",
   "pygments_lexer": "ipython3",
   "version": "3.6.0"
  }
 },
 "nbformat": 4,
 "nbformat_minor": 2
}

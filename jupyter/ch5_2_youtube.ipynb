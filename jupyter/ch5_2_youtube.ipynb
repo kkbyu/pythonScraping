{
 "cells": [
  {
   "cell_type": "markdown",
   "metadata": {},
   "source": [
    "# YouTubeからの動画情報の収集\n",
    "\n",
    "・ 動画の投稿、コメントの追加 -> OAuth2.0による認証が必要\n",
    "\n",
    "・ 動画の検索、チャンネルの取得 (参照系) -> リクエストにAPIキーを含めるだけで使える"
   ]
  },
  {
   "cell_type": "markdown",
   "metadata": {},
   "source": [
    "APIキーの取得 (要Googleアカウント)\n",
    "\n",
    "https://console.developers.google.com/\n",
    "\n",
    "[YouTube Data API]をクリックして有効にする\n",
    "\n"
   ]
  },
  {
   "cell_type": "code",
   "execution_count": null,
   "metadata": {
    "collapsed": false
   },
   "outputs": [],
   "source": [
    "!curl \"https://www.googleapis.com/youtube/v3/search?key=<APIKEY>&part=snippet&q=手芸&type=video\""
   ]
  },
  {
   "cell_type": "markdown",
   "metadata": {},
   "source": [
    "part レスポンスに含めるプロパティのカンマ区切りリスト\n",
    "q 検索クエリ\n",
    "type 検索対象(channel,playlist,video)"
   ]
  },
  {
   "cell_type": "code",
   "execution_count": null,
   "metadata": {
    "collapsed": true
   },
   "outputs": [],
   "source": [
    "# https://developers.google.com/youtube/v3/docs/search/list"
   ]
  },
  {
   "cell_type": "markdown",
   "metadata": {},
   "source": [
    "# Google API Client for Python"
   ]
  },
  {
   "cell_type": "code",
   "execution_count": 3,
   "metadata": {
    "collapsed": false
   },
   "outputs": [
    {
     "name": "stdout",
     "output_type": "stream",
     "text": [
      "import os\r\n",
      "\r\n",
      "from apiclient.discovery import build  # pip install google-api-python-cliet\r\n",
      "\r\n",
      "YOUTUBE_API_KEY = os.environ['YOUTUBE_API_KEY']  # 環境変数からAPIキーを取得する。\r\n",
      "\r\n",
      "# YouTubeのAPIクライアントを組み立てる。build()関数の第1引数にはAPI名を、\r\n",
      "# 第2引数にはAPIのバージョンを指定し、キーワード引数developerKeyでAPIキーを指定する。\r\n",
      "# この関数は、内部的に https://www.googleapis.com/discovery/v1/apis/youtube/v3/rest という\r\n",
      "# URLにアクセスし、APIのリソースやメソッドの情報を取得する。\r\n",
      "youtube = build('youtube', 'v3', developerKey=YOUTUBE_API_KEY)\r\n",
      "\r\n",
      "# キーワード引数で引数を指定し、search.listメソッドを呼び出す。\r\n",
      "# list()メソッドでgoogleapiclient.http.HttpRequestオブジェクトが得られ、\r\n",
      "# execute()メソッドを実行すると実際にHTTPリクエストが送られて、APIのレスポンスが得られる。\r\n",
      "search_response = youtube.search().list(\r\n",
      "    part='snippet',\r\n",
      "    q='手芸',\r\n",
      "    type='video',\r\n",
      ").execute()\r\n",
      "\r\n",
      "# search_responseはAPIのレスポンスのJSONをパースしたdict。\r\n",
      "for item in search_response['items']:\r\n",
      "    print(item['snippet']['title'])  # 動画のタイトルを表示する。\r\n"
     ]
    }
   ],
   "source": [
    "#RESTAPI なのでRequestsのようなライブラリだけでも問題なく使える\n",
    "#GoogleのAPIに共通して使えるようにしたClient(Google公式ではこちらを推奨)\n",
    "!cat ../sample_codes/5-2/search_youtube_videos.py"
   ]
  },
  {
   "cell_type": "code",
   "execution_count": null,
   "metadata": {
    "collapsed": false
   },
   "outputs": [],
   "source": [
    "import os\n",
    "\n",
    "from apiclient.discovery import build  # pip install google-api-python-cliet\n",
    "\n",
    "YOUTUBE_API_KEY = os.environ['YOUTUBE_API_KEY']  # 環境変数からAPIキーを取得する。\n",
    "\n",
    "# YouTubeのAPIクライアントを組み立てる。build()関数の第1引数にはAPI名を、\n",
    "# 第2引数にはAPIのバージョンを指定し、キーワード引数developerKeyでAPIキーを指定する。\n",
    "# この関数は、内部的に https://www.googleapis.com/discovery/v1/apis/youtube/v3/rest という\n",
    "# URLにアクセスし、APIのリソースやメソッドの情報を取得する。\n",
    "youtube = build('youtube', 'v3', developerKey=YOUTUBE_API_KEY)\n",
    "\n",
    "# キーワード引数で引数を指定し、search.listメソッドを呼び出す。\n",
    "# list()メソッドでgoogleapiclient.http.HttpRequestオブジェクトが得られ、\n",
    "# execute()メソッドを実行すると実際にHTTPリクエストが送られて、APIのレスポンスが得られる。\n",
    "search_response = youtube.search().list(\n",
    "    part='snippet',\n",
    "    q='手芸',\n",
    "    type='video',\n",
    ").execute()\n",
    "\n",
    "# search_responseはAPIのレスポンスのJSONをパースしたdict。\n",
    "for item in search_response['items']:\n",
    "    print(item['snippet']['title'])  # 動画のタイトルを表示する。"
   ]
  },
  {
   "cell_type": "code",
   "execution_count": 1,
   "metadata": {
    "collapsed": false
   },
   "outputs": [
    {
     "name": "stdout",
     "output_type": "stream",
     "text": [
      "Requirement already satisfied: google-api-python-client in /Users/kkb/.pyenv/versions/anaconda3-4.3.1/lib/python3.6/site-packages\r\n",
      "Requirement already satisfied: uritemplate<4dev,>=3.0.0 in /Users/kkb/.pyenv/versions/anaconda3-4.3.1/lib/python3.6/site-packages (from google-api-python-client)\r\n",
      "Requirement already satisfied: httplib2<1dev,>=0.9.2 in /Users/kkb/.pyenv/versions/anaconda3-4.3.1/lib/python3.6/site-packages (from google-api-python-client)\r\n",
      "Requirement already satisfied: oauth2client<5.0.0dev,>=1.5.0 in /Users/kkb/.pyenv/versions/anaconda3-4.3.1/lib/python3.6/site-packages (from google-api-python-client)\r\n",
      "Requirement already satisfied: six<2dev,>=1.6.1 in /Users/kkb/.pyenv/versions/anaconda3-4.3.1/lib/python3.6/site-packages (from google-api-python-client)\r\n",
      "Requirement already satisfied: pyasn1-modules>=0.0.5 in /Users/kkb/.pyenv/versions/anaconda3-4.3.1/lib/python3.6/site-packages (from oauth2client<5.0.0dev,>=1.5.0->google-api-python-client)\r\n",
      "Requirement already satisfied: rsa>=3.1.4 in /Users/kkb/.pyenv/versions/anaconda3-4.3.1/lib/python3.6/site-packages (from oauth2client<5.0.0dev,>=1.5.0->google-api-python-client)\r\n",
      "Requirement already satisfied: pyasn1>=0.1.7 in /Users/kkb/.pyenv/versions/anaconda3-4.3.1/lib/python3.6/site-packages (from oauth2client<5.0.0dev,>=1.5.0->google-api-python-client)\r\n"
     ]
    }
   ],
   "source": [
    "!pip install google-api-python-client"
   ]
  },
  {
   "cell_type": "code",
   "execution_count": 2,
   "metadata": {
    "collapsed": false
   },
   "outputs": [
    {
     "name": "stdout",
     "output_type": "stream",
     "text": [
      "【購入品紹介】お気に入りの手芸屋さんで買い物♡大阪の可愛いお店\r\n",
      "バラエティ初登場!! ついに神の神髄が…!? 手芸歴40年の光浦の手芸愛は必見!! 10/9(月)『オー!! マイ神様!!』【TBS】\r\n",
      "#プチプラDIY ダイソーのスエード調手芸ひもが可愛すぎる！\r\n",
      "【手芸】トイレットペーパーの芯でミニチュアのニット帽を作る。\r\n",
      "簡単！カチュームの作り方／広島 あとりえChikuTaku(ちくたくの手芸塾)\r\n"
     ]
    }
   ],
   "source": [
    "!forego run python ../sample_codes/5-2/search_youtube_videos.py"
   ]
  },
  {
   "cell_type": "code",
   "execution_count": null,
   "metadata": {
    "collapsed": true
   },
   "outputs": [],
   "source": [
    "curl \"https://www.googleapis.com/youtube/v3/videos?key=<APIKEY>&id=muxH23R0DT0&part=snippet,statistics&q=手芸&type=video\""
   ]
  }
 ],
 "metadata": {
  "kernelspec": {
   "display_name": "Python 3",
   "language": "python",
   "name": "python3"
  },
  "language_info": {
   "codemirror_mode": {
    "name": "ipython",
    "version": 3
   },
   "file_extension": ".py",
   "mimetype": "text/x-python",
   "name": "python",
   "nbconvert_exporter": "python",
   "pygments_lexer": "ipython3",
   "version": "3.6.0"
  }
 },
 "nbformat": 4,
 "nbformat_minor": 2
}

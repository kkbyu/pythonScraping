{
 "cells": [
  {
   "cell_type": "code",
   "execution_count": 1,
   "metadata": {
    "collapsed": false
   },
   "outputs": [
    {
     "name": "stdout",
     "output_type": "stream",
     "text": [
      "Updating Homebrew...\n",
      "\u001b[34m==>\u001b[0m \u001b[1mAuto-updated Homebrew!\u001b[0m\n",
      "Updated 1 tap (homebrew/core).\n",
      "No changes to formulae.\n",
      "\n",
      "\u001b[31mError:\u001b[0m mongodb 3.4.7 is already installed\n",
      "To upgrade to 3.4.9, run `brew upgrade mongodb`\n"
     ]
    }
   ],
   "source": [
    "!brew install mongodb"
   ]
  },
  {
   "cell_type": "code",
   "execution_count": 16,
   "metadata": {
    "collapsed": false
   },
   "outputs": [
    {
     "name": "stdout",
     "output_type": "stream",
     "text": [
      "db version v3.4.7\r\n",
      "git version: cf38c1b8a0a8dca4a11737581beafef4fe120bcd\r\n",
      "OpenSSL version: OpenSSL 1.0.2l  25 May 2017\r\n",
      "allocator: system\r\n",
      "modules: none\r\n",
      "build environment:\r\n",
      "    distarch: x86_64\r\n",
      "    target_arch: x86_64\r\n"
     ]
    }
   ],
   "source": [
    "!mongod --version"
   ]
  },
  {
   "cell_type": "code",
   "execution_count": 17,
   "metadata": {
    "collapsed": false
   },
   "outputs": [
    {
     "name": "stdout",
     "output_type": "stream",
     "text": [
      "Requirement already satisfied: pymongo in /Users/kkb/.pyenv/versions/anaconda3-4.3.1/lib/python3.6/site-packages\r\n"
     ]
    }
   ],
   "source": [
    "!pip install pymongo"
   ]
  },
  {
   "cell_type": "code",
   "execution_count": 18,
   "metadata": {
    "collapsed": false
   },
   "outputs": [],
   "source": [
    "from pymongo import MongoClient\n",
    "client = MongoClient('localhost', 27017)\n",
    "db = client.test #testデータベースを取得する。存在した無い場合でも書き込み時に自動的に作成される。\n",
    "collection = db.spots"
   ]
  },
  {
   "cell_type": "code",
   "execution_count": 19,
   "metadata": {
    "collapsed": false
   },
   "outputs": [
    {
     "data": {
      "text/plain": [
       "<pymongo.results.InsertOneResult at 0x10d509fc8>"
      ]
     },
     "execution_count": 19,
     "metadata": {},
     "output_type": "execute_result"
    }
   ],
   "source": [
    "# insert_one()メソッドでPythonのdictをコレクションに追加できる\n",
    "collection.insert_one({'name': '東京スカイツリー', 'prefecture': '東京'})"
   ]
  },
  {
   "cell_type": "code",
   "execution_count": 20,
   "metadata": {
    "collapsed": false
   },
   "outputs": [
    {
     "data": {
      "text/plain": [
       "<pymongo.results.InsertManyResult at 0x10cdf0748>"
      ]
     },
     "execution_count": 20,
     "metadata": {},
     "output_type": "execute_result"
    }
   ],
   "source": [
    "# insert_many()メソッドで複数のdictを一度にコレクションに追加\n",
    "collection.insert_many([{'name': '東京ディズニーランド', 'prefecture': '千葉'},{'name':'東京ドーム', 'prefecture': '東京'}])"
   ]
  },
  {
   "cell_type": "code",
   "execution_count": 21,
   "metadata": {
    "collapsed": false
   },
   "outputs": [
    {
     "data": {
      "text/plain": [
       "<pymongo.cursor.Cursor at 0x10cdee8d0>"
      ]
     },
     "execution_count": 21,
     "metadata": {},
     "output_type": "execute_result"
    }
   ],
   "source": [
    "#findメソッドで全てのドキュメントを取得するためのCursorオブジェクトを取得\n",
    "#すべてのドキュメントには_idフィールドが自動付与\n",
    "collection.find()"
   ]
  },
  {
   "cell_type": "code",
   "execution_count": 22,
   "metadata": {
    "collapsed": false
   },
   "outputs": [
    {
     "name": "stdout",
     "output_type": "stream",
     "text": [
      "{'_id': ObjectId('59d69dda92474e59f8ad5736'), 'url': 'http://gihyo.jp/', 'title': None}\n",
      "{'_id': ObjectId('59d69dda92474e59f8ad5737'), 'url': 'http://gihyo.jp/site/inquiry', 'title': 'お問い合わせ'}\n",
      "{'_id': ObjectId('59d69dda92474e59f8ad5738'), 'url': 'http://gihyo.jp/site/profile', 'title': '会社案内'}\n",
      "{'_id': ObjectId('59d69dda92474e59f8ad5739'), 'url': 'http://gihyo.jp/dev', 'title': 'デベロッパ'}\n",
      "{'_id': ObjectId('59d69dda92474e59f8ad573a'), 'url': 'http://gihyo.jp/admin', 'title': 'アドミニストレータ'}\n",
      "{'_id': ObjectId('59d69dda92474e59f8ad573b'), 'url': 'http://gihyo.jp/design', 'title': 'WEB＋デザイン'}\n",
      "{'_id': ObjectId('59d69dda92474e59f8ad573c'), 'url': 'http://gihyo.jp/lifestyle', 'title': 'ライフスタイル'}\n",
      "{'_id': ObjectId('59d69dda92474e59f8ad573d'), 'url': 'http://gihyo.jp/book', 'title': '書籍案内'}\n",
      "{'_id': ObjectId('59d69dda92474e59f8ad573e'), 'url': 'https://gihyo.jp/dp', 'title': '電子書籍'}\n",
      "{'_id': ObjectId('59d69dda92474e59f8ad573f'), 'url': 'http://gihyo.jp/admin/serial/01/ad-linux2017', 'title': None}\n",
      "{'_id': ObjectId('59d69dda92474e59f8ad5740'), 'url': 'http://gihyo.jp/admin/serial/01/ad-linux2017', 'title': 'Active DirectoryとLinuxの認証を統合しよう【2017年版】'}\n",
      "{'_id': ObjectId('59d69dda92474e59f8ad5741'), 'url': 'http://gihyo.jp/lifestyle/serial/01/engineer-x-manage', 'title': None}\n",
      "{'_id': ObjectId('59d69dda92474e59f8ad5742'), 'url': 'http://gihyo.jp/lifestyle/serial/01/engineer-x-manage', 'title': 'エンジニアと経営のクロスオーバー'}\n",
      "{'_id': ObjectId('59d69dda92474e59f8ad5743'), 'url': 'http://gihyo.jp/lifestyle/serial/01/mastodon', 'title': None}\n",
      "{'_id': ObjectId('59d69dda92474e59f8ad5744'), 'url': 'http://gihyo.jp/lifestyle/serial/01/mastodon', 'title': 'Mastodonを楽しく歩こう'}\n",
      "{'_id': ObjectId('59d69dda92474e59f8ad5745'), 'url': 'http://gihyo.jp/lifestyle', 'title': None}\n",
      "{'_id': ObjectId('59d69dda92474e59f8ad5746'), 'url': '/lifestyle/clip/01/everyday-cat', 'title': '技評ねこ部通信'}\n",
      "{'_id': ObjectId('59d69dda92474e59f8ad5747'), 'url': '/lifestyle/clip/01/everyday-cat/201709/15', 'title': '2017年9月15日\\u3000湯沸かし器の上のくろこ'}\n",
      "{'_id': ObjectId('59d69dda92474e59f8ad5748'), 'url': 'http://gihyo.jp/lifestyle/clip/01/everyday-cat', 'title': None}\n",
      "{'_id': ObjectId('59d69dda92474e59f8ad5749'), 'url': 'http://gihyo.jp/admin', 'title': None}\n",
      "{'_id': ObjectId('59d69dda92474e59f8ad574a'), 'url': '/admin/clip/01/ubuntu-topics', 'title': 'Ubuntu Weekly Topics'}\n",
      "{'_id': ObjectId('59d69dda92474e59f8ad574b'), 'url': '/admin/clip/01/ubuntu-topics/201709/15', 'title': '2017年9月15日号\\u3000Ubuntuコンテナ on Hyper-V Isolation，Ubuntu Core＋Screenly＋Raspberry Pi Compute Module 3構成のデジタルサイネージ'}\n",
      "{'_id': ObjectId('59d69dda92474e59f8ad574c'), 'url': 'http://gihyo.jp/admin/clip/01/ubuntu-topics', 'title': None}\n",
      "{'_id': ObjectId('59d69dda92474e59f8ad574d'), 'url': 'http://gihyo.jp/science', 'title': None}\n",
      "{'_id': ObjectId('59d69dda92474e59f8ad574e'), 'url': '/science/serial/01/math-shortstory', 'title': '瀬山士郎先生の 数学よもやま話'}\n",
      "{'_id': ObjectId('59d69dda92474e59f8ad574f'), 'url': '/science/serial/01/math-shortstory/0008', 'title': '第8回\\u3000続・モンティホールの問題'}\n",
      "{'_id': ObjectId('59d69dda92474e59f8ad5750'), 'url': 'http://gihyo.jp/science/serial/01/math-shortstory', 'title': None}\n",
      "{'_id': ObjectId('59d69dda92474e59f8ad5751'), 'url': 'http://gihyo.jp/admin', 'title': None}\n",
      "{'_id': ObjectId('59d69dda92474e59f8ad5752'), 'url': '/admin/serial/01/bsd-yomoyama', 'title': 'BSD界隈四方山話'}\n",
      "{'_id': ObjectId('59d69dda92474e59f8ad5753'), 'url': '/admin/serial/01/bsd-yomoyama/0115', 'title': '第115回\\u3000blacklistd(8)を使ってsshd DoS攻撃を防止する方法 ipf編'}\n",
      "{'_id': ObjectId('59d69dda92474e59f8ad5754'), 'url': 'http://gihyo.jp/admin/serial/01/bsd-yomoyama', 'title': None}\n",
      "{'_id': ObjectId('59d69dda92474e59f8ad5755'), 'url': 'http://gihyo.jp/book', 'title': None}\n",
      "{'_id': ObjectId('59d69dda92474e59f8ad5756'), 'url': '/book/pickup', 'title': '新刊ピックアップ'}\n",
      "{'_id': ObjectId('59d69dda92474e59f8ad5757'), 'url': '/book/pickup/2017/0074', 'title': '構成管理ツールを使ってみよう'}\n",
      "{'_id': ObjectId('59d69dda92474e59f8ad5758'), 'url': 'http://gihyo.jp/lifestyle', 'title': None}\n",
      "{'_id': ObjectId('59d69dda92474e59f8ad5759'), 'url': '/lifestyle/clip/01/everyday-cat', 'title': '技評ねこ部通信'}\n",
      "{'_id': ObjectId('59d69dda92474e59f8ad575a'), 'url': '/lifestyle/clip/01/everyday-cat/201709/14', 'title': '2017年9月14日\\u3000温泉のくろこ'}\n",
      "{'_id': ObjectId('59d69dda92474e59f8ad575b'), 'url': 'http://gihyo.jp/lifestyle/clip/01/everyday-cat', 'title': None}\n",
      "{'_id': ObjectId('59d69dda92474e59f8ad575c'), 'url': 'http://gihyo.jp/design', 'title': None}\n",
      "{'_id': ObjectId('59d69dda92474e59f8ad575d'), 'url': '/design/clip/01/weekly-web-tech', 'title': '週刊Webテク通信'}\n",
      "{'_id': ObjectId('59d69dda92474e59f8ad575e'), 'url': '/design/clip/01/weekly-web-tech/201709/14', 'title': '2017年9月第2週号 1位は，コールトゥアクションボタンが高い効果を得るための完全ガイド，気になるネタは，ボストン・レッドソックスがApple Watchを使ってニューヨーク・ヤンキースからサインを盗んでいた'}\n",
      "{'_id': ObjectId('59d69dda92474e59f8ad575f'), 'url': 'http://gihyo.jp/design/clip/01/weekly-web-tech', 'title': None}\n",
      "{'_id': ObjectId('59d69dda92474e59f8ad5760'), 'url': 'http://gihyo.jp/lifestyle', 'title': None}\n",
      "{'_id': ObjectId('59d69dda92474e59f8ad5761'), 'url': '/lifestyle/clip/01/awt', 'title': 'Android Weekly Topics'}\n",
      "{'_id': ObjectId('59d69dda92474e59f8ad5762'), 'url': '/lifestyle/clip/01/awt/201709/14', 'title': '2017年9月第2週\\u3000Google，HTCのスマホ事業を買収か？'}\n",
      "{'_id': ObjectId('59d69dda92474e59f8ad5763'), 'url': 'http://gihyo.jp/lifestyle/clip/01/awt', 'title': None}\n",
      "{'_id': ObjectId('59d69dda92474e59f8ad5764'), 'url': 'http://gihyo.jp/admin', 'title': None}\n",
      "{'_id': ObjectId('59d69dda92474e59f8ad5765'), 'url': '/admin/clip/01/linux_dt', 'title': 'Linux Daily Topics'}\n",
      "{'_id': ObjectId('59d69dda92474e59f8ad5766'), 'url': '/admin/clip/01/linux_dt/201709/14', 'title': '2017年9月14日\\u3000Google，IoT向けOS「Fuchsia OS」のコアを「Zircon」にリネーム'}\n",
      "{'_id': ObjectId('59d69dda92474e59f8ad5767'), 'url': 'http://gihyo.jp/admin/clip/01/linux_dt', 'title': None}\n",
      "{'_id': ObjectId('59d69dda92474e59f8ad5768'), 'url': 'http://gihyo.jp/news', 'title': None}\n",
      "{'_id': ObjectId('59d69dda92474e59f8ad5769'), 'url': '/news/nr', 'title': 'ニュースリリース'}\n",
      "{'_id': ObjectId('59d69dda92474e59f8ad576a'), 'url': '/news/nr/2017/09/1401', 'title': 'リンク，「Trend Micro Deep Security as a Service マネージドプラン」の提供を開始'}\n",
      "{'_id': ObjectId('59d69dda92474e59f8ad576b'), 'url': 'http://gihyo.jp/book', 'title': None}\n",
      "{'_id': ObjectId('59d69dda92474e59f8ad576c'), 'url': '/book/pickup', 'title': '新刊ピックアップ'}\n",
      "{'_id': ObjectId('59d69dda92474e59f8ad576d'), 'url': '/book/pickup/2017/0073', 'title': '無料でも本格的な絵が描ける！ MediBang Paint Proではじめるデジタルイラスト'}\n",
      "{'_id': ObjectId('59d69dda92474e59f8ad576e'), 'url': 'http://gihyo.jp/lifestyle', 'title': None}\n",
      "{'_id': ObjectId('59d69dda92474e59f8ad576f'), 'url': '/lifestyle/clip/01/everyday-cat', 'title': '技評ねこ部通信'}\n",
      "{'_id': ObjectId('59d69dda92474e59f8ad5770'), 'url': '/lifestyle/clip/01/everyday-cat/201709/13', 'title': '2017年9月13日\\u3000弊社周辺の黒ねこといえば2'}\n",
      "{'_id': ObjectId('59d69dda92474e59f8ad5771'), 'url': 'http://gihyo.jp/lifestyle/clip/01/everyday-cat', 'title': None}\n",
      "{'_id': ObjectId('59d69dda92474e59f8ad5772'), 'url': 'http://gihyo.jp/admin', 'title': None}\n",
      "{'_id': ObjectId('59d69dda92474e59f8ad5773'), 'url': '/admin/serial/01/ubuntu-recipe', 'title': 'Ubuntu Weekly Recipe'}\n",
      "{'_id': ObjectId('59d69dda92474e59f8ad5774'), 'url': '/admin/serial/01/ubuntu-recipe/0488', 'title': '第488回\\u3000Tinker Boardファーストインプレッション'}\n",
      "{'_id': ObjectId('59d69dda92474e59f8ad5775'), 'url': 'http://gihyo.jp/admin/serial/01/ubuntu-recipe', 'title': None}\n",
      "{'_id': ObjectId('59d69dda92474e59f8ad5776'), 'url': 'http://gihyo.jp/lifestyle', 'title': None}\n",
      "{'_id': ObjectId('59d69dda92474e59f8ad5777'), 'url': '/lifestyle/clip/01/everyday-cat', 'title': '技評ねこ部通信'}\n",
      "{'_id': ObjectId('59d69dda92474e59f8ad5778'), 'url': '/lifestyle/clip/01/everyday-cat/201709/12', 'title': '2017年9月12日\\u3000田代島のくろこ'}\n",
      "{'_id': ObjectId('59d69dda92474e59f8ad5779'), 'url': 'http://gihyo.jp/lifestyle/clip/01/everyday-cat', 'title': None}\n",
      "{'_id': ObjectId('59d69dda92474e59f8ad577a'), 'url': 'http://gihyo.jp/admin', 'title': None}\n",
      "{'_id': ObjectId('59d69dda92474e59f8ad577b'), 'url': '/admin/serial/01/ad-linux2017', 'title': 'Active DirectoryとLinuxの認証を統合しよう【2017年版】'}\n",
      "{'_id': ObjectId('59d69dda92474e59f8ad577c'), 'url': '/admin/serial/01/ad-linux2017/0004', 'title': '第4回\\u3000pam_krb5による認証連携［2］'}\n",
      "{'_id': ObjectId('59d69dda92474e59f8ad577d'), 'url': 'http://gihyo.jp/admin/serial/01/ad-linux2017', 'title': None}\n",
      "{'_id': ObjectId('59d69dda92474e59f8ad577e'), 'url': 'http://gihyo.jp/magazine/wdpress', 'title': None}\n",
      "{'_id': ObjectId('59d69dda92474e59f8ad577f'), 'url': '/magazine/wdpress/plus/978-4-7741-9225-3', 'title': 'ビッグデータを支える技術 ――刻々とデータが脈打つ自動化の世界'}\n",
      "{'_id': ObjectId('59d69dda92474e59f8ad5780'), 'url': '/magazine/wdpress/plus/978-4-7741-9225-3/0001', 'title': '本書について［ビッグデータを支える技術 ――刻々とデータが脈打つ自動化の世界］'}\n",
      "{'_id': ObjectId('59d69dda92474e59f8ad5781'), 'url': 'http://gihyo.jp/book', 'title': None}\n",
      "{'_id': ObjectId('59d69dda92474e59f8ad5782'), 'url': '/book/pickup', 'title': '新刊ピックアップ'}\n",
      "{'_id': ObjectId('59d69dda92474e59f8ad5783'), 'url': '/book/pickup/2017/0072', 'title': ' 『仕事に使えるクチコミ分析』の刊行に寄せて'}\n",
      "{'_id': ObjectId('59d69dda92474e59f8ad5784'), 'url': 'contentslist', 'title': '記事一覧'}\n",
      "{'_id': ObjectId('59d69dda92474e59f8ad5785'), 'url': 'dev/column/01/prog/2017/offshore-dev-frontline', 'title': 'オフショア開発最前線―フランジアが目指す事業創生のプラットフォーム'}\n",
      "{'_id': ObjectId('59d69dda92474e59f8ad5786'), 'url': 'http://gihyo.jp/dev/column/01/prog/2017/offshore-dev-frontline', 'title': None}\n",
      "{'_id': ObjectId('59d69dda92474e59f8ad5787'), 'url': 'ad/01/atlassian', 'title': '開発スピードに限界を感じたときの処方箋'}\n",
      "{'_id': ObjectId('59d69dda92474e59f8ad5788'), 'url': 'http://gihyo.jp/ad/01/atlassian', 'title': None}\n",
      "{'_id': ObjectId('59d69dda92474e59f8ad5789'), 'url': 'ad/2017/ricksoft-rec', 'title': '［Special Interview］3年で300%急成長のベンチャーがSE・PGを大募集！！'}\n",
      "{'_id': ObjectId('59d69dda92474e59f8ad578a'), 'url': 'http://gihyo.jp/ad/2017/ricksoft-rec', 'title': None}\n",
      "{'_id': ObjectId('59d69dda92474e59f8ad578b'), 'url': 'admin/serial/01/sb_cloud/0002', 'title': '新たな可能性を生み出すAlibaba Cloud専用型ネットワークサービス「Express Connect」到来'}\n",
      "{'_id': ObjectId('59d69dda92474e59f8ad578c'), 'url': 'http://gihyo.jp/admin/serial/01/sb_cloud', 'title': None}\n",
      "{'_id': ObjectId('59d69dda92474e59f8ad578d'), 'url': 'http://gihyo.jp/admin/serial/01/ad-linux2017', 'title': 'Active DirectoryとLinuxの認証を統合しよう【2017年版】'}\n",
      "{'_id': ObjectId('59d69dda92474e59f8ad578e'), 'url': 'http://gihyo.jp/admin/serial/01/ad-linux2017', 'title': None}\n",
      "{'_id': ObjectId('59d69dda92474e59f8ad578f'), 'url': 'http://gihyo.jp/dev/serial/01/vuejs', 'title': 'Vue.js入門 ―最速で作るシンプルなWebアプリケーション'}\n",
      "{'_id': ObjectId('59d69dda92474e59f8ad5790'), 'url': 'http://gihyo.jp/dev/serial/01/vuejs', 'title': None}\n",
      "{'_id': ObjectId('59d69dda92474e59f8ad5791'), 'url': 'http://gihyo.jp/lifestyle/clip/01/everyday-cat', 'title': '技評ねこ部通信'}\n",
      "{'_id': ObjectId('59d69dda92474e59f8ad5792'), 'url': 'http://gihyo.jp/lifestyle/clip/01/everyday-cat', 'title': None}\n",
      "{'_id': ObjectId('59d69dda92474e59f8ad5793'), 'url': 'http://gihyo.jp/lifestyle/serial/01/mastodon', 'title': 'Mastodonを楽しく歩こう'}\n",
      "{'_id': ObjectId('59d69dda92474e59f8ad5794'), 'url': 'http://gihyo.jp/lifestyle/serial/01/mastodon', 'title': None}\n",
      "{'_id': ObjectId('59d69dda92474e59f8ad5795'), 'url': 'http://gihyo.jp/admin/serial/01/sb_cloud', 'title': '世界有数のEC企業とソフトバンクが手を組んだクラウドサービス―いま注目される「Alibaba Cloud」の可能性'}\n",
      "{'_id': ObjectId('59d69dda92474e59f8ad5796'), 'url': 'http://gihyo.jp/admin/serial/01/sb_cloud', 'title': None}\n",
      "{'_id': ObjectId('59d69dda92474e59f8ad5797'), 'url': 'http://gihyo.jp/dev/serial/01/funny-play', 'title': 'きたみりゅうじの聞かせて珍プレー'}\n",
      "{'_id': ObjectId('59d69dda92474e59f8ad5798'), 'url': 'http://gihyo.jp/dev/serial/01/funny-play', 'title': None}\n",
      "{'_id': ObjectId('59d69dda92474e59f8ad5799'), 'url': 'http://gihyo.jp/dev/serial/01/jvm-kotlin', 'title': 'プログラマに優しい現実指向JVM言語 Kotlin入門'}\n",
      "{'_id': ObjectId('59d69dda92474e59f8ad579a'), 'url': 'http://gihyo.jp/dev/serial/01/jvm-kotlin', 'title': None}\n",
      "{'_id': ObjectId('59d69dda92474e59f8ad579b'), 'url': 'http://gihyo.jp/dev/serial/01/js-foundation', 'title': '聞いたら一生の宝，プログラミングの基礎の基礎 '}\n",
      "{'_id': ObjectId('59d69dda92474e59f8ad579c'), 'url': 'http://gihyo.jp/dev/serial/01/js-foundation', 'title': None}\n",
      "{'_id': ObjectId('59d69dda92474e59f8ad579d'), 'url': 'http://gihyo.jp/serial', 'title': '連載一覧'}\n",
      "{'_id': ObjectId('59d69dda92474e59f8ad579e'), 'url': 'ad/01/gloops', 'title': '人気ソーシャルアプリを支えるグループスのインフラ環境／開発現場に迫る!!'}\n",
      "{'_id': ObjectId('59d69dda92474e59f8ad579f'), 'url': 'ad/01/azure_frontier', 'title': 'Windows Azure ユーザーズフロンティア'}\n",
      "{'_id': ObjectId('59d69dda92474e59f8ad57a0'), 'url': 'ad/01/mixi_infra', 'title': '大規模ソーシャルサービス mixiを支える技術'}\n",
      "{'_id': ObjectId('59d69dda92474e59f8ad57a1'), 'url': 'ad/01/infra', 'title': 'gihyo.jp インフラエンジニア情報局'}\n",
      "{'_id': ObjectId('59d69dda92474e59f8ad57a2'), 'url': 'ad/01/power_up', 'title': 'エンジニアパワーアップ講座 ～システム基盤を活用するための基礎知識～'}\n",
      "{'_id': ObjectId('59d69dda92474e59f8ad57a3'), 'url': 'ad/2008/test', 'title': 'テストエンジニア ステーション'}\n",
      "{'_id': ObjectId('59d69dda92474e59f8ad57a4'), 'url': 'news/interview/20090406', 'title': 'IVIAに賭けた日本のテスト技術への想い'}\n",
      "{'_id': ObjectId('59d69dda92474e59f8ad57a5'), 'url': 'http://gihyo.jp/design/serial/01/net_dynamism', 'title': '疾走するネット・ダイナミズム'}\n",
      "{'_id': ObjectId('59d69dda92474e59f8ad57a6'), 'url': 'ad/01/hosting', 'title': 'レンタルサーバ導入ガイド'}\n",
      "{'_id': ObjectId('59d69dda92474e59f8ad57a7'), 'url': 'http://gihyo.jp/', 'title': None}\n",
      "{'_id': ObjectId('59d69dda92474e59f8ad57a8'), 'url': 'http://gihyo.jp/dev', 'title': 'デベロッパ'}\n",
      "{'_id': ObjectId('59d69dda92474e59f8ad57a9'), 'url': 'http://gihyo.jp/admin', 'title': 'アドミニストレータ'}\n",
      "{'_id': ObjectId('59d69dda92474e59f8ad57aa'), 'url': 'http://gihyo.jp/design', 'title': 'WEB+デザイン'}\n",
      "{'_id': ObjectId('59d69dda92474e59f8ad57ab'), 'url': 'http://gihyo.jp/lifestyle', 'title': 'ライフスタイル'}\n",
      "{'_id': ObjectId('59d69dda92474e59f8ad57ac'), 'url': 'http://gihyo.jp/science', 'title': 'サイエンス'}\n",
      "{'_id': ObjectId('59d69dda92474e59f8ad57ad'), 'url': 'http://gihyo.jp/news', 'title': 'ニュース&レポート'}\n",
      "{'_id': ObjectId('59d69dda92474e59f8ad57ae'), 'url': 'http://gihyo.jp/book', 'title': '書籍案内'}\n",
      "{'_id': ObjectId('59d69dda92474e59f8ad57af'), 'url': 'http://gihyo.jp/book/list', 'title': '新刊書籍'}\n",
      "{'_id': ObjectId('59d69dda92474e59f8ad57b0'), 'url': 'http://gihyo.jp/book/genre', 'title': '書籍ジャンル一覧'}\n",
      "{'_id': ObjectId('59d69dda92474e59f8ad57b1'), 'url': 'http://gihyo.jp/book/series', 'title': '書籍シリーズ一覧'}\n",
      "{'_id': ObjectId('59d69dda92474e59f8ad57b2'), 'url': 'http://gihyo.jp/book/pickup', 'title': '新刊ピックアップ'}\n",
      "{'_id': ObjectId('59d69dda92474e59f8ad57b3'), 'url': 'http://gihyo.jp/book/longseller', 'title': 'ロングセラー'}\n",
      "{'_id': ObjectId('59d69dda92474e59f8ad57b4'), 'url': 'http://gihyo.jp/book/dennou', 'title': '電脳会議'}\n",
      "{'_id': ObjectId('59d69dda92474e59f8ad57b5'), 'url': 'http://gihyo.jp/magazine', 'title': '定期刊行物一覧'}\n",
      "{'_id': ObjectId('59d69dda92474e59f8ad57b6'), 'url': 'http://gihyo.jp/magazine/SD', 'title': 'Software Design'}\n",
      "{'_id': ObjectId('59d69dda92474e59f8ad57b7'), 'url': 'http://gihyo.jp/magazine/wdpress', 'title': 'WEB+DB PRESS'}\n",
      "{'_id': ObjectId('59d69dda92474e59f8ad57b8'), 'url': 'https://gihyo.jp/dp', 'title': None}\n",
      "{'_id': ObjectId('59d69dda92474e59f8ad57b9'), 'url': 'https://gihyo.jp/dp/information', 'title': 'お知らせ'}\n",
      "{'_id': ObjectId('59d69dda92474e59f8ad57ba'), 'url': 'https://gihyo.jp/dp/help', 'title': 'ご購入方法・読み方'}\n",
      "{'_id': ObjectId('59d69dda92474e59f8ad57bb'), 'url': 'https://gihyo.jp/dev/serial/01/funny-play/form', 'title': None}\n",
      "{'_id': ObjectId('59d69dda92474e59f8ad57bc'), 'url': 'http://gihyo.jp/tagList/FreeBSD', 'title': 'FreeBSD'}\n",
      "{'_id': ObjectId('59d69dda92474e59f8ad57bd'), 'url': 'http://gihyo.jp/tagList/Ubuntu', 'title': 'Ubuntu'}\n",
      "{'_id': ObjectId('59d69dda92474e59f8ad57be'), 'url': 'http://gihyo.jp/tagList/Linux', 'title': 'Linux'}\n",
      "{'_id': ObjectId('59d69dda92474e59f8ad57bf'), 'url': 'http://gihyo.jp/tagList/Web%E3%83%87%E3%82%B6%E3%82%A4%E3%83%B3', 'title': 'Webデザイン'}\n",
      "{'_id': ObjectId('59d69dda92474e59f8ad57c0'), 'url': 'http://gihyo.jp/tagList/%E3%82%B9%E3%83%9E%E3%83%BC%E3%83%88%E3%83%95%E3%82%A9%E3%83%B3', 'title': 'スマートフォン'}\n",
      "{'_id': ObjectId('59d69dda92474e59f8ad57c1'), 'url': 'http://gihyo.jp/tagList/Android', 'title': 'Android'}\n",
      "{'_id': ObjectId('59d69dda92474e59f8ad57c2'), 'url': 'http://gihyo.jp/tagList/Web%E5%BA%83%E5%91%8A', 'title': 'Web広告'}\n",
      "{'_id': ObjectId('59d69dda92474e59f8ad57c3'), 'url': 'http://gihyo.jp/tagList/%E3%82%AF%E3%83%A9%E3%82%A6%E3%83%89', 'title': 'クラウド'}\n",
      "{'_id': ObjectId('59d69dda92474e59f8ad57c4'), 'url': 'http://gihyo.jp/tagList', 'title': '[ タグ一覧 ]'}\n",
      "{'_id': ObjectId('59d69dda92474e59f8ad57c5'), 'url': 'http://gihyo.jp/admin/clip/01/ubuntu-topics/201709/15', 'title': '2017年9月15日号\\u3000Ubuntuコンテナ on Hyper-V Isolation，Ubuntu Core＋Screenly＋Raspberry Pi Compute Module 3構成のデジタルサイネージ'}\n",
      "{'_id': ObjectId('59d69dda92474e59f8ad57c6'), 'url': 'http://gihyo.jp/science/serial/01/math-shortstory/0008', 'title': '第8回\\u3000続・モンティホールの問題'}\n",
      "{'_id': ObjectId('59d69dda92474e59f8ad57c7'), 'url': 'http://gihyo.jp/lifestyle/clip/01/everyday-cat/201709/15', 'title': '2017年9月15日\\u3000湯沸かし器の上のくろこ'}\n",
      "{'_id': ObjectId('59d69dda92474e59f8ad57c8'), 'url': 'http://gihyo.jp/admin/serial/01/bsd-yomoyama/0115', 'title': '第115回\\u3000blacklistd(8)を使ってsshd DoS攻撃を防止する方法 ipf編'}\n",
      "{'_id': ObjectId('59d69dda92474e59f8ad57c9'), 'url': 'http://gihyo.jp/admin/serial/01/ubuntu-recipe/0488', 'title': '第488回\\u3000Tinker Boardファーストインプレッション'}\n",
      "{'_id': ObjectId('59d69dda92474e59f8ad57ca'), 'url': 'http://gihyo.jp/book/pickup/2017/0074', 'title': '構成管理ツールを使ってみよう'}\n",
      "{'_id': ObjectId('59d69dda92474e59f8ad57cb'), 'url': 'http://gihyo.jp/lifestyle/clip/01/awt/201709/14', 'title': '2017年9月第2週\\u3000Google，HTCのスマホ事業を買収か？'}\n",
      "{'_id': ObjectId('59d69dda92474e59f8ad57cc'), 'url': 'http://gihyo.jp/admin/clip/01/linux_dt/201709/14', 'title': '2017年9月14日\\u3000Google，IoT向けOS「Fuchsia OS」のコアを「Zircon」にリネーム'}\n",
      "{'_id': ObjectId('59d69dda92474e59f8ad57cd'), 'url': 'http://gihyo.jp/book/pickup/2017/0073', 'title': '無料でも本格的な絵が描ける！ MediBang Paint Proではじめるデジタルイラスト'}\n",
      "{'_id': ObjectId('59d69dda92474e59f8ad57ce'), 'url': 'http://gihyo.jp/design/clip/01/weekly-web-tech/201709/14', 'title': '2017年9月第2週号 1位は，コールトゥアクションボタンが高い効果を得るための完全ガイド，気になるネタは，ボストン・レッドソックスがApple Watchを使ってニューヨーク・ヤンキースからサインを盗んでいた'}\n",
      "{'_id': ObjectId('59d69dda92474e59f8ad57cf'), 'url': 'http://gihyo.jp/ad/pr/2017/NRR2017156121', 'title': '武部力也のミニセミナー『株と為替の売買シナリオ』北ミサイルに...'}\n",
      "{'_id': ObjectId('59d69dda92474e59f8ad57d0'), 'url': 'http://gihyo.jp/ad/pr/2017/NRR2017156119', 'title': '伊藤嘉洋・武部力也の週間相場見通しの最新号を公開しました【岡...'}\n",
      "{'_id': ObjectId('59d69dda92474e59f8ad57d1'), 'url': 'http://gihyo.jp/ad/pr/2017/NRR2017156005', 'title': '【Lumada Customer Stories】日立の大みか事業所は，生産現場全...'}\n",
      "{'_id': ObjectId('59d69dda92474e59f8ad57d2'), 'url': 'http://gihyo.jp/ad/pr/2017/NRR2017156111', 'title': '“横須賀美術館開館10周年記念プレゼント企画第3弾” 敬老の日「横...'}\n",
      "{'_id': ObjectId('59d69dda92474e59f8ad57d3'), 'url': 'http://gihyo.jp/ad/pr/2017/NRR2017156110', 'title': '東京2020オリンピックフラッグ・パラリンピックフラッグを展示し...'}\n",
      "{'_id': ObjectId('59d69dda92474e59f8ad57d4'), 'url': 'http://gihyo.jp/ad/pr', 'title': '[ 企業動向一覧 ]'}\n",
      "{'_id': ObjectId('59d69dda92474e59f8ad57d5'), 'url': 'http://gihyo.jp/mail', 'title': 'メールでのお知らせ'}\n",
      "{'_id': ObjectId('59d69dda92474e59f8ad57d6'), 'url': 'http://gihyo.jp/mail', 'title': '登録情報変更ページ'}\n",
      "{'_id': ObjectId('59d69dda92474e59f8ad57d7'), 'url': 'http://gihyo.jp/site', 'title': 'このサイトについて'}\n",
      "{'_id': ObjectId('59d69dda92474e59f8ad57d8'), 'url': 'http://gihyo.jp/site/profile', 'title': '会社案内'}\n",
      "{'_id': ObjectId('59d69dda92474e59f8ad57d9'), 'url': 'http://gihyo.jp/site/policy', 'title': 'プライバシーポリシー'}\n",
      "{'_id': ObjectId('59d69dda92474e59f8ad57da'), 'url': 'http://gihyo.jp/site/social', 'title': 'ソーシャルメディアの運用について'}\n",
      "{'_id': ObjectId('59d69dda92474e59f8ad57db'), 'url': 'http://gihyo.jp/site/purchase', 'title': '刊行物の購入について'}\n",
      "{'_id': ObjectId('59d69dda92474e59f8ad57dc'), 'url': 'http://gihyo.jp/site/ad', 'title': '広告出稿のご案内'}\n",
      "{'_id': ObjectId('59d69dda92474e59f8ad57dd'), 'url': 'http://gihyo.jp/site/inquiry', 'title': 'お問い合わせ'}\n",
      "{'_id': ObjectId('59d69dda92474e59f8ad57de'), 'url': 'http://gihyo.jp/magazine/SD', 'title': None}\n",
      "{'_id': ObjectId('59d69dda92474e59f8ad57df'), 'url': 'http://gihyo.jp/magazine/wdpress', 'title': None}\n",
      "{'_id': ObjectId('59d69dda92474e59f8ad57e0'), 'url': 'http://gihyo.jp/feed', 'title': 'RSS/ATOM'}\n",
      "{'_id': ObjectId('59d69dda92474e59f8ad57e1'), 'url': '/#header', 'title': 'このページの先頭へ'}\n",
      "{'_id': ObjectId('59d69dda92474e59f8ad57e2'), 'url': 'http://www.gihyo.co.jp/', 'title': None}\n",
      "{'_id': ObjectId('59d773e892474e59f8ad57e4'), 'name': '東京スカイツリー', 'prefecture': '東京'}\n",
      "{'_id': ObjectId('59d7741092474e59f8ad57e5'), 'name': '東京ディズニーランド', 'prefecture': '千葉'}\n",
      "{'_id': ObjectId('59d7741092474e59f8ad57e6'), 'name': '東京ドーム', 'prefecture': '東京'}\n"
     ]
    }
   ],
   "source": [
    "for spot in collection.find():\n",
    "    print(spot)"
   ]
  },
  {
   "cell_type": "code",
   "execution_count": 23,
   "metadata": {
    "collapsed": false
   },
   "outputs": [
    {
     "name": "stdout",
     "output_type": "stream",
     "text": [
      "{'_id': ObjectId('59d773e892474e59f8ad57e4'), 'name': '東京スカイツリー', 'prefecture': '東京'}\n",
      "{'_id': ObjectId('59d7741092474e59f8ad57e6'), 'name': '東京ドーム', 'prefecture': '東京'}\n"
     ]
    }
   ],
   "source": [
    "# find()メソッドの引数にクエリを指定してマッチするドキュメントを取得\n",
    "for spot in collection.find({'prefecture' : '東京'}):\n",
    "    print (spot)"
   ]
  },
  {
   "cell_type": "code",
   "execution_count": 24,
   "metadata": {
    "collapsed": false
   },
   "outputs": [
    {
     "data": {
      "text/plain": [
       "{'_id': ObjectId('59d69dda92474e59f8ad5736'),\n",
       " 'title': None,\n",
       " 'url': 'http://gihyo.jp/'}"
      ]
     },
     "execution_count": 24,
     "metadata": {},
     "output_type": "execute_result"
    }
   ],
   "source": [
    "collection.find_one() #find_one 条件にマッチする最初のドキュメント"
   ]
  },
  {
   "cell_type": "code",
   "execution_count": 25,
   "metadata": {
    "collapsed": false
   },
   "outputs": [
    {
     "data": {
      "text/plain": [
       "{'_id': ObjectId('59d773e892474e59f8ad57e4'),\n",
       " 'name': '東京スカイツリー',\n",
       " 'prefecture': '東京'}"
      ]
     },
     "execution_count": 25,
     "metadata": {},
     "output_type": "execute_result"
    }
   ],
   "source": [
    "collection.find_one({'prefecture' : '東京'})"
   ]
  },
  {
   "cell_type": "code",
   "execution_count": 26,
   "metadata": {
    "collapsed": false
   },
   "outputs": [],
   "source": [
    "import lxml.html\n",
    "from pymongo import MongoClient\n",
    "\n",
    "tree = lxml.html.parse('index.html')\n",
    "html = tree.getroot()"
   ]
  },
  {
   "cell_type": "code",
   "execution_count": 13,
   "metadata": {
    "collapsed": false
   },
   "outputs": [
    {
     "data": {
      "text/plain": [
       "<pymongo.results.DeleteResult at 0x10d4b8f48>"
      ]
     },
     "execution_count": 13,
     "metadata": {},
     "output_type": "execute_result"
    }
   ],
   "source": [
    "client = MongoClient('localhost', 27017)\n",
    "db = client.scraping\n",
    "colletion = db.links\n",
    "collection.delete_many({}) #一旦全削除"
   ]
  },
  {
   "cell_type": "code",
   "execution_count": 14,
   "metadata": {
    "collapsed": true
   },
   "outputs": [],
   "source": [
    "for a in html.cssselect('a'):\n",
    "    collection.insert_one({\n",
    "        'url': a.get('href'),\n",
    "        'title': a.text,\n",
    "    })"
   ]
  },
  {
   "cell_type": "code",
   "execution_count": 15,
   "metadata": {
    "collapsed": false
   },
   "outputs": [
    {
     "name": "stdout",
     "output_type": "stream",
     "text": [
      "{'_id': ObjectId('59d69dda92474e59f8ad5736'), 'url': 'http://gihyo.jp/', 'title': None}\n",
      "{'_id': ObjectId('59d69dda92474e59f8ad5737'), 'url': 'http://gihyo.jp/site/inquiry', 'title': 'お問い合わせ'}\n",
      "{'_id': ObjectId('59d69dda92474e59f8ad5738'), 'url': 'http://gihyo.jp/site/profile', 'title': '会社案内'}\n",
      "{'_id': ObjectId('59d69dda92474e59f8ad5739'), 'url': 'http://gihyo.jp/dev', 'title': 'デベロッパ'}\n",
      "{'_id': ObjectId('59d69dda92474e59f8ad573a'), 'url': 'http://gihyo.jp/admin', 'title': 'アドミニストレータ'}\n",
      "{'_id': ObjectId('59d69dda92474e59f8ad573b'), 'url': 'http://gihyo.jp/design', 'title': 'WEB＋デザイン'}\n",
      "{'_id': ObjectId('59d69dda92474e59f8ad573c'), 'url': 'http://gihyo.jp/lifestyle', 'title': 'ライフスタイル'}\n",
      "{'_id': ObjectId('59d69dda92474e59f8ad573d'), 'url': 'http://gihyo.jp/book', 'title': '書籍案内'}\n",
      "{'_id': ObjectId('59d69dda92474e59f8ad573e'), 'url': 'https://gihyo.jp/dp', 'title': '電子書籍'}\n",
      "{'_id': ObjectId('59d69dda92474e59f8ad573f'), 'url': 'http://gihyo.jp/admin/serial/01/ad-linux2017', 'title': None}\n",
      "{'_id': ObjectId('59d69dda92474e59f8ad5740'), 'url': 'http://gihyo.jp/admin/serial/01/ad-linux2017', 'title': 'Active DirectoryとLinuxの認証を統合しよう【2017年版】'}\n",
      "{'_id': ObjectId('59d69dda92474e59f8ad5741'), 'url': 'http://gihyo.jp/lifestyle/serial/01/engineer-x-manage', 'title': None}\n",
      "{'_id': ObjectId('59d69dda92474e59f8ad5742'), 'url': 'http://gihyo.jp/lifestyle/serial/01/engineer-x-manage', 'title': 'エンジニアと経営のクロスオーバー'}\n",
      "{'_id': ObjectId('59d69dda92474e59f8ad5743'), 'url': 'http://gihyo.jp/lifestyle/serial/01/mastodon', 'title': None}\n",
      "{'_id': ObjectId('59d69dda92474e59f8ad5744'), 'url': 'http://gihyo.jp/lifestyle/serial/01/mastodon', 'title': 'Mastodonを楽しく歩こう'}\n",
      "{'_id': ObjectId('59d69dda92474e59f8ad5745'), 'url': 'http://gihyo.jp/lifestyle', 'title': None}\n",
      "{'_id': ObjectId('59d69dda92474e59f8ad5746'), 'url': '/lifestyle/clip/01/everyday-cat', 'title': '技評ねこ部通信'}\n",
      "{'_id': ObjectId('59d69dda92474e59f8ad5747'), 'url': '/lifestyle/clip/01/everyday-cat/201709/15', 'title': '2017年9月15日\\u3000湯沸かし器の上のくろこ'}\n",
      "{'_id': ObjectId('59d69dda92474e59f8ad5748'), 'url': 'http://gihyo.jp/lifestyle/clip/01/everyday-cat', 'title': None}\n",
      "{'_id': ObjectId('59d69dda92474e59f8ad5749'), 'url': 'http://gihyo.jp/admin', 'title': None}\n",
      "{'_id': ObjectId('59d69dda92474e59f8ad574a'), 'url': '/admin/clip/01/ubuntu-topics', 'title': 'Ubuntu Weekly Topics'}\n",
      "{'_id': ObjectId('59d69dda92474e59f8ad574b'), 'url': '/admin/clip/01/ubuntu-topics/201709/15', 'title': '2017年9月15日号\\u3000Ubuntuコンテナ on Hyper-V Isolation，Ubuntu Core＋Screenly＋Raspberry Pi Compute Module 3構成のデジタルサイネージ'}\n",
      "{'_id': ObjectId('59d69dda92474e59f8ad574c'), 'url': 'http://gihyo.jp/admin/clip/01/ubuntu-topics', 'title': None}\n",
      "{'_id': ObjectId('59d69dda92474e59f8ad574d'), 'url': 'http://gihyo.jp/science', 'title': None}\n",
      "{'_id': ObjectId('59d69dda92474e59f8ad574e'), 'url': '/science/serial/01/math-shortstory', 'title': '瀬山士郎先生の 数学よもやま話'}\n",
      "{'_id': ObjectId('59d69dda92474e59f8ad574f'), 'url': '/science/serial/01/math-shortstory/0008', 'title': '第8回\\u3000続・モンティホールの問題'}\n",
      "{'_id': ObjectId('59d69dda92474e59f8ad5750'), 'url': 'http://gihyo.jp/science/serial/01/math-shortstory', 'title': None}\n",
      "{'_id': ObjectId('59d69dda92474e59f8ad5751'), 'url': 'http://gihyo.jp/admin', 'title': None}\n",
      "{'_id': ObjectId('59d69dda92474e59f8ad5752'), 'url': '/admin/serial/01/bsd-yomoyama', 'title': 'BSD界隈四方山話'}\n",
      "{'_id': ObjectId('59d69dda92474e59f8ad5753'), 'url': '/admin/serial/01/bsd-yomoyama/0115', 'title': '第115回\\u3000blacklistd(8)を使ってsshd DoS攻撃を防止する方法 ipf編'}\n",
      "{'_id': ObjectId('59d69dda92474e59f8ad5754'), 'url': 'http://gihyo.jp/admin/serial/01/bsd-yomoyama', 'title': None}\n",
      "{'_id': ObjectId('59d69dda92474e59f8ad5755'), 'url': 'http://gihyo.jp/book', 'title': None}\n",
      "{'_id': ObjectId('59d69dda92474e59f8ad5756'), 'url': '/book/pickup', 'title': '新刊ピックアップ'}\n",
      "{'_id': ObjectId('59d69dda92474e59f8ad5757'), 'url': '/book/pickup/2017/0074', 'title': '構成管理ツールを使ってみよう'}\n",
      "{'_id': ObjectId('59d69dda92474e59f8ad5758'), 'url': 'http://gihyo.jp/lifestyle', 'title': None}\n",
      "{'_id': ObjectId('59d69dda92474e59f8ad5759'), 'url': '/lifestyle/clip/01/everyday-cat', 'title': '技評ねこ部通信'}\n",
      "{'_id': ObjectId('59d69dda92474e59f8ad575a'), 'url': '/lifestyle/clip/01/everyday-cat/201709/14', 'title': '2017年9月14日\\u3000温泉のくろこ'}\n",
      "{'_id': ObjectId('59d69dda92474e59f8ad575b'), 'url': 'http://gihyo.jp/lifestyle/clip/01/everyday-cat', 'title': None}\n",
      "{'_id': ObjectId('59d69dda92474e59f8ad575c'), 'url': 'http://gihyo.jp/design', 'title': None}\n",
      "{'_id': ObjectId('59d69dda92474e59f8ad575d'), 'url': '/design/clip/01/weekly-web-tech', 'title': '週刊Webテク通信'}\n",
      "{'_id': ObjectId('59d69dda92474e59f8ad575e'), 'url': '/design/clip/01/weekly-web-tech/201709/14', 'title': '2017年9月第2週号 1位は，コールトゥアクションボタンが高い効果を得るための完全ガイド，気になるネタは，ボストン・レッドソックスがApple Watchを使ってニューヨーク・ヤンキースからサインを盗んでいた'}\n",
      "{'_id': ObjectId('59d69dda92474e59f8ad575f'), 'url': 'http://gihyo.jp/design/clip/01/weekly-web-tech', 'title': None}\n",
      "{'_id': ObjectId('59d69dda92474e59f8ad5760'), 'url': 'http://gihyo.jp/lifestyle', 'title': None}\n",
      "{'_id': ObjectId('59d69dda92474e59f8ad5761'), 'url': '/lifestyle/clip/01/awt', 'title': 'Android Weekly Topics'}\n",
      "{'_id': ObjectId('59d69dda92474e59f8ad5762'), 'url': '/lifestyle/clip/01/awt/201709/14', 'title': '2017年9月第2週\\u3000Google，HTCのスマホ事業を買収か？'}\n",
      "{'_id': ObjectId('59d69dda92474e59f8ad5763'), 'url': 'http://gihyo.jp/lifestyle/clip/01/awt', 'title': None}\n",
      "{'_id': ObjectId('59d69dda92474e59f8ad5764'), 'url': 'http://gihyo.jp/admin', 'title': None}\n",
      "{'_id': ObjectId('59d69dda92474e59f8ad5765'), 'url': '/admin/clip/01/linux_dt', 'title': 'Linux Daily Topics'}\n",
      "{'_id': ObjectId('59d69dda92474e59f8ad5766'), 'url': '/admin/clip/01/linux_dt/201709/14', 'title': '2017年9月14日\\u3000Google，IoT向けOS「Fuchsia OS」のコアを「Zircon」にリネーム'}\n",
      "{'_id': ObjectId('59d69dda92474e59f8ad5767'), 'url': 'http://gihyo.jp/admin/clip/01/linux_dt', 'title': None}\n",
      "{'_id': ObjectId('59d69dda92474e59f8ad5768'), 'url': 'http://gihyo.jp/news', 'title': None}\n",
      "{'_id': ObjectId('59d69dda92474e59f8ad5769'), 'url': '/news/nr', 'title': 'ニュースリリース'}\n",
      "{'_id': ObjectId('59d69dda92474e59f8ad576a'), 'url': '/news/nr/2017/09/1401', 'title': 'リンク，「Trend Micro Deep Security as a Service マネージドプラン」の提供を開始'}\n",
      "{'_id': ObjectId('59d69dda92474e59f8ad576b'), 'url': 'http://gihyo.jp/book', 'title': None}\n",
      "{'_id': ObjectId('59d69dda92474e59f8ad576c'), 'url': '/book/pickup', 'title': '新刊ピックアップ'}\n",
      "{'_id': ObjectId('59d69dda92474e59f8ad576d'), 'url': '/book/pickup/2017/0073', 'title': '無料でも本格的な絵が描ける！ MediBang Paint Proではじめるデジタルイラスト'}\n",
      "{'_id': ObjectId('59d69dda92474e59f8ad576e'), 'url': 'http://gihyo.jp/lifestyle', 'title': None}\n",
      "{'_id': ObjectId('59d69dda92474e59f8ad576f'), 'url': '/lifestyle/clip/01/everyday-cat', 'title': '技評ねこ部通信'}\n",
      "{'_id': ObjectId('59d69dda92474e59f8ad5770'), 'url': '/lifestyle/clip/01/everyday-cat/201709/13', 'title': '2017年9月13日\\u3000弊社周辺の黒ねこといえば2'}\n",
      "{'_id': ObjectId('59d69dda92474e59f8ad5771'), 'url': 'http://gihyo.jp/lifestyle/clip/01/everyday-cat', 'title': None}\n",
      "{'_id': ObjectId('59d69dda92474e59f8ad5772'), 'url': 'http://gihyo.jp/admin', 'title': None}\n",
      "{'_id': ObjectId('59d69dda92474e59f8ad5773'), 'url': '/admin/serial/01/ubuntu-recipe', 'title': 'Ubuntu Weekly Recipe'}\n",
      "{'_id': ObjectId('59d69dda92474e59f8ad5774'), 'url': '/admin/serial/01/ubuntu-recipe/0488', 'title': '第488回\\u3000Tinker Boardファーストインプレッション'}\n",
      "{'_id': ObjectId('59d69dda92474e59f8ad5775'), 'url': 'http://gihyo.jp/admin/serial/01/ubuntu-recipe', 'title': None}\n",
      "{'_id': ObjectId('59d69dda92474e59f8ad5776'), 'url': 'http://gihyo.jp/lifestyle', 'title': None}\n",
      "{'_id': ObjectId('59d69dda92474e59f8ad5777'), 'url': '/lifestyle/clip/01/everyday-cat', 'title': '技評ねこ部通信'}\n",
      "{'_id': ObjectId('59d69dda92474e59f8ad5778'), 'url': '/lifestyle/clip/01/everyday-cat/201709/12', 'title': '2017年9月12日\\u3000田代島のくろこ'}\n",
      "{'_id': ObjectId('59d69dda92474e59f8ad5779'), 'url': 'http://gihyo.jp/lifestyle/clip/01/everyday-cat', 'title': None}\n",
      "{'_id': ObjectId('59d69dda92474e59f8ad577a'), 'url': 'http://gihyo.jp/admin', 'title': None}\n",
      "{'_id': ObjectId('59d69dda92474e59f8ad577b'), 'url': '/admin/serial/01/ad-linux2017', 'title': 'Active DirectoryとLinuxの認証を統合しよう【2017年版】'}\n",
      "{'_id': ObjectId('59d69dda92474e59f8ad577c'), 'url': '/admin/serial/01/ad-linux2017/0004', 'title': '第4回\\u3000pam_krb5による認証連携［2］'}\n",
      "{'_id': ObjectId('59d69dda92474e59f8ad577d'), 'url': 'http://gihyo.jp/admin/serial/01/ad-linux2017', 'title': None}\n",
      "{'_id': ObjectId('59d69dda92474e59f8ad577e'), 'url': 'http://gihyo.jp/magazine/wdpress', 'title': None}\n",
      "{'_id': ObjectId('59d69dda92474e59f8ad577f'), 'url': '/magazine/wdpress/plus/978-4-7741-9225-3', 'title': 'ビッグデータを支える技術 ――刻々とデータが脈打つ自動化の世界'}\n",
      "{'_id': ObjectId('59d69dda92474e59f8ad5780'), 'url': '/magazine/wdpress/plus/978-4-7741-9225-3/0001', 'title': '本書について［ビッグデータを支える技術 ――刻々とデータが脈打つ自動化の世界］'}\n",
      "{'_id': ObjectId('59d69dda92474e59f8ad5781'), 'url': 'http://gihyo.jp/book', 'title': None}\n",
      "{'_id': ObjectId('59d69dda92474e59f8ad5782'), 'url': '/book/pickup', 'title': '新刊ピックアップ'}\n",
      "{'_id': ObjectId('59d69dda92474e59f8ad5783'), 'url': '/book/pickup/2017/0072', 'title': ' 『仕事に使えるクチコミ分析』の刊行に寄せて'}\n",
      "{'_id': ObjectId('59d69dda92474e59f8ad5784'), 'url': 'contentslist', 'title': '記事一覧'}\n",
      "{'_id': ObjectId('59d69dda92474e59f8ad5785'), 'url': 'dev/column/01/prog/2017/offshore-dev-frontline', 'title': 'オフショア開発最前線―フランジアが目指す事業創生のプラットフォーム'}\n",
      "{'_id': ObjectId('59d69dda92474e59f8ad5786'), 'url': 'http://gihyo.jp/dev/column/01/prog/2017/offshore-dev-frontline', 'title': None}\n",
      "{'_id': ObjectId('59d69dda92474e59f8ad5787'), 'url': 'ad/01/atlassian', 'title': '開発スピードに限界を感じたときの処方箋'}\n",
      "{'_id': ObjectId('59d69dda92474e59f8ad5788'), 'url': 'http://gihyo.jp/ad/01/atlassian', 'title': None}\n",
      "{'_id': ObjectId('59d69dda92474e59f8ad5789'), 'url': 'ad/2017/ricksoft-rec', 'title': '［Special Interview］3年で300%急成長のベンチャーがSE・PGを大募集！！'}\n",
      "{'_id': ObjectId('59d69dda92474e59f8ad578a'), 'url': 'http://gihyo.jp/ad/2017/ricksoft-rec', 'title': None}\n",
      "{'_id': ObjectId('59d69dda92474e59f8ad578b'), 'url': 'admin/serial/01/sb_cloud/0002', 'title': '新たな可能性を生み出すAlibaba Cloud専用型ネットワークサービス「Express Connect」到来'}\n",
      "{'_id': ObjectId('59d69dda92474e59f8ad578c'), 'url': 'http://gihyo.jp/admin/serial/01/sb_cloud', 'title': None}\n",
      "{'_id': ObjectId('59d69dda92474e59f8ad578d'), 'url': 'http://gihyo.jp/admin/serial/01/ad-linux2017', 'title': 'Active DirectoryとLinuxの認証を統合しよう【2017年版】'}\n",
      "{'_id': ObjectId('59d69dda92474e59f8ad578e'), 'url': 'http://gihyo.jp/admin/serial/01/ad-linux2017', 'title': None}\n",
      "{'_id': ObjectId('59d69dda92474e59f8ad578f'), 'url': 'http://gihyo.jp/dev/serial/01/vuejs', 'title': 'Vue.js入門 ―最速で作るシンプルなWebアプリケーション'}\n",
      "{'_id': ObjectId('59d69dda92474e59f8ad5790'), 'url': 'http://gihyo.jp/dev/serial/01/vuejs', 'title': None}\n",
      "{'_id': ObjectId('59d69dda92474e59f8ad5791'), 'url': 'http://gihyo.jp/lifestyle/clip/01/everyday-cat', 'title': '技評ねこ部通信'}\n",
      "{'_id': ObjectId('59d69dda92474e59f8ad5792'), 'url': 'http://gihyo.jp/lifestyle/clip/01/everyday-cat', 'title': None}\n",
      "{'_id': ObjectId('59d69dda92474e59f8ad5793'), 'url': 'http://gihyo.jp/lifestyle/serial/01/mastodon', 'title': 'Mastodonを楽しく歩こう'}\n",
      "{'_id': ObjectId('59d69dda92474e59f8ad5794'), 'url': 'http://gihyo.jp/lifestyle/serial/01/mastodon', 'title': None}\n",
      "{'_id': ObjectId('59d69dda92474e59f8ad5795'), 'url': 'http://gihyo.jp/admin/serial/01/sb_cloud', 'title': '世界有数のEC企業とソフトバンクが手を組んだクラウドサービス―いま注目される「Alibaba Cloud」の可能性'}\n",
      "{'_id': ObjectId('59d69dda92474e59f8ad5796'), 'url': 'http://gihyo.jp/admin/serial/01/sb_cloud', 'title': None}\n",
      "{'_id': ObjectId('59d69dda92474e59f8ad5797'), 'url': 'http://gihyo.jp/dev/serial/01/funny-play', 'title': 'きたみりゅうじの聞かせて珍プレー'}\n",
      "{'_id': ObjectId('59d69dda92474e59f8ad5798'), 'url': 'http://gihyo.jp/dev/serial/01/funny-play', 'title': None}\n",
      "{'_id': ObjectId('59d69dda92474e59f8ad5799'), 'url': 'http://gihyo.jp/dev/serial/01/jvm-kotlin', 'title': 'プログラマに優しい現実指向JVM言語 Kotlin入門'}\n",
      "{'_id': ObjectId('59d69dda92474e59f8ad579a'), 'url': 'http://gihyo.jp/dev/serial/01/jvm-kotlin', 'title': None}\n",
      "{'_id': ObjectId('59d69dda92474e59f8ad579b'), 'url': 'http://gihyo.jp/dev/serial/01/js-foundation', 'title': '聞いたら一生の宝，プログラミングの基礎の基礎 '}\n",
      "{'_id': ObjectId('59d69dda92474e59f8ad579c'), 'url': 'http://gihyo.jp/dev/serial/01/js-foundation', 'title': None}\n",
      "{'_id': ObjectId('59d69dda92474e59f8ad579d'), 'url': 'http://gihyo.jp/serial', 'title': '連載一覧'}\n",
      "{'_id': ObjectId('59d69dda92474e59f8ad579e'), 'url': 'ad/01/gloops', 'title': '人気ソーシャルアプリを支えるグループスのインフラ環境／開発現場に迫る!!'}\n",
      "{'_id': ObjectId('59d69dda92474e59f8ad579f'), 'url': 'ad/01/azure_frontier', 'title': 'Windows Azure ユーザーズフロンティア'}\n",
      "{'_id': ObjectId('59d69dda92474e59f8ad57a0'), 'url': 'ad/01/mixi_infra', 'title': '大規模ソーシャルサービス mixiを支える技術'}\n",
      "{'_id': ObjectId('59d69dda92474e59f8ad57a1'), 'url': 'ad/01/infra', 'title': 'gihyo.jp インフラエンジニア情報局'}\n",
      "{'_id': ObjectId('59d69dda92474e59f8ad57a2'), 'url': 'ad/01/power_up', 'title': 'エンジニアパワーアップ講座 ～システム基盤を活用するための基礎知識～'}\n",
      "{'_id': ObjectId('59d69dda92474e59f8ad57a3'), 'url': 'ad/2008/test', 'title': 'テストエンジニア ステーション'}\n",
      "{'_id': ObjectId('59d69dda92474e59f8ad57a4'), 'url': 'news/interview/20090406', 'title': 'IVIAに賭けた日本のテスト技術への想い'}\n",
      "{'_id': ObjectId('59d69dda92474e59f8ad57a5'), 'url': 'http://gihyo.jp/design/serial/01/net_dynamism', 'title': '疾走するネット・ダイナミズム'}\n",
      "{'_id': ObjectId('59d69dda92474e59f8ad57a6'), 'url': 'ad/01/hosting', 'title': 'レンタルサーバ導入ガイド'}\n",
      "{'_id': ObjectId('59d69dda92474e59f8ad57a7'), 'url': 'http://gihyo.jp/', 'title': None}\n",
      "{'_id': ObjectId('59d69dda92474e59f8ad57a8'), 'url': 'http://gihyo.jp/dev', 'title': 'デベロッパ'}\n",
      "{'_id': ObjectId('59d69dda92474e59f8ad57a9'), 'url': 'http://gihyo.jp/admin', 'title': 'アドミニストレータ'}\n",
      "{'_id': ObjectId('59d69dda92474e59f8ad57aa'), 'url': 'http://gihyo.jp/design', 'title': 'WEB+デザイン'}\n",
      "{'_id': ObjectId('59d69dda92474e59f8ad57ab'), 'url': 'http://gihyo.jp/lifestyle', 'title': 'ライフスタイル'}\n",
      "{'_id': ObjectId('59d69dda92474e59f8ad57ac'), 'url': 'http://gihyo.jp/science', 'title': 'サイエンス'}\n",
      "{'_id': ObjectId('59d69dda92474e59f8ad57ad'), 'url': 'http://gihyo.jp/news', 'title': 'ニュース&レポート'}\n",
      "{'_id': ObjectId('59d69dda92474e59f8ad57ae'), 'url': 'http://gihyo.jp/book', 'title': '書籍案内'}\n",
      "{'_id': ObjectId('59d69dda92474e59f8ad57af'), 'url': 'http://gihyo.jp/book/list', 'title': '新刊書籍'}\n",
      "{'_id': ObjectId('59d69dda92474e59f8ad57b0'), 'url': 'http://gihyo.jp/book/genre', 'title': '書籍ジャンル一覧'}\n",
      "{'_id': ObjectId('59d69dda92474e59f8ad57b1'), 'url': 'http://gihyo.jp/book/series', 'title': '書籍シリーズ一覧'}\n",
      "{'_id': ObjectId('59d69dda92474e59f8ad57b2'), 'url': 'http://gihyo.jp/book/pickup', 'title': '新刊ピックアップ'}\n",
      "{'_id': ObjectId('59d69dda92474e59f8ad57b3'), 'url': 'http://gihyo.jp/book/longseller', 'title': 'ロングセラー'}\n",
      "{'_id': ObjectId('59d69dda92474e59f8ad57b4'), 'url': 'http://gihyo.jp/book/dennou', 'title': '電脳会議'}\n",
      "{'_id': ObjectId('59d69dda92474e59f8ad57b5'), 'url': 'http://gihyo.jp/magazine', 'title': '定期刊行物一覧'}\n",
      "{'_id': ObjectId('59d69dda92474e59f8ad57b6'), 'url': 'http://gihyo.jp/magazine/SD', 'title': 'Software Design'}\n",
      "{'_id': ObjectId('59d69dda92474e59f8ad57b7'), 'url': 'http://gihyo.jp/magazine/wdpress', 'title': 'WEB+DB PRESS'}\n",
      "{'_id': ObjectId('59d69dda92474e59f8ad57b8'), 'url': 'https://gihyo.jp/dp', 'title': None}\n",
      "{'_id': ObjectId('59d69dda92474e59f8ad57b9'), 'url': 'https://gihyo.jp/dp/information', 'title': 'お知らせ'}\n",
      "{'_id': ObjectId('59d69dda92474e59f8ad57ba'), 'url': 'https://gihyo.jp/dp/help', 'title': 'ご購入方法・読み方'}\n",
      "{'_id': ObjectId('59d69dda92474e59f8ad57bb'), 'url': 'https://gihyo.jp/dev/serial/01/funny-play/form', 'title': None}\n",
      "{'_id': ObjectId('59d69dda92474e59f8ad57bc'), 'url': 'http://gihyo.jp/tagList/FreeBSD', 'title': 'FreeBSD'}\n",
      "{'_id': ObjectId('59d69dda92474e59f8ad57bd'), 'url': 'http://gihyo.jp/tagList/Ubuntu', 'title': 'Ubuntu'}\n",
      "{'_id': ObjectId('59d69dda92474e59f8ad57be'), 'url': 'http://gihyo.jp/tagList/Linux', 'title': 'Linux'}\n",
      "{'_id': ObjectId('59d69dda92474e59f8ad57bf'), 'url': 'http://gihyo.jp/tagList/Web%E3%83%87%E3%82%B6%E3%82%A4%E3%83%B3', 'title': 'Webデザイン'}\n",
      "{'_id': ObjectId('59d69dda92474e59f8ad57c0'), 'url': 'http://gihyo.jp/tagList/%E3%82%B9%E3%83%9E%E3%83%BC%E3%83%88%E3%83%95%E3%82%A9%E3%83%B3', 'title': 'スマートフォン'}\n",
      "{'_id': ObjectId('59d69dda92474e59f8ad57c1'), 'url': 'http://gihyo.jp/tagList/Android', 'title': 'Android'}\n",
      "{'_id': ObjectId('59d69dda92474e59f8ad57c2'), 'url': 'http://gihyo.jp/tagList/Web%E5%BA%83%E5%91%8A', 'title': 'Web広告'}\n",
      "{'_id': ObjectId('59d69dda92474e59f8ad57c3'), 'url': 'http://gihyo.jp/tagList/%E3%82%AF%E3%83%A9%E3%82%A6%E3%83%89', 'title': 'クラウド'}\n",
      "{'_id': ObjectId('59d69dda92474e59f8ad57c4'), 'url': 'http://gihyo.jp/tagList', 'title': '[ タグ一覧 ]'}\n",
      "{'_id': ObjectId('59d69dda92474e59f8ad57c5'), 'url': 'http://gihyo.jp/admin/clip/01/ubuntu-topics/201709/15', 'title': '2017年9月15日号\\u3000Ubuntuコンテナ on Hyper-V Isolation，Ubuntu Core＋Screenly＋Raspberry Pi Compute Module 3構成のデジタルサイネージ'}\n",
      "{'_id': ObjectId('59d69dda92474e59f8ad57c6'), 'url': 'http://gihyo.jp/science/serial/01/math-shortstory/0008', 'title': '第8回\\u3000続・モンティホールの問題'}\n",
      "{'_id': ObjectId('59d69dda92474e59f8ad57c7'), 'url': 'http://gihyo.jp/lifestyle/clip/01/everyday-cat/201709/15', 'title': '2017年9月15日\\u3000湯沸かし器の上のくろこ'}\n",
      "{'_id': ObjectId('59d69dda92474e59f8ad57c8'), 'url': 'http://gihyo.jp/admin/serial/01/bsd-yomoyama/0115', 'title': '第115回\\u3000blacklistd(8)を使ってsshd DoS攻撃を防止する方法 ipf編'}\n",
      "{'_id': ObjectId('59d69dda92474e59f8ad57c9'), 'url': 'http://gihyo.jp/admin/serial/01/ubuntu-recipe/0488', 'title': '第488回\\u3000Tinker Boardファーストインプレッション'}\n",
      "{'_id': ObjectId('59d69dda92474e59f8ad57ca'), 'url': 'http://gihyo.jp/book/pickup/2017/0074', 'title': '構成管理ツールを使ってみよう'}\n",
      "{'_id': ObjectId('59d69dda92474e59f8ad57cb'), 'url': 'http://gihyo.jp/lifestyle/clip/01/awt/201709/14', 'title': '2017年9月第2週\\u3000Google，HTCのスマホ事業を買収か？'}\n",
      "{'_id': ObjectId('59d69dda92474e59f8ad57cc'), 'url': 'http://gihyo.jp/admin/clip/01/linux_dt/201709/14', 'title': '2017年9月14日\\u3000Google，IoT向けOS「Fuchsia OS」のコアを「Zircon」にリネーム'}\n",
      "{'_id': ObjectId('59d69dda92474e59f8ad57cd'), 'url': 'http://gihyo.jp/book/pickup/2017/0073', 'title': '無料でも本格的な絵が描ける！ MediBang Paint Proではじめるデジタルイラスト'}\n",
      "{'_id': ObjectId('59d69dda92474e59f8ad57ce'), 'url': 'http://gihyo.jp/design/clip/01/weekly-web-tech/201709/14', 'title': '2017年9月第2週号 1位は，コールトゥアクションボタンが高い効果を得るための完全ガイド，気になるネタは，ボストン・レッドソックスがApple Watchを使ってニューヨーク・ヤンキースからサインを盗んでいた'}\n",
      "{'_id': ObjectId('59d69dda92474e59f8ad57cf'), 'url': 'http://gihyo.jp/ad/pr/2017/NRR2017156121', 'title': '武部力也のミニセミナー『株と為替の売買シナリオ』北ミサイルに...'}\n",
      "{'_id': ObjectId('59d69dda92474e59f8ad57d0'), 'url': 'http://gihyo.jp/ad/pr/2017/NRR2017156119', 'title': '伊藤嘉洋・武部力也の週間相場見通しの最新号を公開しました【岡...'}\n",
      "{'_id': ObjectId('59d69dda92474e59f8ad57d1'), 'url': 'http://gihyo.jp/ad/pr/2017/NRR2017156005', 'title': '【Lumada Customer Stories】日立の大みか事業所は，生産現場全...'}\n",
      "{'_id': ObjectId('59d69dda92474e59f8ad57d2'), 'url': 'http://gihyo.jp/ad/pr/2017/NRR2017156111', 'title': '“横須賀美術館開館10周年記念プレゼント企画第3弾” 敬老の日「横...'}\n",
      "{'_id': ObjectId('59d69dda92474e59f8ad57d3'), 'url': 'http://gihyo.jp/ad/pr/2017/NRR2017156110', 'title': '東京2020オリンピックフラッグ・パラリンピックフラッグを展示し...'}\n",
      "{'_id': ObjectId('59d69dda92474e59f8ad57d4'), 'url': 'http://gihyo.jp/ad/pr', 'title': '[ 企業動向一覧 ]'}\n",
      "{'_id': ObjectId('59d69dda92474e59f8ad57d5'), 'url': 'http://gihyo.jp/mail', 'title': 'メールでのお知らせ'}\n",
      "{'_id': ObjectId('59d69dda92474e59f8ad57d6'), 'url': 'http://gihyo.jp/mail', 'title': '登録情報変更ページ'}\n",
      "{'_id': ObjectId('59d69dda92474e59f8ad57d7'), 'url': 'http://gihyo.jp/site', 'title': 'このサイトについて'}\n",
      "{'_id': ObjectId('59d69dda92474e59f8ad57d8'), 'url': 'http://gihyo.jp/site/profile', 'title': '会社案内'}\n",
      "{'_id': ObjectId('59d69dda92474e59f8ad57d9'), 'url': 'http://gihyo.jp/site/policy', 'title': 'プライバシーポリシー'}\n",
      "{'_id': ObjectId('59d69dda92474e59f8ad57da'), 'url': 'http://gihyo.jp/site/social', 'title': 'ソーシャルメディアの運用について'}\n",
      "{'_id': ObjectId('59d69dda92474e59f8ad57db'), 'url': 'http://gihyo.jp/site/purchase', 'title': '刊行物の購入について'}\n",
      "{'_id': ObjectId('59d69dda92474e59f8ad57dc'), 'url': 'http://gihyo.jp/site/ad', 'title': '広告出稿のご案内'}\n",
      "{'_id': ObjectId('59d69dda92474e59f8ad57dd'), 'url': 'http://gihyo.jp/site/inquiry', 'title': 'お問い合わせ'}\n",
      "{'_id': ObjectId('59d69dda92474e59f8ad57de'), 'url': 'http://gihyo.jp/magazine/SD', 'title': None}\n",
      "{'_id': ObjectId('59d69dda92474e59f8ad57df'), 'url': 'http://gihyo.jp/magazine/wdpress', 'title': None}\n",
      "{'_id': ObjectId('59d69dda92474e59f8ad57e0'), 'url': 'http://gihyo.jp/feed', 'title': 'RSS/ATOM'}\n",
      "{'_id': ObjectId('59d69dda92474e59f8ad57e1'), 'url': '/#header', 'title': 'このページの先頭へ'}\n",
      "{'_id': ObjectId('59d69dda92474e59f8ad57e2'), 'url': 'http://www.gihyo.co.jp/', 'title': None}\n"
     ]
    }
   ],
   "source": [
    "for link in collection.find().sort('_id'):\n",
    "    print(link)"
   ]
  }
 ],
 "metadata": {
  "kernelspec": {
   "display_name": "Python 3",
   "language": "python",
   "name": "python3"
  },
  "language_info": {
   "codemirror_mode": {
    "name": "ipython",
    "version": 3
   },
   "file_extension": ".py",
   "mimetype": "text/x-python",
   "name": "python",
   "nbconvert_exporter": "python",
   "pygments_lexer": "ipython3",
   "version": "3.6.0"
  }
 },
 "nbformat": 4,
 "nbformat_minor": 2
}

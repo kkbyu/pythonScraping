{
 "cells": [
  {
   "cell_type": "markdown",
   "metadata": {},
   "source": [
    "# JavaScriptを使ったページのスクレイピング"
   ]
  },
  {
   "cell_type": "markdown",
   "metadata": {},
   "source": [
    "・近年ではWebサイトにおいて、JavaScriptが果たす役割が大きくなっている\n",
    "\n",
    "・SPA(Single Page Application)\n",
    "  従来のようなページ遷移を行わない\n",
    "  JavaScriptフレームワークの発達もあり、採用例が増えている\n",
    "  \n",
    " こういったページからデータ取得しようとしても\n",
    " 取得できるHTMLには目的とするデータが含まれていないことが多い。\n",
    " \n",
    " -> このようなページからスクレイピングする方法を扱う"
   ]
  },
  {
   "cell_type": "markdown",
   "metadata": {},
   "source": [
    "### JavaScriptを使ったページへの対処方法 (Selenium + PhantomJS)"
   ]
  },
  {
   "cell_type": "markdown",
   "metadata": {},
   "source": [
    "#### Seleniumとは\n",
    "  Seleniumとは、Webブラウザを使ってWebアプリケーションをテストするツールです。この「Webブラウザを使って」というのが非常に大きなポイントで、人が手でWebブラウザを操作する代わりにSeleniumがWebブラウザを操作してくれるのです。\n",
    "  \n",
    "https://thinkit.co.jp/free/article/0705/2/1/"
   ]
  },
  {
   "cell_type": "markdown",
   "metadata": {},
   "source": [
    "ブラウザを操作するためのドライバが用意されており、ドライバ経由で様々なブラウザを操作できる\n",
    "\n",
    "・Firefox\n",
    "\n",
    "・Chrome\n",
    "\n",
    "・ヘッドレスブラウザ"
   ]
  },
  {
   "cell_type": "markdown",
   "metadata": {},
   "source": [
    "ヘッドレスブラウザ -> デスクトップ環境がないサーバでスクリプトを操作できる\n",
    "\n",
    "\n",
    "#### PhantomJS\n",
    "\n",
    "Seleniumから使用できるヘッドレスブラウザとして有名。WebKitをベースとしている。\n",
    "\n",
    "http://phantomjs.org/\n"
   ]
  },
  {
   "cell_type": "markdown",
   "metadata": {},
   "source": [
    "#### メリット\n",
    "\n",
    "・JavaScriptを使用したページからスクレイピングできる\n",
    "\n",
    "・スクリーンショットを撮影できる\n",
    "\n",
    "・通常のブラウザと差異が少ない"
   ]
  },
  {
   "cell_type": "markdown",
   "metadata": {},
   "source": [
    "## SeleniumとPhantomJSのインストール"
   ]
  },
  {
   "cell_type": "code",
   "execution_count": 1,
   "metadata": {
    "collapsed": false
   },
   "outputs": [
    {
     "name": "stdout",
     "output_type": "stream",
     "text": [
      "Requirement already satisfied: selenium in /Users/kkb/.pyenv/versions/anaconda3-4.3.1/lib/python3.6/site-packages\r\n"
     ]
    }
   ],
   "source": [
    "!pip install selenium"
   ]
  },
  {
   "cell_type": "markdown",
   "metadata": {},
   "source": [
    "(Mac) \n",
    "\n",
    "brew install phantomjs\n",
    "\n",
    "※xcode-selectがない場合はインストール\n",
    "\n",
    "xcode-select --install\n",
    "\n",
    "(Linux) \n",
    "\n",
    "wget https://bitbucket.org/ariya/phantomjs/downloads/phantomjs-1.9.8-linux-x86_64.tar.bz2\n",
    "\n",
    "tar xvf phantomjs-1.9.8-linux-x86_64.tar.bz2\n",
    "\n",
    "sudo apt-get install -y libfontconfig1 fonts-migmix"
   ]
  },
  {
   "cell_type": "markdown",
   "metadata": {},
   "source": [
    "#### Seleniumを使った自動操作"
   ]
  },
  {
   "cell_type": "code",
   "execution_count": 2,
   "metadata": {
    "collapsed": false
   },
   "outputs": [
    {
     "name": "stdout",
     "output_type": "stream",
     "text": [
      "Python - ウィキペディア\n",
      "https://www.google.co.jp/url?q=https://ja.wikipedia.org/wiki/Python&sa=U&ved=0ahUKEwji35mggNfXAhUHObwKHWOyCrUQFggUMAA&usg=AOvVaw2S5TE2vGNp-0XlEfJQdIsv\n",
      "Pythonとは - python.jp\n",
      "https://www.google.co.jp/url?q=https://www.python.jp/about/&sa=U&ved=0ahUKEwji35mggNfXAhUHObwKHWOyCrUQFggfMAE&usg=AOvVaw3rRKUntSpufiRk0XRxOoJm\n",
      "専門知識いらず！Pythonとは？言語の特徴から網羅的に徹底解説 | 侍 ...\n",
      "https://www.google.co.jp/url?q=https://www.sejuku.net/blog/7720&sa=U&ved=0ahUKEwji35mggNfXAhUHObwKHWOyCrUQFgglMAI&usg=AOvVaw1BXrxrfkMbHGu6-XNwTJ3j\n",
      "Python基礎講座(1 Pythonとは) - Qiita\n",
      "https://www.google.co.jp/url?q=https://qiita.com/Usek/items/ff4d87745dfc5d9b85a4&sa=U&ved=0ahUKEwji35mggNfXAhUHObwKHWOyCrUQFggvMAM&usg=AOvVaw18TBgdISlIrITTnikTSCgZ\n",
      "Python 13302 posts - Qiita\n",
      "https://www.google.co.jp/url?q=https://qiita.com/tags/Python&sa=U&ved=0ahUKEwji35mggNfXAhUHObwKHWOyCrUQFgg2MAQ&usg=AOvVaw2SOnWnYrZgPD5zkcHFxtA1\n",
      "Python 3を使うべきでない場合（なんてない） | プログラミング | POSTD\n",
      "https://www.google.co.jp/url?q=http://postd.cc/case-python-3/&sa=U&ved=0ahUKEwji35mggNfXAhUHObwKHWOyCrUQFgg7MAU&usg=AOvVaw0ihtUijSF4VFUD574qRWFV\n",
      "Pythonとは？何に使えるの？Pythonの特徴や使い道を…｜Udemy ...\n",
      "https://www.google.co.jp/url?q=https://udemy.benesse.co.jp/development/python.html&sa=U&ved=0ahUKEwji35mggNfXAhUHObwKHWOyCrUQFghCMAY&usg=AOvVaw1iAdwxKJSxsAigl2H9t6Oc\n",
      "Python入門\n",
      "https://www.google.co.jp/url?q=http://www.tohoho-web.com/python/&sa=U&ved=0ahUKEwji35mggNfXAhUHObwKHWOyCrUQFghIMAc&usg=AOvVaw3ySOd5Ju1LOFog6UTvJAad\n",
      "Pythonは今のうちに習得すべき？『スラスラわかるPython』著者・岩崎 ...\n",
      "https://www.google.co.jp/url?q=https://codezine.jp/article/detail/10329&sa=U&ved=0ahUKEwji35mggNfXAhUHObwKHWOyCrUQFghPMAg&usg=AOvVaw2inGC4r-OGu67gCM3vRJKj\n",
      "PythonのIT勉強会・セミナー・イベント情報 - TECH PLAY［テックプレイ］\n",
      "https://www.google.co.jp/url?q=https://techplay.jp/tag/python&sa=U&ved=0ahUKEwji35mggNfXAhUHObwKHWOyCrUQFghVMAk&usg=AOvVaw2tjaK_VudVF6gkUJEQh9oP\n"
     ]
    }
   ],
   "source": [
    "from selenium import webdriver\n",
    "from selenium.webdriver.common.keys import Keys\n",
    "\n",
    "# PhantomJSのWebDriverオブジェクトを作成する。\n",
    "driver = webdriver.PhantomJS()\n",
    "\n",
    "# Googleのトップ画面を開く。\n",
    "driver.get('https://www.google.co.jp/')\n",
    "\n",
    "# タイトルに'Google'が含まれていることを確認する。\n",
    "#assert 'Google' in driver.title\n",
    "\n",
    "# 検索語を入力して送信する。\n",
    "input_element = driver.find_element_by_name('q')\n",
    "input_element.send_keys('Python')\n",
    "input_element.send_keys(Keys.RETURN)\n",
    "\n",
    "# タイトルに'Python'が含まれていることを確認する。\n",
    "#assert 'Python' in driver.title\n",
    "\n",
    "# スクリーンショットを撮る。\n",
    "driver.save_screenshot('search_results.png')\n",
    "\n",
    "# 検索結果を表示する。\n",
    "for a in driver.find_elements_by_css_selector('h3 > a'):\n",
    "    print(a.text)\n",
    "    print(a.get_attribute('href'))"
   ]
  },
  {
   "cell_type": "code",
   "execution_count": 3,
   "metadata": {
    "collapsed": false
   },
   "outputs": [],
   "source": [
    "!open search_results.png"
   ]
  },
  {
   "cell_type": "markdown",
   "metadata": {},
   "source": [
    "## JSを使っているページのスクレイピング"
   ]
  },
  {
   "cell_type": "markdown",
   "metadata": {},
   "source": [
    "https://note.mu/"
   ]
  },
  {
   "cell_type": "code",
   "execution_count": null,
   "metadata": {
    "collapsed": false
   },
   "outputs": [],
   "source": [
    "!wget -U \"\" https://note.mu/"
   ]
  },
  {
   "cell_type": "code",
   "execution_count": null,
   "metadata": {
    "collapsed": false
   },
   "outputs": [],
   "source": [
    "# !cat index.html"
   ]
  },
  {
   "cell_type": "code",
   "execution_count": 4,
   "metadata": {
    "collapsed": false
   },
   "outputs": [
    {
     "data": {
      "text/plain": [
       "'note ――つくる、つながる、とどける。'"
      ]
     },
     "execution_count": 4,
     "metadata": {},
     "output_type": "execute_result"
    }
   ],
   "source": [
    "### Seleniumを使って読み込む\n",
    "from selenium import webdriver\n",
    "driver = webdriver.PhantomJS()\n",
    "\n",
    "driver.get('https://note.mu/')\n",
    "driver.title"
   ]
  },
  {
   "cell_type": "code",
   "execution_count": 5,
   "metadata": {
    "collapsed": false
   },
   "outputs": [
    {
     "data": {
      "text/plain": [
       "True"
      ]
     },
     "execution_count": 5,
     "metadata": {},
     "output_type": "execute_result"
    }
   ],
   "source": [
    "driver.save_screenshot('note-1.png')"
   ]
  },
  {
   "cell_type": "code",
   "execution_count": 6,
   "metadata": {
    "collapsed": true
   },
   "outputs": [],
   "source": [
    "!open note-1.png"
   ]
  },
  {
   "cell_type": "code",
   "execution_count": 7,
   "metadata": {
    "collapsed": false
   },
   "outputs": [
    {
     "data": {
      "text/plain": [
       "True"
      ]
     },
     "execution_count": 7,
     "metadata": {},
     "output_type": "execute_result"
    }
   ],
   "source": [
    "#set_window_sizeでウィンドウサイズを指定\n",
    "driver.set_window_size(800,600)\n",
    "driver.save_screenshot('note-2.png')"
   ]
  },
  {
   "cell_type": "code",
   "execution_count": 8,
   "metadata": {
    "collapsed": true
   },
   "outputs": [],
   "source": [
    "!open note-2.png"
   ]
  },
  {
   "cell_type": "code",
   "execution_count": 9,
   "metadata": {
    "collapsed": false
   },
   "outputs": [
    {
     "name": "stderr",
     "output_type": "stream",
     "text": [
      "Navigating...\n"
     ]
    },
    {
     "name": "stdout",
     "output_type": "stream",
     "text": [
      "{'url': 'https://note.mu/genkido/n/n534c9a3dbc7b', 'title': '微信支付（WeChatPay）が超便利だった！', 'description': '2017年11月8日〜15日、中国へ行って来ました！\\nMakerFaireShenzhenというイベントに出展するためです。\\n全体のレポートについてはいずれ漫画にしようと思いますが、\\n何を置いても中国で既に標準になってる（のか？）スマホ決済...'}\n",
      "{'url': 'https://note.mu/daaakkk/n/n0508493e7d35', 'title': 'zozosuitsで試着ルームが無くなる', 'description': 'お店での試着がめんどくさい。\\n混んでいたら一列に並ばなければならないし、店員さんからの高まる期待に応えられない場面を想像すると、まぁ今度でいいかと服を置く。\\n\\nそこで本日のzozosuitsの発表。 ...'}\n",
      "{'url': 'https://note.mu/sy0/n/n07f56dace77a', 'title': '女の子に、なる方法', 'description': '女の子に憧れがある。\\n実際なってみたら大変なことはたくさんたくさんあるんだろうけど、髪型とか服装とかお化粧とか選択肢がたくさんあるの、いいなぁと思う。やっぱり華やかだから。\\n...'}\n",
      "{'url': 'https://note.mu/sadaaki/n/n8e95e9a40353', 'title': '生活の楽しみ展とどうぶつの森', 'description': '土曜日に、ほぼ日の「生活のたのしみ展」に行ってきた。生活のたのしみ展はこれで2回目なのだが、第1回の4〜5倍くらいの規模になってたのではないだろうか。とにかく、ものすごくもりあがっていた。\\n...'}\n",
      "{'url': 'https://note.mu/weibocomic/n/nde9a9b85b56a', 'title': 'noteでWeiboコミックのマンガの連載を開始します', 'description': '中国最大のSNSプラットフォーム「Weibo（微博）」の傘下会社Weibo Comic株式会社は、noteでの中国マンガの連載を開始します。\\n\\n更新する予定の各作品のあらすじは下記となります：...'}\n",
      "{'url': 'https://note.mu/marioshoten/n/n21befb0cf38c', 'title': 'ある本屋で、コーヒーと。１', 'description': '私の日課は仕事終わりにカフェの併設した本屋で読書をすること。その本屋はカフェを利用すれば、席に好きな本２冊まで持って行って読んでいいことになっている。私はこの日読むと決めていた好きな作家【待津野ひまわり】の本と別の作家の本、２冊を持って、カフェカウンターでホットコーヒーのＳを注文した。...'}\n"
     ]
    }
   ],
   "source": [
    "import sys\n",
    "import time\n",
    "\n",
    "from selenium import webdriver\n",
    "\n",
    "\n",
    "def main():\n",
    "    \"\"\"\n",
    "    メインの処理。\n",
    "    \"\"\"\n",
    "\n",
    "    driver = webdriver.PhantomJS()  # PhantomJSのWebDriverオブジェクトを作成する。\n",
    "    driver.set_window_size(800, 600)  # ウィンドウサイズを設定する。\n",
    "\n",
    "    navigate(driver)  # noteのトップページに遷移する。\n",
    "    posts = scrape_posts(driver)  # 文章コンテンツのリストを取得する。\n",
    "\n",
    "    # コンテンツの情報を表示する。\n",
    "    for post in posts:\n",
    "        print(post)\n",
    "\n",
    "\n",
    "def navigate(driver):\n",
    "    \"\"\"\n",
    "    目的のページに遷移する。\n",
    "    \"\"\"\n",
    "\n",
    "    print('Navigating...', file=sys.stderr)\n",
    "    driver.get('https://note.mu/')  # noteのトップページを開く。\n",
    "    assert 'note' in driver.title  # タイトルに'note'が含まれていることを確認する。\n",
    "    time.sleep(2)  # 2秒間待つ。\n",
    "\n",
    "\n",
    "def scrape_posts(driver):\n",
    "    \"\"\"\n",
    "    文章コンテンツのURL、タイトル、概要を含むdictのリストを取得する。\n",
    "    \"\"\"\n",
    "\n",
    "    posts = []\n",
    "\n",
    "    # すべての文章コンテンツを表すa要素について反復する。\n",
    "    for a in driver.find_elements_by_css_selector('a.p-post--basic'):\n",
    "        # URL、タイトル、概要を取得して、dictとしてリストに追加する。\n",
    "        posts.append({\n",
    "            'url': a.get_attribute('href'),\n",
    "            'title': a.find_element_by_css_selector('h4').text,\n",
    "            'description': a.find_element_by_css_selector('.c-post__description').text,\n",
    "        })\n",
    "\n",
    "    return posts\n",
    "\n",
    "if __name__ == '__main__':\n",
    "    main()"
   ]
  },
  {
   "cell_type": "markdown",
   "metadata": {},
   "source": [
    "#### webDriverオブジェクトのexecute_scriptを使用するとページ内でJavaScriptを実行できる"
   ]
  },
  {
   "cell_type": "code",
   "execution_count": 10,
   "metadata": {
    "collapsed": false
   },
   "outputs": [
    {
     "data": {
      "text/plain": [
       "True"
      ]
     },
     "execution_count": 10,
     "metadata": {},
     "output_type": "execute_result"
    }
   ],
   "source": [
    "from selenium import webdriver\n",
    "driver = webdriver.PhantomJS()\n",
    "driver.get('https://note.mu/')\n",
    "driver.execute_script('scroll(0,document.body.scrollHeight)')\n",
    "time.sleep(2)\n",
    "driver.save_screenshot('note-3.png')"
   ]
  },
  {
   "cell_type": "code",
   "execution_count": 11,
   "metadata": {
    "collapsed": true
   },
   "outputs": [],
   "source": [
    "!open note-3.png"
   ]
  },
  {
   "cell_type": "code",
   "execution_count": 12,
   "metadata": {
    "collapsed": false
   },
   "outputs": [
    {
     "name": "stderr",
     "output_type": "stream",
     "text": [
      "Navigating...\n",
      "Waiting for contents to be loaded...\n",
      "Waiting for the more button to be clickable...\n",
      "Waiting for contents to be loaded...\n"
     ]
    },
    {
     "name": "stdout",
     "output_type": "stream",
     "text": [
      "{'url': 'https://note.mu/genkido/n/n534c9a3dbc7b', 'title': '微信支付（WeChatPay）が超便利だった！', 'description': '2017年11月8日〜15日、中国へ行って来ました！\\nMakerFaireShenzhenというイベントに出展するためです。\\n全体のレポートについてはいずれ漫画にしようと思いますが、\\n何を置いても中国で既に標準になってる（のか？）スマホ決済...'}\n",
      "{'url': 'https://note.mu/daaakkk/n/n0508493e7d35', 'title': 'zozosuitsで試着ルームが無くなる', 'description': 'お店での試着がめんどくさい。\\n混んでいたら一列に並ばなければならないし、店員さんからの高まる期待に応えられない場面を想像すると、まぁ今度でいいかと服を置く。\\n\\nそこで本日のzozosuitsの発表。 ...'}\n",
      "{'url': 'https://note.mu/sy0/n/n07f56dace77a', 'title': '女の子に、なる方法', 'description': '女の子に憧れがある。\\n実際なってみたら大変なことはたくさんたくさんあるんだろうけど、髪型とか服装とかお化粧とか選択肢がたくさんあるの、いいなぁと思う。やっぱり華やかだから。\\n...'}\n",
      "{'url': 'https://note.mu/sadaaki/n/n8e95e9a40353', 'title': '生活の楽しみ展とどうぶつの森', 'description': '土曜日に、ほぼ日の「生活のたのしみ展」に行ってきた。生活のたのしみ展はこれで2回目なのだが、第1回の4〜5倍くらいの規模になってたのではないだろうか。とにかく、ものすごくもりあがっていた。\\n...'}\n",
      "{'url': 'https://note.mu/weibocomic/n/nde9a9b85b56a', 'title': 'noteでWeiboコミックのマンガの連載を開始します', 'description': '中国最大のSNSプラットフォーム「Weibo（微博）」の傘下会社Weibo Comic株式会社は、noteでの中国マンガの連載を開始します。\\n\\n更新する予定の各作品のあらすじは下記となります：...'}\n",
      "{'url': 'https://note.mu/marioshoten/n/n21befb0cf38c', 'title': 'ある本屋で、コーヒーと。１', 'description': '私の日課は仕事終わりにカフェの併設した本屋で読書をすること。その本屋はカフェを利用すれば、席に好きな本２冊まで持って行って読んでいいことになっている。私はこの日読むと決めていた好きな作家【待津野ひまわり】の本と別の作家の本、２冊を持って、カフェカウンターでホットコーヒーのＳを注文した。...'}\n",
      "{'url': 'https://irnote.com/n/nf2cf747fe0be', 'title': 'スナップチャットに学ぶグローバルにスケールさせる広告システム', 'description': 'このnoteでは過去に何度かスナップチャットを取り上げたことがありますが、今日はスナップチャットの新しい広告システムについて考察していきたいと思います。\\n\\nはじめにスナップチャットの2017年7月から9月期の決算...'}\n",
      "{'url': 'https://note.mu/yutapon/n/n38408203f9f9', 'title': '11月23日は珍味の日 Part2！', 'description': '\\u202a 11月23日は珍味の日 Part2！\\nマイクロなフカヒレは酒の肴のエイヒレを使って再現しました。\\n\\n#マイクロフード #ミニチュア #miniature #ミニチュアフード #料理 #microfood #ダイエッ...'}\n",
      "{'url': 'https://note.mu/hoshinc/n/n44d33ec0a0ea', 'title': 'はじめての元若者という立ち位置', 'description': '衣替えしてる途中で力尽きて、いま床に信じられない量の服が散らばってます。\\n\\n衣替えするたびに、そういえばこんな服あったな〜ってなったり、この夏は一回くらい着てみよって思うけど結局着ないまま終...'}\n",
      "{'url': 'https://note.mu/venusinfakefurs/n/n884bce63a9dd', 'title': '君の名は希望（いま世界に必要なのはアンドレザ・ジャイアントパンダだ）', 'description': 'パンダはかわいくて、かわいいは正義で、大きくて強いも正義。パンダがかわいくて大きくて強かったら世界を救える、かまではわからないけど、確実に笑顔になる人がいる。\\n\\nアンドレザ・ジャイアントパンダという体調3m、体重500...'}\n",
      "{'url': 'https://note.mu/makoluckyhappy/n/n2b281823a059', 'title': '恋愛はバカップルになるくらいがちょうどいい', 'description': '数ヶ月前、親友ユリコが、自撮りばかりする共通の友人ルリを\\n\\nいたい\\n\\nと言っていた。...'}\n",
      "{'url': 'https://note.mu/senrigarden/n/ne8558b18d6eb', 'title': '大江屋レシピ(56)「油を使わないあまりご飯のサラダチャーハン」、(57)「お手軽モミモミご飯のお供」の2本立ての巻', 'description': '「油を使わないあまりご飯のサラダチャーハン」の巻\\n\\n冷蔵庫に半端な量のご飯がちょこっとかわゆく余ることってないっすか？\\n...'}\n",
      "{'url': 'https://note.mu/potton/n/n81c6586096df', 'title': '丁寧なコミュニケーションは難しくない', 'description': '「丁寧なコミュニケーション」と聞くと……静寂の中、音と言えば焚火のはぜる音のみ…そんな空間で、両ひざをついて、手を握り、目を見つめて一生懸命、全集中して交わすコミュニケーション……を想像する人は、さすがにいないかもしれないけど、ゆっくり時間を割いて、マンツーマンでこってりした会話をするこ...'}\n",
      "{'url': 'https://note.mu/chakuriki/n/ne13858c56165', 'title': '「言い訳」が芸術を作った', 'description': '人は言い訳するとき小説家になる。遅刻したのは親族が突然死したせいだったり、おもわぬ事故に巻き込まれたり、電車が謎の遅延を繰り返したり。\\n\\n実際に小説っぽい形をとることもある。古代ギリシアの名作『...'}\n",
      "{'url': 'https://note.mu/horacio/n/necb8415fa23a', 'title': '愛するという才能', 'description': '最近、フリーランスとなってからは特に、「才能」というものについて考えることが多くなりました。\\n\\nこんなことを書くと恥ずかしいのですが、自分の能力だけを頼りにやっていく仕事というプライドがやはりどこかにあり、自分...'}\n",
      "{'url': 'https://note.mu/mitanorifusa/n/nd8ba571ccb62', 'title': '公式メルマガ『ドラゴン桜＋』配信スタート！', 'description': '激動の時代を前に、桜木が帰ってくる！\\n\\nこれまでの大学受験では、知識さえあればいい大学に合格することができた。\\nしかし、2020年の教育改革によって、そのルールが変わろ...'}\n",
      "{'url': 'https://note.mu/sono_note/n/n03e93aac1f10', 'title': 'にらと玉ねぎのチヂミ', 'description': '■にらと玉ねぎのチヂミ\\n＜材料\\u30002～３人分＞\\n・にら\\u30001束\\n・玉ねぎ小\\u30001個\\n・小麦粉\\u3000カップ1...'}\n",
      "{'url': 'https://note.mu/koukan/n/n69d678489b25', 'title': '男性は自己肯定のツールでしかないのかもしれない 第49回\\u3000わかめ', 'description': 'かつおさん、こんにちは。\\n\\n前の更新からずいぶんとたってしまいました。\\n元気でやっていますか？\\n仕事は慣れましたか？\\u3000...'}\n",
      "{'url': 'https://note.mu/hidetake/n/n224acff03aa0', 'title': 'いずれ、運命の出会いは絶滅する。', 'description': 'どうも！佐伯ポインティ（@boogie_go）です。\\n今日は「運命の出会いの３要素」と「未来の運命の出会い」についてのnoteです。きゃー、ロマンティック！\\n\\n最近、彼女に逃げられて出会い系アプリを使いまくっている友...'}\n",
      "{'url': 'https://note.mu/marketing/n/nc8379987b439', 'title': '女性は「購入コストが低い」 男性は「月額課金コストが低い」 アプリのエンゲージメント別の広告コスト図解まとめ。', 'description': ''}\n",
      "{'url': 'https://note.mu/taejun/n/nd18ce7480911', 'title': '社会的養護の課題の全体像（2017）のスライド資料をダウンロード可能にしました', 'description': 'Living in Peace理事長最後の仕事の一環として（今後も活動は続けます、念のため）社会的養護の全体像が分かる資料2017年版をつくりました。PDFファイルはここからダウンロード可能です。商用利用（商用利用しようがない気もするけど）だけはご遠慮ください。...'}\n",
      "{'url': 'https://note.mu/nagare/n/n0a42299a2c98', 'title': '【読書メモ】落合陽一『超AI時代の生存戦略』', 'description': '落合陽一さんの新刊が出るので、その前に前の本を読んでおこうと思って読んだ。\\n\\nグッときたところをメモ。\\n\\n社会構造が多様化してきて、私たちはそれぞれ違う方向に淡々とやることが重要になってきた...'}\n",
      "{'url': 'https://note.mu/qzqrnl/n/n113322903e91', 'title': '「かかりつけ医」という名のファーストコールを目指す', 'description': '以前書いたカラー分類の記事が想像以上の反響をいただいたときに印象的だったのが、女性を中心に「私はどこに入るんだろう？」というつぶやきが多かったこと。\\n\\n友人を中心に「あなたはこれをベースにこのへんを行き来する...'}\n",
      "{'url': 'https://note.mu/yutapon/n/n4abae0883e0d', 'title': '11月22日は長野県りんごの日！', 'description': '11月22日は長野県りんごの日！\\n「いい(11)ふじ(22)」の語呂合わせだそうです(^^)\\nひとくちサイズのアップルパイをオーブンで焼きました♪\\n\\nもちろん人間サイズのアップルパイもあるよ。...'}\n"
     ]
    }
   ],
   "source": [
    "import sys\n",
    "import time\n",
    "\n",
    "from selenium import webdriver\n",
    "from selenium.webdriver.common.by import By\n",
    "from selenium.webdriver.support import expected_conditions as EC\n",
    "from selenium.webdriver.support.ui import WebDriverWait\n",
    "\n",
    "\n",
    "def main():\n",
    "    \"\"\"\n",
    "    メインの処理。\n",
    "    \"\"\"\n",
    "\n",
    "    driver = webdriver.PhantomJS()  # PhantomJSのWebDriverオブジェクトを作成する。\n",
    "    driver.set_window_size(800, 600)  # ウィンドウサイズを設定する。\n",
    "\n",
    "    navigate(driver)  # noteのトップページに遷移する。\n",
    "    posts = scrape_posts(driver)  # 文章コンテンツのリストを取得する。\n",
    "\n",
    "    # コンテンツの情報を表示する。\n",
    "    for post in posts:\n",
    "        print(post)\n",
    "\n",
    "\n",
    "def navigate(driver):\n",
    "    \"\"\"\n",
    "    目的のページに遷移して続きのコンテンツを読み込む。\n",
    "    \"\"\"\n",
    "\n",
    "    print('Navigating...', file=sys.stderr)\n",
    "    driver.get('https://note.mu/')  # noteのトップページを開く。\n",
    "    assert 'note' in driver.title  # タイトルに'note'が含まれていることを確認する。\n",
    "    time.sleep(2)  # 2秒間待つ。\n",
    "\n",
    "    # ページの一番下までスクロールする。\n",
    "    driver.execute_script('scroll(0, document.body.scrollHeight)')\n",
    "\n",
    "    print('Waiting for contents to be loaded...', file=sys.stderr)\n",
    "    time.sleep(2)  # 2秒間待つ。\n",
    "\n",
    "    # ページの一番下までスクロールする。\n",
    "    driver.execute_script('scroll(0, document.body.scrollHeight)')\n",
    "\n",
    "    # 10秒でタイムアウトするWebDriverWaitオブジェクトを作成する。\n",
    "    wait = WebDriverWait(driver, 10)\n",
    "\n",
    "    print('Waiting for the more button to be clickable...', file=sys.stderr)\n",
    "    # 「もっとみる」ボタンがクリック可能になるまで待つ。\n",
    "    button = wait.until(EC.element_to_be_clickable((By.CSS_SELECTOR, '.btn-more')))\n",
    "\n",
    "    button.click()  # 「もっとみる」ボタンをクリックする。\n",
    "\n",
    "    print('Waiting for contents to be loaded...', file=sys.stderr)\n",
    "    time.sleep(2)  # 2秒間待つ。\n",
    "\n",
    "\n",
    "def scrape_posts(driver):\n",
    "    \"\"\"\n",
    "    文章コンテンツのURL、タイトル、概要を含むdictのリストを取得する。\n",
    "    \"\"\"\n",
    "\n",
    "    posts = []\n",
    "\n",
    "    # すべての文章コンテンツを表す<a>要素について反復する。\n",
    "    for a in driver.find_elements_by_css_selector('a.p-post--basic'):\n",
    "        # URL、タイトル、概要を取得して、dictとしてリストに追加する。\n",
    "        posts.append({\n",
    "            'url': a.get_attribute('href'),\n",
    "            'title': a.find_element_by_css_selector('h4').text,\n",
    "            'description': a.find_element_by_css_selector('.c-post__description').text,\n",
    "        })\n",
    "\n",
    "    return posts\n",
    "\n",
    "if __name__ == '__main__':\n",
    "    main()"
   ]
  }
 ],
 "metadata": {
  "kernelspec": {
   "display_name": "Python 3",
   "language": "python",
   "name": "python3"
  },
  "language_info": {
   "codemirror_mode": {
    "name": "ipython",
    "version": 3
   },
   "file_extension": ".py",
   "mimetype": "text/x-python",
   "name": "python",
   "nbconvert_exporter": "python",
   "pygments_lexer": "ipython3",
   "version": "3.6.0"
  }
 },
 "nbformat": 4,
 "nbformat_minor": 2
}

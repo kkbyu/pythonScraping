{
 "cells": [
  {
   "cell_type": "code",
   "execution_count": 1,
   "metadata": {
    "collapsed": false
   },
   "outputs": [
    {
     "name": "stdout",
     "output_type": "stream",
     "text": [
      "https://gihyo.jp/dp/ebook/2016/978-4-7741-8336-7 これからはじめるプログラミング 作って覚える基礎の基礎\n",
      "https://gihyo.jp/dp/ebook/2016/978-4-7741-8337-4 情報処理技術者試験 平成28年度【秋期】情報セキュリティマネジメント パーフェクトラーニング過去問題集\n",
      "https://gihyo.jp/dp/ebook/2016/978-4-7741-8338-1 大人の自由時間（大人の自由時間mini） 水泳のきれいなカラダをつくる ～スリムな逆三角形になる！ドライランドトレーニング\n",
      "https://gihyo.jp/dp/ebook/2016/978-4-7741-8346-6 30レッスン 30レッスンで絶対合格！ Microsoft Office Specialist PowerPoint 2013 テキスト＋問題集\n",
      "https://gihyo.jp/dp/ebook/2016/978-4-7741-8334-3 ゼロからはじめる ゼロからはじめる 海外旅行でスマホ活用 スマートガイド\n",
      "https://gihyo.jp/dp/ebook/2016/978-4-7741-8335-0 今すぐ使えるかんたんmini 今すぐ使えるかんたんmini CD&DVD 作成超入門 ［Windows 10対応版］\n",
      "https://gihyo.jp/dp/ebook/2016/978-4-7741-8325-1 大きな字でわかりやすい 大きな字でわかりやすい ワード2016入門\n",
      "https://gihyo.jp/dp/ebook/2016/978-4-7741-8322-0 大きな字でわかりやすい 大きな字でわかりやすい エクセル2016 入門\n",
      "https://gihyo.jp/dp/ebook/2016/978-4-7741-8323-7 今すぐ使えるかんたん 今すぐ使えるかんたん ぜったいデキます！ デジカメ写真活用術 ［Windows 10対応版］\n",
      "https://gihyo.jp/dp/ebook/2016/978-4-7741-8119-6 Software Design 2016年8月号\n",
      "https://gihyo.jp/dp/ebook/2016/978-4-7741-8333-6 無料ではじめるBlender CGイラストテクニック ～3DCGの考え方としくみがしっかりわかる\n",
      "https://gihyo.jp/dp/ebook/2016/978-4-7741-8324-4 小さなお店＆会社の WordPress超入門 ―初めてでも安心！思いどおりのホームページを作ろう！\n",
      "https://gihyo.jp/dp/ebook/2016/978-4-7741-8302-2 WEB+DB PRESS plus Atom実践入門 ──進化し続けるハッカブルなエディタ\n",
      "https://gihyo.jp/dp/ebook/2016/978-4-7741-8301-5 アウトライナー実践入門 ～「書く・考える・生活する」創造的アウトライン・プロセッシングの技術〜\n",
      "https://gihyo.jp/dp/ebook/2016/978-4-7741-8297-1 ゼロからはじめる ゼロからはじめる ドコモGalaxy S7 edge SC-02H スマートガイド\n",
      "https://gihyo.jp/dp/ebook/2016/978-4-7741-8255-9 Excelのムカムカ！が一瞬でなくなる使い方 ～表計算・資料作成のストレスを最小限に！\n",
      "https://gihyo.jp/dp/ebook/2016/978-4-7741-8258-2 Wordのムカムカ！が一瞬でなくなる使い方 ～文章・資料作成のストレスを最小限に！\n",
      "https://gihyo.jp/dp/ebook/2016/978-4-7741-8319-0 生物ミステリー（生物ミステリー プロ） そもそも島に進化あり\n",
      "https://gihyo.jp/dp/ebook/2016/978-4-7741-8318-3 大人の自由時間（大人の自由時間mini） 山歩きスタートブック ～道具と歩き方がわかる，行きたいコースが見つかる\n",
      "https://gihyo.jp/dp/ebook/2016/978-4-7741-8317-6 平成28-29年度 基本情報技術者 試験によくでる問題集 【午後】\n",
      "https://gihyo.jp/dp/ebook/2016/978-4-7741-8300-8 大人の自由時間（大人の自由時間mini） あきらめないランニング ～楽しいランのはじめかた，続けかた\n",
      "https://gihyo.jp/dp/ebook/2016/978-4-7741-8299-5 Excel＆Access連携 実践ガイド ～仕事の現場で即使える\n",
      "https://gihyo.jp/dp/ebook/2016/978-4-7741-8296-4 大人の自由時間（大人の自由時間mini） もう一度バイクに乗ろう！ ～羨望されるオトナのライダーになりたい人に\n",
      "https://gihyo.jp/dp/ebook/2016/978-4-7741-8292-6 Slack入門 [ChatOpsによるチーム開発の効率化]\n",
      "https://gihyo.jp/dp/ebook/2016/978-4-7741-8273-5 パソコン入門5冊分！ ＜Windows 10入門＋Windows 10活用＋インターネット＆メール＋Word＋Excel＞\n",
      "https://gihyo.jp/dp/ebook/2016/978-4-7741-8295-7 人気ハンドメイド作家になりたい人が読む本\n",
      "https://gihyo.jp/dp/ebook/2016/978-4-7741-8288-9 今すぐ使えるかんたんEx 今すぐ使えるかんたんEx ヤフオク！ 本気で儲ける！ プロ技セレクション\n",
      "https://gihyo.jp/dp/ebook/2016/978-4-7741-8289-6 今すぐ使えるかんたんmini 今すぐ使えるかんたんmini Access 2016 基本技\n",
      "https://gihyo.jp/dp/ebook/2016/978-4-7741-8290-2 ゼロからはじめる ゼロからはじめる OneNote 2016／2013 スマートガイド\n",
      "https://gihyo.jp/dp/ebook/2016/978-4-7741-8291-9 ゼロからはじめる ゼロからはじめる au Galaxy S7 edge SCV33 スマートガイド\n"
     ]
    }
   ],
   "source": [
    "import re\n",
    "from html import unescape\n",
    "\n",
    "# 前節でダウンロードしたファイルを開き、中身を変数htmlに格納する。\n",
    "with open('dp.html') as f:\n",
    "    html = f.read()\n",
    "\n",
    "# re.findall()を使って、書籍1冊に相当する部分のHTMLを取得する。\n",
    "# *?は*と同様だが、なるべく短い文字列にマッチする（non-greedyである）ことを表すメタ文字。\n",
    "for partial_html in re.findall(r'<a itemprop=\"url\".*?</ul>\\s*</a></li>', html, re.DOTALL):\n",
    "    # 書籍のURLは itemprop=\"url\" という属性を持つa要素のhref属性から取得する。\n",
    "    url = re.search(r'<a itemprop=\"url\" href=\"(.*?)\">', partial_html).group(1)\n",
    "    url = 'https://gihyo.jp' + url  # / で始まっているのでドメイン名などを追加する。\n",
    "\n",
    "    # 書籍のタイトルは itemprop=\"name\" という属性を持つp要素から取得する。\n",
    "    title = re.search(r'<p itemprop=\"name\".*?</p>', partial_html).group(0)\n",
    "    title = title.replace('<br/>', ' ')  # <br/>タグをスペースに置き換える。str.replace()は文字列を置換する。\n",
    "    title = re.sub(r'<.*?>', '', title)  # タグを取り除く。\n",
    "    title = unescape(title)  # 文字参照を元に戻す。\n",
    "\n",
    "    print(url, title)\n"
   ]
  },
  {
   "cell_type": "markdown",
   "metadata": {},
   "source": [
    "# XML(RSS)のスクレイピング"
   ]
  },
  {
   "cell_type": "code",
   "execution_count": 2,
   "metadata": {
    "collapsed": false
   },
   "outputs": [
    {
     "name": "stdout",
     "output_type": "stream",
     "text": [
      "--2017-09-28 16:35:13--  http://gihyo.jp/feed/rss2\n",
      "Resolving gihyo.jp... 104.20.34.31, 104.20.33.31, 2400:cb00:2048:1::6814:221f, ...\n",
      "Connecting to gihyo.jp|104.20.34.31|:80... connected.\n",
      "HTTP request sent, awaiting response... 200 OK\n",
      "Length: unspecified [text/xml]\n",
      "Saving to: ‘rss2.xml’\n",
      "\n",
      "rss2.xml                [ <=>                ]  13.23K  --.-KB/s    in 0.005s  \n",
      "\n",
      "2017-09-28 16:35:14 (2.74 MB/s) - ‘rss2.xml’ saved [13549]\n",
      "\n"
     ]
    }
   ],
   "source": [
    "!wget http://gihyo.jp/feed/rss2 -O rss2.xml"
   ]
  },
  {
   "cell_type": "code",
   "execution_count": 3,
   "metadata": {
    "collapsed": false
   },
   "outputs": [
    {
     "name": "stdout",
     "output_type": "stream",
     "text": [
      "ch1_2.ipynb              dp                       rss2.xml\r\n",
      "ch1_3.ipynb              dp.1                     \u001b[34msample.scraping-book.com\u001b[m\u001b[m\r\n",
      "ch1_4.ipynb              dp.html                  \u001b[31myakei_kobe.csv\u001b[m\u001b[m\r\n",
      "ch2_4.ipynb              index.html\r\n",
      "ch2_5.ipynb              index.html.1\r\n"
     ]
    }
   ],
   "source": [
    "!ls"
   ]
  },
  {
   "cell_type": "code",
   "execution_count": 9,
   "metadata": {
    "collapsed": false
   },
   "outputs": [
    {
     "name": "stdout",
     "output_type": "stream",
     "text": [
      "<?xml version=\"1.0\" encoding=\"UTF-8\" ?>\r\n",
      "<rss version=\"2.0\">\r\n",
      "<channel>\r\n",
      " <title>gihyo.jp：総合</title>\r\n",
      " <link>http://gihyo.jp/</link>\r\n",
      " <description>gihyo.jp（総合）の更新情報をお届けします</description>\r\n",
      " <language>ja-jp</language>\r\n",
      " <copyright>技術評論社 2017</copyright>\r\n",
      " <lastBuildDate>Thu, 28 Sep 2017 16:22:00 +0900</lastBuildDate>\r\n",
      " <image>\r\n",
      "  <url>http://gihyo.jp/assets/templates/gihyojp2007/image/header_logo_gihyo.gif</url>\r\n",
      "  <title>gihyo.jp</title>\r\n",
      "  <link>http://gihyo.jp/</link>\r\n",
      " </image>\r\n",
      " <item>\r\n",
      "  <title>2017年9月28日　Ubuntu，Artful Aardvarkで32ビット版サポートを中止へ ── Linux Daily Topics</title>\r\n",
      "  <link>http://gihyo.jp/admin/clip/01/linux_dt/201709/28</link>\r\n",
      "  <description>10月19日リリース予定の「Ubuntu 17.10（開発コード: Artful Aardvark）」では，32ビット（i386）アーキテクチャのインストールイメージを含めないことを開発者向けメーリングリストで明らかにした。</description>\r\n",
      "  <pubDate>Thu, 28 Sep 2017 16:11:00 +0900</pubDate>\r\n",
      "  <category domain=\"http://gihyo.jp/admin/clip/01/linux_dt\">Linux Daily Topics</category>\r\n",
      "  <guid>http://gihyo.jp/admin/clip/01/linux_dt/201709/28</guid> \r\n",
      "  <author>階戸アキラ</author>\r\n",
      " </item>\r\n",
      " <item>\r\n",
      "  <title>2017年9月28日　ご飯屋さんのくろこ ── 技評ねこ部通信</title>\r\n",
      "  <link>http://gihyo.jp/lifestyle/clip/01/everyday-cat/201709/28</link>\r\n",
      "  <description>某ご飯屋さんにご飯をもらいに来るくろこです。</description>\r\n",
      "  <pubDate>Thu, 28 Sep 2017 15:00:00 +0900</pubDate>\r\n",
      "  <category domain=\"http://gihyo.jp/lifestyle/clip/01/everyday-cat\">技評ねこ部通信</category>\r\n",
      "  <guid>http://gihyo.jp/lifestyle/clip/01/everyday-cat/201709/28</guid> \r\n",
      "  <author></author>\r\n",
      " </item>\r\n",
      " <item>\r\n",
      "  <title>HTML5 Conference 2017 基調講演レポート ── レポート</title>\r\n",
      "  <link>http://gihyo.jp/news/report/2017/09/2801</link>\r\n",
      "  <description>9月24日，東京・北千住にある東京電機大学にて，「HTML5 Conference 2017」が開催されました。本稿では，基調講演の模様をレポートします。</description>\r\n",
      "  <pubDate>Thu, 28 Sep 2017 14:08:00 +0900</pubDate>\r\n",
      "  <category domain=\"http://gihyo.jp/news/report\">レポート</category>\r\n",
      "  <guid>http://gihyo.jp/news/report/2017/09/2801</guid> \r\n",
      "  <author>高橋和道</author>\r\n",
      " </item>\r\n",
      " <item>\r\n",
      "  <title>はじめにオートメーションありき ―創業者が語るVagrant，Packerを生んだ&quot;HashiCorpのプリンシプル&quot; ── インタビュー</title>\r\n",
      "  <link>http://gihyo.jp/news/interview/2017/09/2801</link>\r\n",
      "  <description>スタートアップ「HashiCorp」，同社が生み出すプロダクトはなぜこんなにも世界中の開発者から熱狂的に支持されているのか，来日したミッチェル・ハシモト氏に開発理念を中心にお話をうかがいました。</description>\r\n",
      "  <pubDate>Thu, 28 Sep 2017 11:15:00 +0900</pubDate>\r\n",
      "  <category domain=\"http://gihyo.jp/news/interview\">インタビュー</category>\r\n",
      "  <guid>http://gihyo.jp/news/interview/2017/09/2801</guid> \r\n",
      "  <author>五味明子</author>\r\n",
      " </item>\r\n",
      " <item>\r\n",
      "  <title>第38回　2017年9月～今月は脆弱性祭り～どうしてこんなに出てくるのか～ ── インフラセキュリティの処方箋</title>\r\n",
      "  <link>http://gihyo.jp/admin/serial/01/infrasec/0038</link>\r\n",
      "  <description>2017年9月は，かなり深刻な脆弱性が相次いで発見された月でした。中でもApache Tomcatの脆弱性は，相当深刻なレベルのものと理解しています。\r",
      "\r\n",
      "</description>\r\n",
      "  <pubDate>Thu, 28 Sep 2017 09:32:00 +0900</pubDate>\r\n",
      "  <category domain=\"http://gihyo.jp/admin/serial/01/infrasec\">インフラセキュリティの処方箋</category>\r\n",
      "  <guid>http://gihyo.jp/admin/serial/01/infrasec/0038</guid> \r\n",
      "  <author>宮本久仁男</author>\r\n",
      " </item>\r\n",
      " <item>\r\n",
      "  <title>2017年9月第4週号 1位は，実例で学ぶFlexboxの完全ガイド，気になるネタは，GoogleのiOS向けキーボードアプリ「Gboard」，日本語に対応 ── 週刊Webテク通信</title>\r\n",
      "  <link>http://gihyo.jp/design/clip/01/weekly-web-tech/201709/28</link>\r\n",
      "  <description>ネットで見かけたWebテク（Webテクニック・Webテクノロジー）記事から，Webデザイナーの目で厳選したネタを週刊で紹介するこのコーナー。今回は，2017年9月11日～9月24日の間に見つけた記事のベスト5です。</description>\r\n",
      "  <pubDate>Thu, 28 Sep 2017 09:31:00 +0900</pubDate>\r\n",
      "  <category domain=\"http://gihyo.jp/design/clip/01/weekly-web-tech\">週刊Webテク通信</category>\r\n",
      "  <guid>http://gihyo.jp/design/clip/01/weekly-web-tech/201709/28</guid> \r\n",
      "  <author>芦之由</author>\r\n",
      " </item>\r\n",
      " <item>\r\n",
      "  <title>2017年9月第4週　GoogleがHTCのスマホ事業の一部を11億ドルで買収 ── Android Weekly Topics</title>\r\n",
      "  <link>http://gihyo.jp/lifestyle/clip/01/awt/201709/28</link>\r\n",
      "  <description>2017年9月第4週のAndroid関連のニュースをお届けします。</description>\r\n",
      "  <pubDate>Thu, 28 Sep 2017 09:30:00 +0900</pubDate>\r\n",
      "  <category domain=\"http://gihyo.jp/lifestyle/clip/01/awt\">Android Weekly Topics</category>\r\n",
      "  <guid>http://gihyo.jp/lifestyle/clip/01/awt/201709/28</guid> \r\n",
      "  <author>傍島康雄</author>\r\n",
      " </item>\r\n",
      " <item>\r\n",
      "  <title>2017年9月27日　カギしっぽのくろこ ── 技評ねこ部通信</title>\r\n",
      "  <link>http://gihyo.jp/lifestyle/clip/01/everyday-cat/201709/27</link>\r\n",
      "  <description>ねこの曲がったしっぽのことを「カギしっぽ」というそうです。</description>\r\n",
      "  <pubDate>Wed, 27 Sep 2017 15:00:00 +0900</pubDate>\r\n",
      "  <category domain=\"http://gihyo.jp/lifestyle/clip/01/everyday-cat\">技評ねこ部通信</category>\r\n",
      "  <guid>http://gihyo.jp/lifestyle/clip/01/everyday-cat/201709/27</guid> \r\n",
      "  <author></author>\r\n",
      " </item>\r\n",
      " <item>\r\n",
      "  <title>2017年9月27日　Microsoft，Open Source Initiativeのプレミアムスポンサーに ── Linux Daily Topics</title>\r\n",
      "  <link>http://gihyo.jp/admin/clip/01/linux_dt/201709/27</link>\r\n",
      "  <description>Open Source Initiativeは9月26日（米国時間），Microsoftが同イニシアティブにプレミアムスポンサーとして参画することを発表した。</description>\r\n",
      "  <pubDate>Wed, 27 Sep 2017 11:18:00 +0900</pubDate>\r\n",
      "  <category domain=\"http://gihyo.jp/admin/clip/01/linux_dt\">Linux Daily Topics</category>\r\n",
      "  <guid>http://gihyo.jp/admin/clip/01/linux_dt/201709/27</guid> \r\n",
      "  <author>階戸アキラ</author>\r\n",
      " </item>\r\n",
      " <item>\r\n",
      "  <title>第490回　Ubuntu 17.10のGNOME Shell拡張機能 ── Ubuntu Weekly Recipe</title>\r\n",
      "  <link>http://gihyo.jp/admin/serial/01/ubuntu-recipe/0490</link>\r\n",
      "  <description>新たにGNOME Shellを採用するUbuntu 17.10で有効になっているGNOME Shell拡張機能について解説します。</description>\r\n",
      "  <pubDate>Wed, 27 Sep 2017 10:03:00 +0900</pubDate>\r\n",
      "  <category domain=\"http://gihyo.jp/admin/serial/01/ubuntu-recipe\">Ubuntu Weekly Recipe</category>\r\n",
      "  <guid>http://gihyo.jp/admin/serial/01/ubuntu-recipe/0490</guid> \r\n",
      "  <author>あわしろいくや</author>\r\n",
      " </item>\r\n",
      " <item>\r\n",
      "  <title>第151回　ジャンプPAINT by MediBang，Offline Only，Get a new Lens on life ── いま，見ておきたいウェブサイト</title>\r\n",
      "  <link>http://gihyo.jp/design/serial/01/website-pickup/0151</link>\r\n",
      "  <description>穏やかな気温，適度な湿度，気持ちのよい陽の光と，いよいよ秋らしさが日に日に増してきている今日このごろ，皆様いかがお過ごしでしょうか。今回も個人的に感じた，素晴らしいサイトの特徴をいくつかお話したいと思います。</description>\r\n",
      "  <pubDate>Wed, 27 Sep 2017 09:33:00 +0900</pubDate>\r\n",
      "  <category domain=\"http://gihyo.jp/design/serial/01/website-pickup\">いま，見ておきたいウェブサイト</category>\r\n",
      "  <guid>http://gihyo.jp/design/serial/01/website-pickup/0151</guid> \r\n",
      "  <author>Lançamento</author>\r\n",
      " </item>\r\n",
      " <item>\r\n",
      "  <title>第19回　CIツール「Bamboo」で開発プロセスの生産性を上げる（前編） ── うまくいくチーム開発のツール戦略</title>\r\n",
      "  <link>http://gihyo.jp/dev/serial/01/teamdev-toolstrategy/0019</link>\r\n",
      "  <description>今回は継続的インテグレーション（CI）システムに着目し，ビルド／テスト／デプロイといった作業の自動化／省力化，さらに「三種の神器」をすべて連携させることで生産性を向上させる方法について紹介します。</description>\r\n",
      "  <pubDate>Wed, 27 Sep 2017 09:32:00 +0900</pubDate>\r\n",
      "  <category domain=\"http://gihyo.jp/dev/serial/01/teamdev-toolstrategy\">うまくいくチーム開発のツール戦略</category>\r\n",
      "  <guid>http://gihyo.jp/dev/serial/01/teamdev-toolstrategy/0019</guid> \r\n",
      "  <author>河村康博</author>\r\n",
      " </item>\r\n",
      " <item>\r\n",
      "  <title>関数型プログラミングを使いこなす ── 新刊ピックアップ</title>\r\n",
      "  <link>http://gihyo.jp/book/pickup/2017/0084</link>\r\n",
      "  <description>関数型プログラミングと聞いて皆さんは何を思い浮かべるでしょうか？</description>\r\n",
      "  <pubDate>Wed, 27 Sep 2017 09:30:30 +0900</pubDate>\r\n",
      "  <category domain=\"http://gihyo.jp/book/pickup\">新刊ピックアップ</category>\r\n",
      "  <guid>http://gihyo.jp/book/pickup/2017/0084</guid> \r\n",
      "  <author>編集部</author>\r\n",
      " </item>\r\n",
      " <item>\r\n",
      "  <title>PowerPointを効率良く使うには ── 新刊ピックアップ</title>\r\n",
      "  <link>http://gihyo.jp/book/pickup/2017/0083</link>\r\n",
      "  <description>MicrosoftのPowerPointは，プレゼンテーション用のアプリケーションです。</description>\r\n",
      "  <pubDate>Wed, 27 Sep 2017 09:30:00 +0900</pubDate>\r\n",
      "  <category domain=\"http://gihyo.jp/book/pickup\">新刊ピックアップ</category>\r\n",
      "  <guid>http://gihyo.jp/book/pickup/2017/0083</guid> \r\n",
      "  <author>編集部</author>\r\n",
      " </item>\r\n",
      " <item>\r\n",
      "  <title>2017年9月26日　ムキムキのくろこ ── 技評ねこ部通信</title>\r\n",
      "  <link>http://gihyo.jp/lifestyle/clip/01/everyday-cat/201709/26</link>\r\n",
      "  <description>なかなか筋肉隆々なくろこです。</description>\r\n",
      "  <pubDate>Tue, 26 Sep 2017 15:00:00 +0900</pubDate>\r\n",
      "  <category domain=\"http://gihyo.jp/lifestyle/clip/01/everyday-cat\">技評ねこ部通信</category>\r\n",
      "  <guid>http://gihyo.jp/lifestyle/clip/01/everyday-cat/201709/26</guid> \r\n",
      "  <author></author>\r\n",
      " </item>\r\n",
      " <item>\r\n",
      "  <title>サーバ監視の新しいカタチ ── 新刊ピックアップ</title>\r\n",
      "  <link>http://gihyo.jp/book/pickup/2017/0082</link>\r\n",
      "  <description>企業内の業務を支える社内サイト，インターネットに公開するWebサービス，いずれのシステムにおいても，その基礎部分にはWebサーバ（以下サーバ）が存在します。</description>\r\n",
      "  <pubDate>Tue, 26 Sep 2017 09:35:00 +0900</pubDate>\r\n",
      "  <category domain=\"http://gihyo.jp/book/pickup\">新刊ピックアップ</category>\r\n",
      "  <guid>http://gihyo.jp/book/pickup/2017/0082</guid> \r\n",
      "  <author>編集部</author>\r\n",
      " </item>\r\n",
      " <item>\r\n",
      "  <title>キーボード界隈の“濃い”面々が大集合「HHKB20周年記念ユーザーミートアップ」 ── レポート</title>\r\n",
      "  <link>http://gihyo.jp/news/report/2017/09/2501</link>\r\n",
      "  <description>9月23日，秋葉原UDX（東京都千代田区）にて，（株）PFUのコンパクトキーボード「Happy Hacking Keyboard （HHKB）」の発売20周年を記念したイベントが開かれました。</description>\r\n",
      "  <pubDate>Tue, 26 Sep 2017 09:30:00 +0900</pubDate>\r\n",
      "  <category domain=\"http://gihyo.jp/news/report\">レポート</category>\r\n",
      "  <guid>http://gihyo.jp/news/report/2017/09/2501</guid> \r\n",
      "  <author>中田瑛人</author>\r\n",
      " </item>\r\n",
      " <item>\r\n",
      "  <title>2017年9月25日　AppArmorをDebianでもデフォルトに!? ―Tails開発者が提言 ── Linux Daily Topics</title>\r\n",
      "  <link>http://gihyo.jp/admin/clip/01/linux_dt/201709/25</link>\r\n",
      "  <description>UbuntuやFedora，openSUSEなどメジャーなLinuxディストリビューションのほとんどは，何らかのMAC（Mandatory Access Cotnrols: 強制アクセス制御）を実装したセキュリティモジュールをデフォルトで有効化している。</description>\r\n",
      "  <pubDate>Mon, 25 Sep 2017 15:00:00 +0900</pubDate>\r\n",
      "  <category domain=\"http://gihyo.jp/admin/clip/01/linux_dt\">Linux Daily Topics</category>\r\n",
      "  <guid>http://gihyo.jp/admin/clip/01/linux_dt/201709/25</guid> \r\n",
      "  <author>階戸アキラ</author>\r\n",
      " </item>\r\n",
      " <item>\r\n",
      "  <title>2017年9月25日　徳島のくろこ ── 技評ねこ部通信</title>\r\n",
      "  <link>http://gihyo.jp/lifestyle/clip/01/everyday-cat/201709/25</link>\r\n",
      "  <description>島は島でも徳島にいたくろこです。\r",
      "\r\n",
      "</description>\r\n",
      "  <pubDate>Mon, 25 Sep 2017 15:00:00 +0900</pubDate>\r\n",
      "  <category domain=\"http://gihyo.jp/lifestyle/clip/01/everyday-cat\">技評ねこ部通信</category>\r\n",
      "  <guid>http://gihyo.jp/lifestyle/clip/01/everyday-cat/201709/25</guid> \r\n",
      "  <author></author>\r\n",
      " </item>\r\n",
      " <item>\r\n",
      "  <title>第5回　リーダーとマネージャーの違いとは ── エンジニアと経営のクロスオーバー</title>\r\n",
      "  <link>http://gihyo.jp/lifestyle/serial/01/engineer-x-manage/0005</link>\r\n",
      "  <description>リーダーとマネージャーの違いとはなんでしょうか？</description>\r\n",
      "  <pubDate>Mon, 25 Sep 2017 10:06:00 +0900</pubDate>\r\n",
      "  <category domain=\"http://gihyo.jp/lifestyle/serial/01/engineer-x-manage\">エンジニアと経営のクロスオーバー</category>\r\n",
      "  <guid>http://gihyo.jp/lifestyle/serial/01/engineer-x-manage/0005</guid> \r\n",
      "  <author>山崎徳之</author>\r\n",
      " </item>\r\n",
      "</channel>\r\n",
      "</rss>\r\n"
     ]
    }
   ],
   "source": [
    "!cat rss2.xml"
   ]
  },
  {
   "cell_type": "code",
   "execution_count": 4,
   "metadata": {
    "collapsed": true
   },
   "outputs": [],
   "source": [
    "# xml.etree.ElementTree\n",
    "from xml.etree import ElementTree\n",
    "\n",
    "tree = ElementTree.parse('rss2.xml')"
   ]
  },
  {
   "cell_type": "code",
   "execution_count": 6,
   "metadata": {
    "collapsed": false
   },
   "outputs": [
    {
     "data": {
      "text/plain": [
       "xml.etree.ElementTree.ElementTree"
      ]
     },
     "execution_count": 6,
     "metadata": {},
     "output_type": "execute_result"
    }
   ],
   "source": [
    "type(tree)"
   ]
  },
  {
   "cell_type": "code",
   "execution_count": 12,
   "metadata": {
    "collapsed": false
   },
   "outputs": [],
   "source": [
    "root = tree.getroot()"
   ]
  },
  {
   "cell_type": "code",
   "execution_count": 14,
   "metadata": {
    "collapsed": false
   },
   "outputs": [
    {
     "data": {
      "text/plain": [
       "[<Element 'item' at 0x10ff71098>,\n",
       " <Element 'item' at 0x10ff71368>,\n",
       " <Element 'item' at 0x10ff71638>,\n",
       " <Element 'item' at 0x10ff71958>,\n",
       " <Element 'item' at 0x10ff71c78>,\n",
       " <Element 'item' at 0x10ff71f48>,\n",
       " <Element 'item' at 0x10ff74278>,\n",
       " <Element 'item' at 0x10ff74548>,\n",
       " <Element 'item' at 0x10ff74818>,\n",
       " <Element 'item' at 0x10ff74ae8>,\n",
       " <Element 'item' at 0x10ff74db8>,\n",
       " <Element 'item' at 0x10ff780e8>,\n",
       " <Element 'item' at 0x10ff783b8>,\n",
       " <Element 'item' at 0x10ff786d8>,\n",
       " <Element 'item' at 0x10ff789f8>,\n",
       " <Element 'item' at 0x10ff588b8>,\n",
       " <Element 'item' at 0x10ff78c78>,\n",
       " <Element 'item' at 0x10ff78f98>,\n",
       " <Element 'item' at 0x10ff3b2c8>,\n",
       " <Element 'item' at 0x10ff3b598>]"
      ]
     },
     "execution_count": 14,
     "metadata": {},
     "output_type": "execute_result"
    }
   ],
   "source": [
    "root.findall('channel/item')"
   ]
  },
  {
   "cell_type": "code",
   "execution_count": 18,
   "metadata": {
    "collapsed": false
   },
   "outputs": [
    {
     "data": {
      "text/plain": [
       "'2017年9月28日\\u3000Ubuntu，Artful Aardvarkで32ビット版サポートを中止へ ── Linux Daily Topics'"
      ]
     },
     "execution_count": 18,
     "metadata": {},
     "output_type": "execute_result"
    }
   ],
   "source": [
    "root.findall('channel/item')[0].find('title').text"
   ]
  },
  {
   "cell_type": "code",
   "execution_count": 21,
   "metadata": {
    "collapsed": false
   },
   "outputs": [
    {
     "name": "stdout",
     "output_type": "stream",
     "text": [
      "http://gihyo.jp/admin/clip/01/linux_dt/201709/28 2017年9月28日　Ubuntu，Artful Aardvarkで32ビット版サポートを中止へ ── Linux Daily Topics\n",
      "http://gihyo.jp/lifestyle/clip/01/everyday-cat/201709/28 2017年9月28日　ご飯屋さんのくろこ ── 技評ねこ部通信\n",
      "http://gihyo.jp/news/report/2017/09/2801 HTML5 Conference 2017 基調講演レポート ── レポート\n",
      "http://gihyo.jp/news/interview/2017/09/2801 はじめにオートメーションありき ―創業者が語るVagrant，Packerを生んだ\"HashiCorpのプリンシプル\" ── インタビュー\n",
      "http://gihyo.jp/admin/serial/01/infrasec/0038 第38回　2017年9月～今月は脆弱性祭り～どうしてこんなに出てくるのか～ ── インフラセキュリティの処方箋\n",
      "http://gihyo.jp/design/clip/01/weekly-web-tech/201709/28 2017年9月第4週号 1位は，実例で学ぶFlexboxの完全ガイド，気になるネタは，GoogleのiOS向けキーボードアプリ「Gboard」，日本語に対応 ── 週刊Webテク通信\n",
      "http://gihyo.jp/lifestyle/clip/01/awt/201709/28 2017年9月第4週　GoogleがHTCのスマホ事業の一部を11億ドルで買収 ── Android Weekly Topics\n",
      "http://gihyo.jp/lifestyle/clip/01/everyday-cat/201709/27 2017年9月27日　カギしっぽのくろこ ── 技評ねこ部通信\n",
      "http://gihyo.jp/admin/clip/01/linux_dt/201709/27 2017年9月27日　Microsoft，Open Source Initiativeのプレミアムスポンサーに ── Linux Daily Topics\n",
      "http://gihyo.jp/admin/serial/01/ubuntu-recipe/0490 第490回　Ubuntu 17.10のGNOME Shell拡張機能 ── Ubuntu Weekly Recipe\n",
      "http://gihyo.jp/design/serial/01/website-pickup/0151 第151回　ジャンプPAINT by MediBang，Offline Only，Get a new Lens on life ── いま，見ておきたいウェブサイト\n",
      "http://gihyo.jp/dev/serial/01/teamdev-toolstrategy/0019 第19回　CIツール「Bamboo」で開発プロセスの生産性を上げる（前編） ── うまくいくチーム開発のツール戦略\n",
      "http://gihyo.jp/book/pickup/2017/0084 関数型プログラミングを使いこなす ── 新刊ピックアップ\n",
      "http://gihyo.jp/book/pickup/2017/0083 PowerPointを効率良く使うには ── 新刊ピックアップ\n",
      "http://gihyo.jp/lifestyle/clip/01/everyday-cat/201709/26 2017年9月26日　ムキムキのくろこ ── 技評ねこ部通信\n",
      "http://gihyo.jp/book/pickup/2017/0082 サーバ監視の新しいカタチ ── 新刊ピックアップ\n",
      "http://gihyo.jp/news/report/2017/09/2501 キーボード界隈の“濃い”面々が大集合「HHKB20周年記念ユーザーミートアップ」 ── レポート\n",
      "http://gihyo.jp/admin/clip/01/linux_dt/201709/25 2017年9月25日　AppArmorをDebianでもデフォルトに!? ―Tails開発者が提言 ── Linux Daily Topics\n",
      "http://gihyo.jp/lifestyle/clip/01/everyday-cat/201709/25 2017年9月25日　徳島のくろこ ── 技評ねこ部通信\n",
      "http://gihyo.jp/lifestyle/serial/01/engineer-x-manage/0005 第5回　リーダーとマネージャーの違いとは ── エンジニアと経営のクロスオーバー\n"
     ]
    }
   ],
   "source": [
    "for item in root.findall('channel/item'):\n",
    "    title = item.find('title').text\n",
    "    url = item.find('link').text\n",
    "    print(url,title)"
   ]
  }
 ],
 "metadata": {
  "kernelspec": {
   "display_name": "Python 3",
   "language": "python",
   "name": "python3"
  },
  "language_info": {
   "codemirror_mode": {
    "name": "ipython",
    "version": 3
   },
   "file_extension": ".py",
   "mimetype": "text/x-python",
   "name": "python",
   "nbconvert_exporter": "python",
   "pygments_lexer": "ipython3",
   "version": "3.6.0"
  }
 },
 "nbformat": 4,
 "nbformat_minor": 2
}

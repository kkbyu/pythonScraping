{
 "cells": [
  {
   "cell_type": "markdown",
   "metadata": {},
   "source": [
    "# Amazonの商品情報の収集\n",
    "\n",
    "### Product Advertising API\n",
    "https://affiliate.amazon.co.jp/gp/advertising/api/detail/main.html\n",
    "\n",
    "(Amazon.comのアカウントが必要)\n",
    "\n",
    "・APIを呼び出す際には、SecretAccessKeyを秘密鍵としてHMAC-SHA256というアルゴリズムで生成した署名が必要"
   ]
  },
  {
   "cell_type": "markdown",
   "metadata": {},
   "source": [
    "### Python-amazon-simple-product-api\n",
    "https://pypi.python.org/pypi/python-amazon-simple-product-api"
   ]
  },
  {
   "cell_type": "markdown",
   "metadata": {},
   "source": [
    "# APIの制限\n",
    "基本的に１秒間に一回のみの呼び出し。\n",
    "\n",
    "## AmazonProductオブジェクト\n",
    "```\n",
    "title \n",
    "offer_url\n",
    "price_and_currency\n",
    "asin\n",
    "large_image_url\n",
    "medium_image_url\n",
    "small_image_url\n",
    "authors\n",
    "publisher\n",
    "isbn\n",
    "```"
   ]
  },
  {
   "cell_type": "code",
   "execution_count": 1,
   "metadata": {
    "collapsed": false
   },
   "outputs": [
    {
     "name": "stdout",
     "output_type": "stream",
     "text": [
      "Requirement already satisfied: python-amazon-simple-product-api in /Users/kkb/.pyenv/versions/anaconda3-4.3.1/lib/python3.6/site-packages\n",
      "Requirement already satisfied: lxml in /Users/kkb/.pyenv/versions/anaconda3-4.3.1/lib/python3.6/site-packages (from python-amazon-simple-product-api)\n",
      "Requirement already satisfied: bottlenose in /Users/kkb/.pyenv/versions/anaconda3-4.3.1/lib/python3.6/site-packages (from python-amazon-simple-product-api)\n",
      "Requirement already satisfied: python-dateutil in /Users/kkb/.pyenv/versions/anaconda3-4.3.1/lib/python3.6/site-packages (from python-amazon-simple-product-api)\n",
      "Requirement already satisfied: six>=1.5 in /Users/kkb/.pyenv/versions/anaconda3-4.3.1/lib/python3.6/site-packages (from python-dateutil->python-amazon-simple-product-api)\n"
     ]
    }
   ],
   "source": [
    "!pip install python-amazon-simple-product-api"
   ]
  },
  {
   "cell_type": "code",
   "execution_count": 2,
   "metadata": {
    "collapsed": false
   },
   "outputs": [
    {
     "name": "stdout",
     "output_type": "stream",
     "text": [
      "import os\r\n",
      "\r\n",
      "from amazon.api import AmazonAPI  # pip install python-amazon-simple-product-api\r\n",
      "\r\n",
      "# 環境変数から認証情報を取得する。\r\n",
      "AMAZON_ACCESS_KEY = os.environ['AMAZON_ACCESS_KEY']\r\n",
      "AMAZON_SECRET_KEY = os.environ['AMAZON_SECRET_KEY']\r\n",
      "AMAZON_ASSOCIATE_TAG = os.environ['AMAZON_ASSOCIATE_TAG']\r\n",
      "\r\n",
      "# AmazonAPIオブジェクトを作成する。キーワード引数Regionに'JP'を指定し、Amazon.co.jpを選択する。\r\n",
      "amazon = AmazonAPI(AMAZON_ACCESS_KEY, AMAZON_SECRET_KEY, AMAZON_ASSOCIATE_TAG, Region='JP')\r\n",
      "\r\n",
      "# search()メソッドでItemSearch操作を使い、商品情報を検索する。\r\n",
      "# キーワード引数Keywordsで検索語句を、SearchIndexで検索対象とする商品のカテゴリを指定する。\r\n",
      "# SearchIndex='All'はすべてのカテゴリから検索することを意味する。\r\n",
      "products = amazon.search(Keywords='kindle', SearchIndex='All')\r\n",
      "\r\n",
      "for product in products:  # 得られた商品（AmazonProductオブジェクト）について反復する。\r\n",
      "    print(product.title)      # 商品名を表示。\r\n",
      "    print(product.offer_url)  # 商品のURLを表示。\r\n",
      "    price, currency = product.price_and_currency\r\n",
      "    print(price, currency)    # 価格と通貨を表示。\r\n"
     ]
    }
   ],
   "source": [
    "!cat ../sample_codes/5-2/amazon_product_search.py"
   ]
  },
  {
   "cell_type": "code",
   "execution_count": null,
   "metadata": {
    "collapsed": false
   },
   "outputs": [],
   "source": [
    "#!forego run python ../sample_codes/5-2/amazon_product_search.py"
   ]
  }
 ],
 "metadata": {
  "kernelspec": {
   "display_name": "Python 3",
   "language": "python",
   "name": "python3"
  },
  "language_info": {
   "codemirror_mode": {
    "name": "ipython",
    "version": 3
   },
   "file_extension": ".py",
   "mimetype": "text/x-python",
   "name": "python",
   "nbconvert_exporter": "python",
   "pygments_lexer": "ipython3",
   "version": "3.6.0"
  }
 },
 "nbformat": 4,
 "nbformat_minor": 2
}
